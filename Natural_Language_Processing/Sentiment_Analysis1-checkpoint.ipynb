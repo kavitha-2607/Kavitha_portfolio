{
 "cells": [
  {
   "cell_type": "markdown",
   "id": "097356f1",
   "metadata": {},
   "source": [
    "## Importing packages"
   ]
  },
  {
   "cell_type": "code",
   "execution_count": 1,
   "id": "d6a58000",
   "metadata": {},
   "outputs": [],
   "source": [
    "import pandas as pd\n",
    "import numpy as np\n",
    "import bz2\n",
    "%matplotlib inline"
   ]
  },
  {
   "cell_type": "markdown",
   "id": "4d93903b",
   "metadata": {},
   "source": [
    "## Read the data"
   ]
  },
  {
   "cell_type": "code",
   "execution_count": 2,
   "id": "815ee8ed",
   "metadata": {},
   "outputs": [],
   "source": [
    "bz_file = bz2.BZ2File(r\"E:\\Machine Learning Project\\archive (4)\\train.ft.txt.bz2\")\n",
    "line_list = bz_file.readlines()\n",
    "data_or = [x.decode('utf-8') for x in line_list]\n"
   ]
  },
  {
   "cell_type": "code",
   "execution_count": 3,
   "id": "312b1893",
   "metadata": {},
   "outputs": [],
   "source": [
    "size = int(len(data_or) * 0.05)"
   ]
  },
  {
   "cell_type": "code",
   "execution_count": 4,
   "id": "d44d578d",
   "metadata": {},
   "outputs": [
    {
     "data": {
      "text/plain": [
       "180000"
      ]
     },
     "execution_count": 4,
     "metadata": {},
     "output_type": "execute_result"
    }
   ],
   "source": [
    "size"
   ]
  },
  {
   "cell_type": "code",
   "execution_count": 5,
   "id": "63194315",
   "metadata": {},
   "outputs": [],
   "source": [
    "data = data_or "
   ]
  },
  {
   "cell_type": "code",
   "execution_count": 6,
   "id": "e052319b",
   "metadata": {},
   "outputs": [
    {
     "data": {
      "text/plain": [
       "'!\"#$%&\\'()*+,-./:;<=>?@[\\\\]^_`{|}~'"
      ]
     },
     "execution_count": 6,
     "metadata": {},
     "output_type": "execute_result"
    }
   ],
   "source": [
    "import string\n",
    "string.punctuation"
   ]
  },
  {
   "cell_type": "code",
   "execution_count": 7,
   "id": "5908bb12",
   "metadata": {},
   "outputs": [],
   "source": [
    "label_list = [x.split()[0] for x in data]\n",
    "label_code = [int(label_list[i][-1]) for i in range(len(label_list))]\n",
    "word_list = [x.strip() for x in data]\n",
    "word_list = [x[11:] for x in word_list]\n",
    "word_list = [str(x) for x in word_list]"
   ]
  },
  {
   "cell_type": "code",
   "execution_count": 8,
   "id": "127a6738",
   "metadata": {},
   "outputs": [],
   "source": [
    "df = pd.DataFrame()\n",
    "df['review'] = word_list\n",
    "df['label'] = label_code"
   ]
  },
  {
   "cell_type": "code",
   "execution_count": 9,
   "id": "c3068c84",
   "metadata": {},
   "outputs": [],
   "source": [
    "positive_reviews = df.loc[df['label'] == 2, 'review'].to_list()"
   ]
  },
  {
   "cell_type": "code",
   "execution_count": 10,
   "id": "f8aaca3b",
   "metadata": {},
   "outputs": [],
   "source": [
    "negative_reviews = df.loc[df['label'] == 1, 'review'].to_list()"
   ]
  },
  {
   "cell_type": "code",
   "execution_count": 11,
   "id": "251308a4",
   "metadata": {},
   "outputs": [],
   "source": [
    "positive_rvs = positive_reviews[:9000]\n",
    "negative_rvs = negative_reviews[:9000]\n",
    "word_list = positive_rvs + negative_rvs"
   ]
  },
  {
   "cell_type": "code",
   "execution_count": 12,
   "id": "cc9d82d8",
   "metadata": {},
   "outputs": [],
   "source": [
    "train_y = np.append(np.ones((len(positive_rvs))), np.zeros((len(negative_rvs))), axis = 0)\n"
   ]
  },
  {
   "cell_type": "code",
   "execution_count": 13,
   "id": "904c3235",
   "metadata": {},
   "outputs": [
    {
     "data": {
      "text/plain": [
       "(18000,)"
      ]
     },
     "execution_count": 13,
     "metadata": {},
     "output_type": "execute_result"
    }
   ],
   "source": [
    "train_y.shape"
   ]
  },
  {
   "cell_type": "code",
   "execution_count": 14,
   "id": "8d1ba16a",
   "metadata": {},
   "outputs": [],
   "source": [
    "df = pd.DataFrame()"
   ]
  },
  {
   "cell_type": "code",
   "execution_count": 15,
   "id": "50257787",
   "metadata": {},
   "outputs": [],
   "source": [
    "df['reviews'] = word_list"
   ]
  },
  {
   "cell_type": "code",
   "execution_count": 16,
   "id": "dcb1746d",
   "metadata": {},
   "outputs": [],
   "source": [
    "import re\n",
    "def decontracted(phrase):\n",
    "    # specific\n",
    "    phrase = re.sub(r\"won\\'t\", \"will not\", phrase)\n",
    "    phrase = re.sub(r\"can\\'t\", \"can not\", phrase)\n",
    "\n",
    "    # general\n",
    "    phrase = re.sub(r\"n\\'t\", \" not\", phrase)\n",
    "    phrase = re.sub(r\"\\'re\", \" are\", phrase)\n",
    "    phrase = re.sub(r\"\\'s\", \" is\", phrase)\n",
    "    phrase = re.sub(r\"\\'d\", \" would\", phrase)\n",
    "    phrase = re.sub(r\"\\'ll\", \" will\", phrase)\n",
    "    phrase = re.sub(r\"\\'t\", \" not\", phrase)\n",
    "    phrase = re.sub(r\"\\'ve\", \" have\", phrase)\n",
    "    phrase = re.sub(r\"\\'m\", \" am\", phrase)\n",
    "    return phrase"
   ]
  },
  {
   "cell_type": "markdown",
   "id": "918a5de5",
   "metadata": {},
   "source": [
    "## Preprocessing Data"
   ]
  },
  {
   "cell_type": "code",
   "execution_count": 17,
   "id": "2247bbcc",
   "metadata": {},
   "outputs": [],
   "source": [
    "import spacy\n",
    "\n",
    "#loading the english language small model of spacy\n",
    "en = spacy.load('en_core_web_sm')\n",
    "sw_spacy = en.Defaults.stop_words"
   ]
  },
  {
   "cell_type": "code",
   "execution_count": 18,
   "id": "687e8d07",
   "metadata": {},
   "outputs": [],
   "source": [
    "def remove_stop_words(text):\n",
    "    words = []\n",
    "    words = [word for word in text.split() if word.lower() not in sw_spacy]\n",
    "    new_text = \" \".join(words)\n",
    "    return new_text"
   ]
  },
  {
   "cell_type": "code",
   "execution_count": 19,
   "id": "120d1b5c",
   "metadata": {},
   "outputs": [
    {
     "data": {
      "text/plain": [
       "'!\"#$%&\\'()*+,-./:;<=>?@[\\\\]^_`{|}~'"
      ]
     },
     "execution_count": 19,
     "metadata": {},
     "output_type": "execute_result"
    }
   ],
   "source": [
    "import string\n",
    "string.punctuation"
   ]
  },
  {
   "cell_type": "code",
   "execution_count": 20,
   "id": "fa10dcd8",
   "metadata": {},
   "outputs": [],
   "source": [
    "def remove_punctuation(text):\n",
    "    punctuationfree=\"\".join([i for i in text if i not in '!\"#$%&\\'()*+,./:;<=>?@[\\\\]^_`{|}~'])\n",
    "    return punctuationfree"
   ]
  },
  {
   "cell_type": "code",
   "execution_count": 21,
   "id": "3b6cd715",
   "metadata": {},
   "outputs": [],
   "source": [
    "import re\n",
    "from collections import Counter\n",
    "from spellchecker import SpellChecker\n",
    "\n",
    "spelling = SpellChecker()\n",
    "\n",
    "def words(text): return re.findall(r'\\w+', text.lower())\n",
    "\n",
    "WORDS = Counter(words(open(r\"E:\\Machine Learning Project\\big.txt\").read()))\n",
    "\n",
    "def P(word, N=sum(WORDS.values())): \n",
    "    \"Probability of `word`.\"\n",
    "    return WORDS[word] / N\n",
    "\n",
    "def correction(word): \n",
    "    \"Most probable spelling correction for word.\"\n",
    "    return max(candidates(word), key=P)\n",
    "\n",
    "def candidates(word): \n",
    "    \"Generate possible spelling corrections for word.\"\n",
    "    return (known([word]) or known(edits1(word)) or known(edits2(word)) or [word])\n",
    "\n",
    "def known(words): \n",
    "    \"The subset of `words` that appear in the dictionary of WORDS.\"\n",
    "    return set(w for w in words if w in WORDS)\n",
    "\n",
    "def edits1(word):\n",
    "    \"All edits that are one edit away from `word`.\"\n",
    "    letters    = 'abcdefghijklmnopqrstuvwxyz'\n",
    "    splits     = [(word[:i], word[i:])    for i in range(len(word) + 1)]\n",
    "    deletes    = [L + R[1:]               for L, R in splits if R]\n",
    "    transposes = [L + R[1] + R[0] + R[2:] for L, R in splits if len(R)>1]\n",
    "    replaces   = [L + c + R[1:]           for L, R in splits if R for c in letters]\n",
    "    inserts    = [L + c + R               for L, R in splits for c in letters]\n",
    "    return set(deletes + transposes + replaces + inserts)\n",
    "\n",
    "def edits2(word): \n",
    "    \"All edits that are two edits away from `word`.\"\n",
    "    return (e2 for e1 in edits1(word) for e2 in edits1(e1))\n",
    "def spelling_checks(text):\n",
    "    correct_result = []\n",
    "    typo_words = spelling.unknown(text.split())\n",
    "    for word in text.split():\n",
    "        if word in typo_words:\n",
    "            correct_word = spelling.correction(word)\n",
    "            if correct_word != None:\n",
    "                correct_result.append(correct_word)\n",
    "            else:\n",
    "                correct_result.append(correction(word))\n",
    "        else:\n",
    "            correct_result.append(word)\n",
    "    return \" \".join(correct_result)\n",
    "\n"
   ]
  },
  {
   "cell_type": "code",
   "execution_count": 22,
   "id": "9499ef9d",
   "metadata": {},
   "outputs": [],
   "source": [
    "def Negation(sentence):\t\n",
    "    temp = int(0)\n",
    "    for i in range(len(sentence)):\n",
    "        if sentence[i-1] in ['not',\"n't\", 'nothing']:\n",
    "            antonyms = []\n",
    "            for syn in wordnet.synsets(sentence[i]):\n",
    "                syns = wordnet.synsets(sentence[i])\n",
    "                w1 = syns[0].name()\n",
    "                temp = 0\n",
    "                for l in syn.lemmas():\n",
    "                    if l.antonyms():\n",
    "                        antonyms.append(l.antonyms()[0].name())\n",
    "                max_dissimilarity = 0\n",
    "                for ant in antonyms:\n",
    "                    syns = wordnet.synsets(ant)\n",
    "                    w2 = syns[0].name()\n",
    "                    syns = wordnet.synsets(sentence[i])\n",
    "                    w1 = syns[0].name()\n",
    "                    word1 = wordnet.synset(w1)\n",
    "                    word2 = wordnet.synset(w2)\n",
    "                    if isinstance(word1.wup_similarity(word2), float) or isinstance(word1.wup_similarity(word2), int):\n",
    "                          temp = 1 - word1.wup_similarity(word2)\n",
    "                    if temp>max_dissimilarity:\n",
    "                            max_dissimilarity = temp\n",
    "                            antonym_max = ant\n",
    "                            sentence[i] = antonym_max\n",
    "                            sentence[i-1] = ''\n",
    "    while '' in sentence:\n",
    "        sentence.remove('')\n",
    "    return sentence"
   ]
  },
  {
   "cell_type": "code",
   "execution_count": 23,
   "id": "ffc4c6b0",
   "metadata": {},
   "outputs": [
    {
     "name": "stderr",
     "output_type": "stream",
     "text": [
      "[nltk_data] Downloading package wordnet to\n",
      "[nltk_data]     C:\\Users\\kavit\\AppData\\Roaming\\nltk_data...\n",
      "[nltk_data]   Package wordnet is already up-to-date!\n",
      "[nltk_data] Downloading package omw-1.4 to\n",
      "[nltk_data]     C:\\Users\\kavit\\AppData\\Roaming\\nltk_data...\n",
      "[nltk_data]   Package omw-1.4 is already up-to-date!\n"
     ]
    }
   ],
   "source": [
    "import nltk\n",
    "from nltk.stem import PorterStemmer\n",
    "from nltk.tokenize import word_tokenize\n",
    "from spellchecker import SpellChecker\n",
    "from nltk.stem import WordNetLemmatizer\n",
    "nltk.download(\"wordnet\")\n",
    "nltk.download(\"omw-1.4\")\n",
    "from string import digits\n",
    "\n",
    "  \n",
    "\n",
    "def preprocess_text(text):\n",
    "    text = re.sub(r' +', \" \", text) #remove extra spaces between text\n",
    "    text = text.lower() # turn all text to lower case\n",
    "    text = decontracted(text) #expand contractions in the text\n",
    "    text = re.sub(r'[0-9]+', '<NUMBER>', text) #replace digits with a <NUMBER> tag\n",
    "    remove_digits = str.maketrans('', '', digits)\n",
    "    res = text.translate(remove_digits) #remove digits in text string \n",
    "    text = re.sub(r'http\\S+', '', res) #remove URL's\n",
    "    text = re.sub(r'[\\\\/]+', ' ', text) \n",
    "    text = re.sub(r'[.]+', '. ', text) # replace period with space after the period\n",
    "    words = word_tokenize(text)\n",
    "    typo_words = spelling.unknown(words) # do a spell check and get the words that are incorrectly spelled \n",
    "    words = [spelling_checks(word) if word in typo_words else word for word in words] #correct the incorrectly spelt words\n",
    "    words = Negation(words)\n",
    "    words = [word for word in words if word not in sw_spacy ] #remove stop words\n",
    "    words = [remove_punctuation(word) for word in words] #remove punctuation\n",
    "    lemmatiser = WordNetLemmatizer()\n",
    "    words_stem = [lemmatiser.lemmatize(word) if word != '<NUMBER>' else word for word in words] #stem words\n",
    "    words_stem = [word for word in words_stem if word] #remove empty strings\n",
    "    return words_stem"
   ]
  },
  {
   "cell_type": "code",
   "execution_count": 24,
   "id": "0d2a0fed",
   "metadata": {},
   "outputs": [],
   "source": [
    "from nltk.corpus import wordnet "
   ]
  },
  {
   "cell_type": "code",
   "execution_count": 25,
   "id": "0f2b0557",
   "metadata": {},
   "outputs": [],
   "source": [
    "words = word_tokenize('nothing interesting')"
   ]
  },
  {
   "cell_type": "code",
   "execution_count": 26,
   "id": "0723d94f",
   "metadata": {},
   "outputs": [
    {
     "data": {
      "text/plain": [
       "['uninteresting']"
      ]
     },
     "execution_count": 26,
     "metadata": {},
     "output_type": "execute_result"
    }
   ],
   "source": [
    "Negation(words)"
   ]
  },
  {
   "cell_type": "code",
   "execution_count": 27,
   "id": "05fefd5e",
   "metadata": {},
   "outputs": [
    {
     "data": {
      "text/plain": [
       "18000"
      ]
     },
     "execution_count": 27,
     "metadata": {},
     "output_type": "execute_result"
    }
   ],
   "source": [
    "len(word_list)"
   ]
  },
  {
   "cell_type": "code",
   "execution_count": 30,
   "id": "1b60b9d5",
   "metadata": {},
   "outputs": [],
   "source": [
    "#clean_txt_l = []\n",
    "#for review in word_list:\n",
    "    #clean_text = preprocess_text(review)\n",
    "    #clean_txt_l.append(clean_text)\n",
    "    "
   ]
  },
  {
   "cell_type": "code",
   "execution_count": 31,
   "id": "d0fa0f74",
   "metadata": {},
   "outputs": [],
   "source": [
    "#clean_txt_l[:5]"
   ]
  },
  {
   "cell_type": "code",
   "execution_count": null,
   "id": "f0ecf128",
   "metadata": {},
   "outputs": [],
   "source": [
    "#df['lemmatised'] = [' '.join(lst) for lst in clean_txt_l]"
   ]
  },
  {
   "cell_type": "code",
   "execution_count": null,
   "id": "e37abfe9",
   "metadata": {},
   "outputs": [],
   "source": [
    "#df.head()"
   ]
  },
  {
   "cell_type": "code",
   "execution_count": null,
   "id": "15f12322",
   "metadata": {},
   "outputs": [],
   "source": [
    "#df['clean_text'] = [' '.join(lst) for lst in clean_text]"
   ]
  },
  {
   "cell_type": "code",
   "execution_count": null,
   "id": "69fb7261",
   "metadata": {},
   "outputs": [],
   "source": [
    "#df.to_csv(r'E:\\Natural Language Processesing\\clean_txt.csv')"
   ]
  },
  {
   "cell_type": "code",
   "execution_count": null,
   "id": "f619580f",
   "metadata": {},
   "outputs": [],
   "source": [
    "#df = pd.read_csv(r\"E:\\Natural Language Processesing\\clean_txt.csv\")"
   ]
  },
  {
   "cell_type": "code",
   "execution_count": 44,
   "id": "b7660d3c",
   "metadata": {},
   "outputs": [],
   "source": [
    "#df['tokenize'] = [x.split() for x in df['clean_text']]"
   ]
  },
  {
   "cell_type": "code",
   "execution_count": 47,
   "id": "565e70b0",
   "metadata": {},
   "outputs": [],
   "source": [
    "def word_count(word_list, label_code):\n",
    "    labels = list(label_code)\n",
    "    word_count = {}\n",
    "    i = 0\n",
    "    for label, text in zip(labels, word_list):\n",
    "        for word in preprocess_text(text):\n",
    "            print(word)\n",
    "            pair = (word, label)\n",
    "            word_count[pair] = word_count.get(pair, 0) + 1\n",
    "    return word_count\n",
    "        "
   ]
  },
  {
   "cell_type": "code",
   "execution_count": 48,
   "id": "ba4d65ab",
   "metadata": {},
   "outputs": [
    {
     "data": {
      "text/plain": [
       "array([1., 1., 1., ..., 0., 0., 0.])"
      ]
     },
     "execution_count": 48,
     "metadata": {},
     "output_type": "execute_result"
    }
   ],
   "source": [
    "train_y"
   ]
  },
  {
   "cell_type": "code",
   "execution_count": 96,
   "id": "b6269cb3",
   "metadata": {},
   "outputs": [],
   "source": [
    "labels = list(train_y)"
   ]
  },
  {
   "cell_type": "code",
   "execution_count": 51,
   "id": "3e45eb57",
   "metadata": {},
   "outputs": [],
   "source": [
    "#lemma_count = word_count(word_list, labels)"
   ]
  },
  {
   "cell_type": "code",
   "execution_count": 52,
   "id": "819099b9",
   "metadata": {},
   "outputs": [],
   "source": [
    "#word_counts= word_count(word_list, train_y)"
   ]
  },
  {
   "cell_type": "code",
   "execution_count": 32,
   "id": "0828aa67",
   "metadata": {},
   "outputs": [],
   "source": [
    "import pickle\n",
    "\n",
    "\n",
    "with open(r'E:\\Natural Language Processesing\\word_counts_data.pkl', 'rb') as f:\n",
    "    word_counts = pickle.load(f)"
   ]
  },
  {
   "cell_type": "code",
   "execution_count": 33,
   "id": "7539d03e",
   "metadata": {},
   "outputs": [
    {
     "data": {
      "text/plain": [
       "0"
      ]
     },
     "execution_count": 33,
     "metadata": {},
     "output_type": "execute_result"
    }
   ],
   "source": [
    "Counter(word_counts).most_common()[:10]\n",
    "word_counts.pop(('number', 1))\n",
    "word_counts.pop(('number', 0))\n",
    "word_counts.pop('-', 1)\n",
    "word_counts.pop('-', 0)"
   ]
  },
  {
   "cell_type": "code",
   "execution_count": 34,
   "id": "e1b46fdc",
   "metadata": {},
   "outputs": [
    {
     "data": {
      "text/plain": [
       "18000"
      ]
     },
     "execution_count": 34,
     "metadata": {},
     "output_type": "execute_result"
    }
   ],
   "source": [
    "len(train_y)"
   ]
  },
  {
   "cell_type": "code",
   "execution_count": 140,
   "id": "19579876",
   "metadata": {},
   "outputs": [],
   "source": [
    "#word_counts"
   ]
  },
  {
   "cell_type": "code",
   "execution_count": 37,
   "id": "f8b3e5d0",
   "metadata": {},
   "outputs": [],
   "source": [
    "df = pd.read_csv(r\"E:\\Natural Language Processesing\\clean_txt.csv\")"
   ]
  },
  {
   "cell_type": "code",
   "execution_count": 38,
   "id": "382470c3",
   "metadata": {},
   "outputs": [
    {
     "data": {
      "text/html": [
       "<div>\n",
       "<style scoped>\n",
       "    .dataframe tbody tr th:only-of-type {\n",
       "        vertical-align: middle;\n",
       "    }\n",
       "\n",
       "    .dataframe tbody tr th {\n",
       "        vertical-align: top;\n",
       "    }\n",
       "\n",
       "    .dataframe thead th {\n",
       "        text-align: right;\n",
       "    }\n",
       "</style>\n",
       "<table border=\"1\" class=\"dataframe\">\n",
       "  <thead>\n",
       "    <tr style=\"text-align: right;\">\n",
       "      <th></th>\n",
       "      <th>Unnamed: 0.1</th>\n",
       "      <th>Unnamed: 0</th>\n",
       "      <th>reviews</th>\n",
       "      <th>clean_text</th>\n",
       "      <th>postive_count</th>\n",
       "      <th>negative_count</th>\n",
       "      <th>label</th>\n",
       "      <th>lemmatised</th>\n",
       "    </tr>\n",
       "  </thead>\n",
       "  <tbody>\n",
       "    <tr>\n",
       "      <th>0</th>\n",
       "      <td>0</td>\n",
       "      <td>0</td>\n",
       "      <td>Stuning even for the non-gamer: This sound tra...</td>\n",
       "      <td>stun non-gam sound track beauti paint sceneri ...</td>\n",
       "      <td>12875</td>\n",
       "      <td>10457</td>\n",
       "      <td>1.0</td>\n",
       "      <td>stunning non-gamer sound track beautiful paint...</td>\n",
       "    </tr>\n",
       "    <tr>\n",
       "      <th>1</th>\n",
       "      <td>1</td>\n",
       "      <td>1</td>\n",
       "      <td>The best soundtrack ever to anything.: I'm rea...</td>\n",
       "      <td>best soundtrack read lot review say best game ...</td>\n",
       "      <td>20553</td>\n",
       "      <td>17132</td>\n",
       "      <td>1.0</td>\n",
       "      <td>best soundtrack reading lot review saying best...</td>\n",
       "    </tr>\n",
       "    <tr>\n",
       "      <th>2</th>\n",
       "      <td>2</td>\n",
       "      <td>2</td>\n",
       "      <td>Amazing!: This soundtrack is my favorite music...</td>\n",
       "      <td>amaz soundtrack favorit music time hand intens...</td>\n",
       "      <td>34847</td>\n",
       "      <td>32896</td>\n",
       "      <td>1.0</td>\n",
       "      <td>amazing soundtrack favorite music time hand in...</td>\n",
       "    </tr>\n",
       "    <tr>\n",
       "      <th>3</th>\n",
       "      <td>3</td>\n",
       "      <td>3</td>\n",
       "      <td>Excellent Soundtrack: I truly like this soundt...</td>\n",
       "      <td>excel soundtrack truli like soundtrack enjoy v...</td>\n",
       "      <td>29606</td>\n",
       "      <td>24067</td>\n",
       "      <td>1.0</td>\n",
       "      <td>excellent soundtrack truly like soundtrack enj...</td>\n",
       "    </tr>\n",
       "    <tr>\n",
       "      <th>4</th>\n",
       "      <td>4</td>\n",
       "      <td>4</td>\n",
       "      <td>Remember, Pull Your Jaw Off The Floor After He...</td>\n",
       "      <td>rememb pull jaw floor hear play game know divi...</td>\n",
       "      <td>19304</td>\n",
       "      <td>15034</td>\n",
       "      <td>1.0</td>\n",
       "      <td>remember pull jaw floor hearing played game kn...</td>\n",
       "    </tr>\n",
       "  </tbody>\n",
       "</table>\n",
       "</div>"
      ],
      "text/plain": [
       "   Unnamed: 0.1  Unnamed: 0  \\\n",
       "0             0           0   \n",
       "1             1           1   \n",
       "2             2           2   \n",
       "3             3           3   \n",
       "4             4           4   \n",
       "\n",
       "                                             reviews  \\\n",
       "0  Stuning even for the non-gamer: This sound tra...   \n",
       "1  The best soundtrack ever to anything.: I'm rea...   \n",
       "2  Amazing!: This soundtrack is my favorite music...   \n",
       "3  Excellent Soundtrack: I truly like this soundt...   \n",
       "4  Remember, Pull Your Jaw Off The Floor After He...   \n",
       "\n",
       "                                          clean_text  postive_count  \\\n",
       "0  stun non-gam sound track beauti paint sceneri ...          12875   \n",
       "1  best soundtrack read lot review say best game ...          20553   \n",
       "2  amaz soundtrack favorit music time hand intens...          34847   \n",
       "3  excel soundtrack truli like soundtrack enjoy v...          29606   \n",
       "4  rememb pull jaw floor hear play game know divi...          19304   \n",
       "\n",
       "   negative_count  label                                         lemmatised  \n",
       "0           10457    1.0  stunning non-gamer sound track beautiful paint...  \n",
       "1           17132    1.0  best soundtrack reading lot review saying best...  \n",
       "2           32896    1.0  amazing soundtrack favorite music time hand in...  \n",
       "3           24067    1.0  excellent soundtrack truly like soundtrack enj...  \n",
       "4           15034    1.0  remember pull jaw floor hearing played game kn...  "
      ]
     },
     "execution_count": 38,
     "metadata": {},
     "output_type": "execute_result"
    }
   ],
   "source": [
    "df.head()"
   ]
  },
  {
   "cell_type": "code",
   "execution_count": 59,
   "id": "a3219b23",
   "metadata": {},
   "outputs": [],
   "source": [
    "#import pickle\n",
    "#with open(r'E:\\Natural Language Processesing\\word_counts_data.pkl', 'wb') as fp:\n",
    "    #pickle.dump(word_counts, fp)\n",
    "    #print('dictionary saved successfully to file')"
   ]
  },
  {
   "cell_type": "code",
   "execution_count": 60,
   "id": "7a50d253",
   "metadata": {},
   "outputs": [],
   "source": [
    "#import pickle\n",
    "#with open(r'E:\\Natural Language Processesing\\lemma_count_data.pkl', 'wb') as fp:\n",
    "    #pickle.dump(lemma_count, fp)\n",
    "    #print('dictionary saved successfully to file')"
   ]
  },
  {
   "cell_type": "markdown",
   "id": "a9fb7b94",
   "metadata": {},
   "source": [
    "## Extracting features"
   ]
  },
  {
   "cell_type": "code",
   "execution_count": 39,
   "id": "39d27161",
   "metadata": {},
   "outputs": [],
   "source": [
    "def extract_feature(review, word_counts):\n",
    "    pos = 0\n",
    "    neg = 0\n",
    "    pos_neg_count = []\n",
    "    for word in preprocess_text(review):\n",
    "        neg += word_counts.get((word, 0),0) \n",
    "        pos += word_counts.get((word, 1), 0)\n",
    "    pos_neg_count.append([1,pos, neg])\n",
    "    return pos_neg_count\n"
   ]
  },
  {
   "cell_type": "code",
   "execution_count": 40,
   "id": "78a0c049",
   "metadata": {},
   "outputs": [],
   "source": [
    "def prediction(review):\n",
    "    input_arr = extract_feature(review, word_counts)\n",
    "    prediction = model.predict(input_arr)\n",
    "    \n",
    "    if prediction == 1:\n",
    "        print('Positive')\n",
    "        \n",
    "    else:\n",
    "        print('Negative')\n",
    "    \n",
    "    return None"
   ]
  },
  {
   "cell_type": "code",
   "execution_count": 41,
   "id": "b48bd788",
   "metadata": {},
   "outputs": [],
   "source": [
    "#feature_arr = [extract_feature(review, word_counts)[0] for review in word_list]"
   ]
  },
  {
   "cell_type": "code",
   "execution_count": 42,
   "id": "c9002334",
   "metadata": {},
   "outputs": [],
   "source": [
    "import pickle\n",
    "\n",
    "\n",
    "with open(r\"E:\\Natural Language Processesing\\lemma_count_data.pkl\", 'rb') as f:\n",
    "    lemma_count = pickle.load(f)"
   ]
  },
  {
   "cell_type": "code",
   "execution_count": 139,
   "id": "17d9ba37",
   "metadata": {},
   "outputs": [],
   "source": [
    "#features_lemma = [extract_feature(review, lemma_count) for review in word_list]"
   ]
  },
  {
   "cell_type": "code",
   "execution_count": null,
   "id": "3b65a3f7",
   "metadata": {},
   "outputs": [],
   "source": [
    "features_lemma_c = [lst[0] for lst in features_lemma]"
   ]
  },
  {
   "cell_type": "code",
   "execution_count": null,
   "id": "75d1064f",
   "metadata": {},
   "outputs": [],
   "source": []
  },
  {
   "cell_type": "code",
   "execution_count": null,
   "id": "594e69db",
   "metadata": {},
   "outputs": [],
   "source": [
    "df['positive_lemma_count'] = [lst[1] for lst in features_lemma_c]\n",
    "df['negative_lemma_count'] = [lst[2] for lst in features_lemma_c]"
   ]
  },
  {
   "cell_type": "code",
   "execution_count": null,
   "id": "966450a2",
   "metadata": {},
   "outputs": [],
   "source": [
    "df['negative_lemma_count'] = [lst[2] for lst in features_lemma_c]"
   ]
  },
  {
   "cell_type": "code",
   "execution_count": null,
   "id": "4a57a779",
   "metadata": {},
   "outputs": [],
   "source": [
    "df"
   ]
  },
  {
   "cell_type": "code",
   "execution_count": 44,
   "id": "a66078f2",
   "metadata": {},
   "outputs": [],
   "source": [
    "df1 = pd.read_csv(r\"E:\\Natural Language Processesing\\clean_txt.csv\")"
   ]
  },
  {
   "cell_type": "code",
   "execution_count": 46,
   "id": "68e17192",
   "metadata": {},
   "outputs": [],
   "source": [
    "df1.drop(['Unnamed: 0.1', 'Unnamed: 0'], inplace = True, axis = 1)"
   ]
  },
  {
   "cell_type": "code",
   "execution_count": 47,
   "id": "fce0e09f",
   "metadata": {},
   "outputs": [
    {
     "data": {
      "text/html": [
       "<div>\n",
       "<style scoped>\n",
       "    .dataframe tbody tr th:only-of-type {\n",
       "        vertical-align: middle;\n",
       "    }\n",
       "\n",
       "    .dataframe tbody tr th {\n",
       "        vertical-align: top;\n",
       "    }\n",
       "\n",
       "    .dataframe thead th {\n",
       "        text-align: right;\n",
       "    }\n",
       "</style>\n",
       "<table border=\"1\" class=\"dataframe\">\n",
       "  <thead>\n",
       "    <tr style=\"text-align: right;\">\n",
       "      <th></th>\n",
       "      <th>reviews</th>\n",
       "      <th>clean_text</th>\n",
       "      <th>postive_count</th>\n",
       "      <th>negative_count</th>\n",
       "      <th>label</th>\n",
       "      <th>lemmatised</th>\n",
       "    </tr>\n",
       "  </thead>\n",
       "  <tbody>\n",
       "    <tr>\n",
       "      <th>0</th>\n",
       "      <td>Stuning even for the non-gamer: This sound tra...</td>\n",
       "      <td>stun non-gam sound track beauti paint sceneri ...</td>\n",
       "      <td>12875</td>\n",
       "      <td>10457</td>\n",
       "      <td>1.0</td>\n",
       "      <td>stunning non-gamer sound track beautiful paint...</td>\n",
       "    </tr>\n",
       "    <tr>\n",
       "      <th>1</th>\n",
       "      <td>The best soundtrack ever to anything.: I'm rea...</td>\n",
       "      <td>best soundtrack read lot review say best game ...</td>\n",
       "      <td>20553</td>\n",
       "      <td>17132</td>\n",
       "      <td>1.0</td>\n",
       "      <td>best soundtrack reading lot review saying best...</td>\n",
       "    </tr>\n",
       "    <tr>\n",
       "      <th>2</th>\n",
       "      <td>Amazing!: This soundtrack is my favorite music...</td>\n",
       "      <td>amaz soundtrack favorit music time hand intens...</td>\n",
       "      <td>34847</td>\n",
       "      <td>32896</td>\n",
       "      <td>1.0</td>\n",
       "      <td>amazing soundtrack favorite music time hand in...</td>\n",
       "    </tr>\n",
       "    <tr>\n",
       "      <th>3</th>\n",
       "      <td>Excellent Soundtrack: I truly like this soundt...</td>\n",
       "      <td>excel soundtrack truli like soundtrack enjoy v...</td>\n",
       "      <td>29606</td>\n",
       "      <td>24067</td>\n",
       "      <td>1.0</td>\n",
       "      <td>excellent soundtrack truly like soundtrack enj...</td>\n",
       "    </tr>\n",
       "    <tr>\n",
       "      <th>4</th>\n",
       "      <td>Remember, Pull Your Jaw Off The Floor After He...</td>\n",
       "      <td>rememb pull jaw floor hear play game know divi...</td>\n",
       "      <td>19304</td>\n",
       "      <td>15034</td>\n",
       "      <td>1.0</td>\n",
       "      <td>remember pull jaw floor hearing played game kn...</td>\n",
       "    </tr>\n",
       "    <tr>\n",
       "      <th>...</th>\n",
       "      <td>...</td>\n",
       "      <td>...</td>\n",
       "      <td>...</td>\n",
       "      <td>...</td>\n",
       "      <td>...</td>\n",
       "      <td>...</td>\n",
       "    </tr>\n",
       "    <tr>\n",
       "      <th>17995</th>\n",
       "      <td>I was disappointed: I do not know what I expec...</td>\n",
       "      <td>disappoint ignor expect see duet disappoint re...</td>\n",
       "      <td>2348</td>\n",
       "      <td>5235</td>\n",
       "      <td>0.0</td>\n",
       "      <td>disappointed ignore expected seeing duet disap...</td>\n",
       "    </tr>\n",
       "    <tr>\n",
       "      <th>17996</th>\n",
       "      <td>missing....: i ordered this dvd for my dad's b...</td>\n",
       "      <td>miss order dad birthday open day later watch f...</td>\n",
       "      <td>3374</td>\n",
       "      <td>3971</td>\n",
       "      <td>0.0</td>\n",
       "      <td>missing ordered dad birthday opened day later ...</td>\n",
       "    </tr>\n",
       "    <tr>\n",
       "      <th>17997</th>\n",
       "      <td>poorly done !: Not sure what the other person ...</td>\n",
       "      <td>poorli unsur person smoke review book beginn d...</td>\n",
       "      <td>33007</td>\n",
       "      <td>35056</td>\n",
       "      <td>0.0</td>\n",
       "      <td>poorly unsure person smoking reviewing book be...</td>\n",
       "    </tr>\n",
       "    <tr>\n",
       "      <th>17998</th>\n",
       "      <td>Ty Beanie Babies Dog: Don't waste your money o...</td>\n",
       "      <td>ty beani babi dog conserv money like photo pro...</td>\n",
       "      <td>5310</td>\n",
       "      <td>8237</td>\n",
       "      <td>0.0</td>\n",
       "      <td>ty beanie baby dog conserve money like photo p...</td>\n",
       "    </tr>\n",
       "    <tr>\n",
       "      <th>17999</th>\n",
       "      <td>Cheap product: Made the mistake of buying an a...</td>\n",
       "      <td>cheap product mistak buy market china think sa...</td>\n",
       "      <td>9284</td>\n",
       "      <td>13793</td>\n",
       "      <td>0.0</td>\n",
       "      <td>cheap product mistake buying market china thin...</td>\n",
       "    </tr>\n",
       "  </tbody>\n",
       "</table>\n",
       "<p>18000 rows × 6 columns</p>\n",
       "</div>"
      ],
      "text/plain": [
       "                                                 reviews  \\\n",
       "0      Stuning even for the non-gamer: This sound tra...   \n",
       "1      The best soundtrack ever to anything.: I'm rea...   \n",
       "2      Amazing!: This soundtrack is my favorite music...   \n",
       "3      Excellent Soundtrack: I truly like this soundt...   \n",
       "4      Remember, Pull Your Jaw Off The Floor After He...   \n",
       "...                                                  ...   \n",
       "17995  I was disappointed: I do not know what I expec...   \n",
       "17996  missing....: i ordered this dvd for my dad's b...   \n",
       "17997  poorly done !: Not sure what the other person ...   \n",
       "17998  Ty Beanie Babies Dog: Don't waste your money o...   \n",
       "17999  Cheap product: Made the mistake of buying an a...   \n",
       "\n",
       "                                              clean_text  postive_count  \\\n",
       "0      stun non-gam sound track beauti paint sceneri ...          12875   \n",
       "1      best soundtrack read lot review say best game ...          20553   \n",
       "2      amaz soundtrack favorit music time hand intens...          34847   \n",
       "3      excel soundtrack truli like soundtrack enjoy v...          29606   \n",
       "4      rememb pull jaw floor hear play game know divi...          19304   \n",
       "...                                                  ...            ...   \n",
       "17995  disappoint ignor expect see duet disappoint re...           2348   \n",
       "17996  miss order dad birthday open day later watch f...           3374   \n",
       "17997  poorli unsur person smoke review book beginn d...          33007   \n",
       "17998  ty beani babi dog conserv money like photo pro...           5310   \n",
       "17999  cheap product mistak buy market china think sa...           9284   \n",
       "\n",
       "       negative_count  label  \\\n",
       "0               10457    1.0   \n",
       "1               17132    1.0   \n",
       "2               32896    1.0   \n",
       "3               24067    1.0   \n",
       "4               15034    1.0   \n",
       "...               ...    ...   \n",
       "17995            5235    0.0   \n",
       "17996            3971    0.0   \n",
       "17997           35056    0.0   \n",
       "17998            8237    0.0   \n",
       "17999           13793    0.0   \n",
       "\n",
       "                                              lemmatised  \n",
       "0      stunning non-gamer sound track beautiful paint...  \n",
       "1      best soundtrack reading lot review saying best...  \n",
       "2      amazing soundtrack favorite music time hand in...  \n",
       "3      excellent soundtrack truly like soundtrack enj...  \n",
       "4      remember pull jaw floor hearing played game kn...  \n",
       "...                                                  ...  \n",
       "17995  disappointed ignore expected seeing duet disap...  \n",
       "17996  missing ordered dad birthday opened day later ...  \n",
       "17997  poorly unsure person smoking reviewing book be...  \n",
       "17998  ty beanie baby dog conserve money like photo p...  \n",
       "17999  cheap product mistake buying market china thin...  \n",
       "\n",
       "[18000 rows x 6 columns]"
      ]
     },
     "execution_count": 47,
     "metadata": {},
     "output_type": "execute_result"
    }
   ],
   "source": [
    "df1"
   ]
  },
  {
   "cell_type": "code",
   "execution_count": null,
   "id": "a07612f4",
   "metadata": {},
   "outputs": [],
   "source": [
    "df1['positive_lemma_count'] = [lst[1] for lst in features_lemma_c]\n",
    "df1['negative_lemma_count'] = [lst[2] for lst in features_lemma_c]"
   ]
  },
  {
   "cell_type": "code",
   "execution_count": null,
   "id": "0e14177e",
   "metadata": {},
   "outputs": [],
   "source": [
    "df1.to_csv(r\"E:\\Natural Language Processesing\\customer_review_vectors.csv\", index = False)"
   ]
  },
  {
   "cell_type": "code",
   "execution_count": 48,
   "id": "dcceb421",
   "metadata": {},
   "outputs": [],
   "source": [
    "review_df = pd.read_csv(r\"E:\\Natural Language Processesing\\customer_review_vectors.csv\")"
   ]
  },
  {
   "cell_type": "code",
   "execution_count": 49,
   "id": "6741141a",
   "metadata": {},
   "outputs": [
    {
     "data": {
      "text/html": [
       "<div>\n",
       "<style scoped>\n",
       "    .dataframe tbody tr th:only-of-type {\n",
       "        vertical-align: middle;\n",
       "    }\n",
       "\n",
       "    .dataframe tbody tr th {\n",
       "        vertical-align: top;\n",
       "    }\n",
       "\n",
       "    .dataframe thead th {\n",
       "        text-align: right;\n",
       "    }\n",
       "</style>\n",
       "<table border=\"1\" class=\"dataframe\">\n",
       "  <thead>\n",
       "    <tr style=\"text-align: right;\">\n",
       "      <th></th>\n",
       "      <th>reviews</th>\n",
       "      <th>clean_text</th>\n",
       "      <th>postive_count</th>\n",
       "      <th>negative_count</th>\n",
       "      <th>label</th>\n",
       "      <th>lemmatised</th>\n",
       "      <th>positive_lemma_count</th>\n",
       "      <th>negative_lemma_count</th>\n",
       "    </tr>\n",
       "  </thead>\n",
       "  <tbody>\n",
       "    <tr>\n",
       "      <th>0</th>\n",
       "      <td>Stuning even for the non-gamer: This sound tra...</td>\n",
       "      <td>stun non-gam sound track beauti paint sceneri ...</td>\n",
       "      <td>12875</td>\n",
       "      <td>10457</td>\n",
       "      <td>1.0</td>\n",
       "      <td>stunning non-gamer sound track beautiful paint...</td>\n",
       "      <td>10377</td>\n",
       "      <td>8175</td>\n",
       "    </tr>\n",
       "    <tr>\n",
       "      <th>1</th>\n",
       "      <td>The best soundtrack ever to anything.: I'm rea...</td>\n",
       "      <td>best soundtrack read lot review say best game ...</td>\n",
       "      <td>20553</td>\n",
       "      <td>17132</td>\n",
       "      <td>1.0</td>\n",
       "      <td>best soundtrack reading lot review saying best...</td>\n",
       "      <td>15537</td>\n",
       "      <td>12924</td>\n",
       "    </tr>\n",
       "    <tr>\n",
       "      <th>2</th>\n",
       "      <td>Amazing!: This soundtrack is my favorite music...</td>\n",
       "      <td>amaz soundtrack favorit music time hand intens...</td>\n",
       "      <td>34847</td>\n",
       "      <td>32896</td>\n",
       "      <td>1.0</td>\n",
       "      <td>amazing soundtrack favorite music time hand in...</td>\n",
       "      <td>31203</td>\n",
       "      <td>29270</td>\n",
       "    </tr>\n",
       "    <tr>\n",
       "      <th>3</th>\n",
       "      <td>Excellent Soundtrack: I truly like this soundt...</td>\n",
       "      <td>excel soundtrack truli like soundtrack enjoy v...</td>\n",
       "      <td>29606</td>\n",
       "      <td>24067</td>\n",
       "      <td>1.0</td>\n",
       "      <td>excellent soundtrack truly like soundtrack enj...</td>\n",
       "      <td>26345</td>\n",
       "      <td>21910</td>\n",
       "    </tr>\n",
       "    <tr>\n",
       "      <th>4</th>\n",
       "      <td>Remember, Pull Your Jaw Off The Floor After He...</td>\n",
       "      <td>rememb pull jaw floor hear play game know divi...</td>\n",
       "      <td>19304</td>\n",
       "      <td>15034</td>\n",
       "      <td>1.0</td>\n",
       "      <td>remember pull jaw floor hearing played game kn...</td>\n",
       "      <td>17881</td>\n",
       "      <td>13747</td>\n",
       "    </tr>\n",
       "    <tr>\n",
       "      <th>...</th>\n",
       "      <td>...</td>\n",
       "      <td>...</td>\n",
       "      <td>...</td>\n",
       "      <td>...</td>\n",
       "      <td>...</td>\n",
       "      <td>...</td>\n",
       "      <td>...</td>\n",
       "      <td>...</td>\n",
       "    </tr>\n",
       "    <tr>\n",
       "      <th>17995</th>\n",
       "      <td>I was disappointed: I do not know what I expec...</td>\n",
       "      <td>disappoint ignor expect see duet disappoint re...</td>\n",
       "      <td>2348</td>\n",
       "      <td>5235</td>\n",
       "      <td>0.0</td>\n",
       "      <td>disappointed ignore expected seeing duet disap...</td>\n",
       "      <td>1686</td>\n",
       "      <td>3365</td>\n",
       "    </tr>\n",
       "    <tr>\n",
       "      <th>17996</th>\n",
       "      <td>missing....: i ordered this dvd for my dad's b...</td>\n",
       "      <td>miss order dad birthday open day later watch f...</td>\n",
       "      <td>3374</td>\n",
       "      <td>3971</td>\n",
       "      <td>0.0</td>\n",
       "      <td>missing ordered dad birthday opened day later ...</td>\n",
       "      <td>2504</td>\n",
       "      <td>2952</td>\n",
       "    </tr>\n",
       "    <tr>\n",
       "      <th>17997</th>\n",
       "      <td>poorly done !: Not sure what the other person ...</td>\n",
       "      <td>poorli unsur person smoke review book beginn d...</td>\n",
       "      <td>33007</td>\n",
       "      <td>35056</td>\n",
       "      <td>0.0</td>\n",
       "      <td>poorly unsure person smoking reviewing book be...</td>\n",
       "      <td>27893</td>\n",
       "      <td>28987</td>\n",
       "    </tr>\n",
       "    <tr>\n",
       "      <th>17998</th>\n",
       "      <td>Ty Beanie Babies Dog: Don't waste your money o...</td>\n",
       "      <td>ty beani babi dog conserv money like photo pro...</td>\n",
       "      <td>5310</td>\n",
       "      <td>8237</td>\n",
       "      <td>0.0</td>\n",
       "      <td>ty beanie baby dog conserve money like photo p...</td>\n",
       "      <td>4340</td>\n",
       "      <td>6934</td>\n",
       "    </tr>\n",
       "    <tr>\n",
       "      <th>17999</th>\n",
       "      <td>Cheap product: Made the mistake of buying an a...</td>\n",
       "      <td>cheap product mistak buy market china think sa...</td>\n",
       "      <td>9284</td>\n",
       "      <td>13793</td>\n",
       "      <td>0.0</td>\n",
       "      <td>cheap product mistake buying market china thin...</td>\n",
       "      <td>5775</td>\n",
       "      <td>9349</td>\n",
       "    </tr>\n",
       "  </tbody>\n",
       "</table>\n",
       "<p>18000 rows × 8 columns</p>\n",
       "</div>"
      ],
      "text/plain": [
       "                                                 reviews  \\\n",
       "0      Stuning even for the non-gamer: This sound tra...   \n",
       "1      The best soundtrack ever to anything.: I'm rea...   \n",
       "2      Amazing!: This soundtrack is my favorite music...   \n",
       "3      Excellent Soundtrack: I truly like this soundt...   \n",
       "4      Remember, Pull Your Jaw Off The Floor After He...   \n",
       "...                                                  ...   \n",
       "17995  I was disappointed: I do not know what I expec...   \n",
       "17996  missing....: i ordered this dvd for my dad's b...   \n",
       "17997  poorly done !: Not sure what the other person ...   \n",
       "17998  Ty Beanie Babies Dog: Don't waste your money o...   \n",
       "17999  Cheap product: Made the mistake of buying an a...   \n",
       "\n",
       "                                              clean_text  postive_count  \\\n",
       "0      stun non-gam sound track beauti paint sceneri ...          12875   \n",
       "1      best soundtrack read lot review say best game ...          20553   \n",
       "2      amaz soundtrack favorit music time hand intens...          34847   \n",
       "3      excel soundtrack truli like soundtrack enjoy v...          29606   \n",
       "4      rememb pull jaw floor hear play game know divi...          19304   \n",
       "...                                                  ...            ...   \n",
       "17995  disappoint ignor expect see duet disappoint re...           2348   \n",
       "17996  miss order dad birthday open day later watch f...           3374   \n",
       "17997  poorli unsur person smoke review book beginn d...          33007   \n",
       "17998  ty beani babi dog conserv money like photo pro...           5310   \n",
       "17999  cheap product mistak buy market china think sa...           9284   \n",
       "\n",
       "       negative_count  label  \\\n",
       "0               10457    1.0   \n",
       "1               17132    1.0   \n",
       "2               32896    1.0   \n",
       "3               24067    1.0   \n",
       "4               15034    1.0   \n",
       "...               ...    ...   \n",
       "17995            5235    0.0   \n",
       "17996            3971    0.0   \n",
       "17997           35056    0.0   \n",
       "17998            8237    0.0   \n",
       "17999           13793    0.0   \n",
       "\n",
       "                                              lemmatised  \\\n",
       "0      stunning non-gamer sound track beautiful paint...   \n",
       "1      best soundtrack reading lot review saying best...   \n",
       "2      amazing soundtrack favorite music time hand in...   \n",
       "3      excellent soundtrack truly like soundtrack enj...   \n",
       "4      remember pull jaw floor hearing played game kn...   \n",
       "...                                                  ...   \n",
       "17995  disappointed ignore expected seeing duet disap...   \n",
       "17996  missing ordered dad birthday opened day later ...   \n",
       "17997  poorly unsure person smoking reviewing book be...   \n",
       "17998  ty beanie baby dog conserve money like photo p...   \n",
       "17999  cheap product mistake buying market china thin...   \n",
       "\n",
       "       positive_lemma_count  negative_lemma_count  \n",
       "0                     10377                  8175  \n",
       "1                     15537                 12924  \n",
       "2                     31203                 29270  \n",
       "3                     26345                 21910  \n",
       "4                     17881                 13747  \n",
       "...                     ...                   ...  \n",
       "17995                  1686                  3365  \n",
       "17996                  2504                  2952  \n",
       "17997                 27893                 28987  \n",
       "17998                  4340                  6934  \n",
       "17999                  5775                  9349  \n",
       "\n",
       "[18000 rows x 8 columns]"
      ]
     },
     "execution_count": 49,
     "metadata": {},
     "output_type": "execute_result"
    }
   ],
   "source": [
    "review_df"
   ]
  },
  {
   "cell_type": "code",
   "execution_count": 50,
   "id": "66bc0739",
   "metadata": {},
   "outputs": [],
   "source": [
    "for i in list(lemma_count.copy().keys()):\n",
    "    c = lemma_count[i]\n",
    "    if c < 5:\n",
    "        lemma_count.pop(i)\n",
    "    \n",
    "        "
   ]
  },
  {
   "cell_type": "code",
   "execution_count": 51,
   "id": "c8d7282d",
   "metadata": {},
   "outputs": [
    {
     "data": {
      "text/plain": [
       "1211"
      ]
     },
     "execution_count": 51,
     "metadata": {},
     "output_type": "execute_result"
    }
   ],
   "source": [
    "lemma_count.pop(('-', 1))"
   ]
  },
  {
   "cell_type": "code",
   "execution_count": 52,
   "id": "790b456c",
   "metadata": {},
   "outputs": [
    {
     "data": {
      "text/plain": [
       "1314"
      ]
     },
     "execution_count": 52,
     "metadata": {},
     "output_type": "execute_result"
    }
   ],
   "source": [
    "lemma_count.pop(('-', 0))"
   ]
  },
  {
   "cell_type": "code",
   "execution_count": 53,
   "id": "bd3a0d79",
   "metadata": {},
   "outputs": [
    {
     "data": {
      "text/plain": [
       "583571"
      ]
     },
     "execution_count": 53,
     "metadata": {},
     "output_type": "execute_result"
    }
   ],
   "source": [
    "sum(lemma_count.values())"
   ]
  },
  {
   "cell_type": "code",
   "execution_count": 54,
   "id": "5e8df1bc",
   "metadata": {},
   "outputs": [
    {
     "data": {
      "text/plain": [
       "[(('NUMBER', 0.0), 8164),\n",
       " (('book', 1.0), 6635),\n",
       " (('NUMBER', 1.0), 6615),\n",
       " (('book', 0.0), 6180),\n",
       " (('great', 1.0), 4043),\n",
       " (('good', 1.0), 3099),\n",
       " (('movie', 0.0), 2732),\n",
       " (('read', 1.0), 2670),\n",
       " (('like', 0.0), 2584),\n",
       " (('movie', 1.0), 2398)]"
      ]
     },
     "execution_count": 54,
     "metadata": {},
     "output_type": "execute_result"
    }
   ],
   "source": [
    "from collections import Counter\n",
    "counter_lem = Counter(lemma_count)\n",
    "counter_lem.most_common(10)"
   ]
  },
  {
   "cell_type": "code",
   "execution_count": 55,
   "id": "7d721830",
   "metadata": {},
   "outputs": [],
   "source": [
    "count_df = pd.DataFrame(lemma_count.items(),columns=['word','frequency']).sort_values(by='frequency',ascending=False)"
   ]
  },
  {
   "cell_type": "code",
   "execution_count": 56,
   "id": "0f672623",
   "metadata": {},
   "outputs": [],
   "source": [
    "freq_df = pd.DataFrame()"
   ]
  },
  {
   "cell_type": "code",
   "execution_count": 57,
   "id": "5ee5ffee",
   "metadata": {},
   "outputs": [
    {
     "data": {
      "text/plain": [
       "6615"
      ]
     },
     "execution_count": 57,
     "metadata": {},
     "output_type": "execute_result"
    }
   ],
   "source": [
    "lemma_count.pop(('NUMBER', 1))"
   ]
  },
  {
   "cell_type": "code",
   "execution_count": 58,
   "id": "cf690fc2",
   "metadata": {},
   "outputs": [
    {
     "data": {
      "text/plain": [
       "8164"
      ]
     },
     "execution_count": 58,
     "metadata": {},
     "output_type": "execute_result"
    }
   ],
   "source": [
    "lemma_count.pop(('NUMBER', 0))"
   ]
  },
  {
   "cell_type": "code",
   "execution_count": 59,
   "id": "97c820a4",
   "metadata": {},
   "outputs": [],
   "source": [
    "freq_df = pd.DataFrame()\n",
    "wrd = []\n",
    "lab = []\n",
    "cnt = []\n",
    "for i in lemma_count.keys():\n",
    "    wrd.append(i[0])\n",
    "    lab.append(i[1])\n",
    "    cnt.append(lemma_count[i])\n",
    "freq_df['word'] = wrd\n",
    "freq_df['label'] = lab\n",
    "freq_df['count'] = cnt"
   ]
  },
  {
   "cell_type": "code",
   "execution_count": 65,
   "id": "a894fef8",
   "metadata": {},
   "outputs": [],
   "source": [
    "import seaborn as sns\n",
    "import matplotlib.pyplot as plt"
   ]
  },
  {
   "cell_type": "code",
   "execution_count": 66,
   "id": "59029a00",
   "metadata": {},
   "outputs": [],
   "source": [
    "p_counts = freq_df[freq_df['label'] == 1].sort_values('count', ascending = False).head(10)['count']\n",
    "p_wo = freq_df[freq_df['label'] == 1].sort_values('count', ascending = False).head(10)['word']\n",
    "n_counts = freq_df[freq_df['label'] == 0].sort_values('count', ascending = False).head(10)['count']\n",
    "n_wo = freq_df[freq_df['label'] == 0].sort_values('count', ascending = False).head(10)['word']"
   ]
  },
  {
   "cell_type": "code",
   "execution_count": 67,
   "id": "7035e0f9",
   "metadata": {},
   "outputs": [],
   "source": [
    "n_wo = list(n_wo)\n",
    "p_wo = list(p_wo)\n",
    "def intersection(lst1, lst2):\n",
    "    lst3 = [value for value in lst1 if value in lst2]\n",
    "    return lst3\n",
    "common_wrd = intersection(n_wo, p_wo)\n",
    "for i in common_wrd:\n",
    "    lemma_count.pop((i,0))\n",
    "    lemma_count.pop((i,1))"
   ]
  },
  {
   "cell_type": "code",
   "execution_count": 68,
   "id": "eb9232ea",
   "metadata": {},
   "outputs": [],
   "source": [
    "freq_df = freq_df[~freq_df['word'].isin(common_wrd)]"
   ]
  },
  {
   "cell_type": "code",
   "execution_count": 69,
   "id": "ad7d8338",
   "metadata": {},
   "outputs": [
    {
     "data": {
      "text/plain": [
       "[(('great', 1.0), 4043),\n",
       " (('love', 1.0), 2101),\n",
       " (('best', 1.0), 1621),\n",
       " (('ad', 1.0), 1613),\n",
       " (('story', 1.0), 1546),\n",
       " (('song', 1.0), 1348),\n",
       " (('money', 0.0), 1316),\n",
       " (('work', 1.0), 1313),\n",
       " (('album', 1.0), 1286),\n",
       " (('product', 0.0), 1256)]"
      ]
     },
     "execution_count": 69,
     "metadata": {},
     "output_type": "execute_result"
    }
   ],
   "source": [
    "Counter(lemma_count).most_common()[:10]"
   ]
  },
  {
   "cell_type": "code",
   "execution_count": 70,
   "id": "7162877f",
   "metadata": {},
   "outputs": [
    {
     "data": {
      "text/plain": [
       "10"
      ]
     },
     "execution_count": 70,
     "metadata": {},
     "output_type": "execute_result"
    }
   ],
   "source": [
    "len(p_wo)"
   ]
  },
  {
   "cell_type": "code",
   "execution_count": 71,
   "id": "bfd8c58e",
   "metadata": {},
   "outputs": [
    {
     "data": {
      "image/png": "[encoded data removed]",
      "text/plain": [
       "<Figure size 640x480 with 1 Axes>"
      ]
     },
     "metadata": {},
     "output_type": "display_data"
    }
   ],
   "source": [
    "sns.barplot(x = p_wo, y = p_counts)\n",
    "plt.xlabel('Positive words');\n"
   ]
  },
  {
   "cell_type": "code",
   "execution_count": 72,
   "id": "7002ca08",
   "metadata": {},
   "outputs": [
    {
     "data": {
      "image/png": "[encoded data removed]",
      "text/plain": [
       "<Figure size 640x480 with 1 Axes>"
      ]
     },
     "metadata": {},
     "output_type": "display_data"
    }
   ],
   "source": [
    "sns.barplot(x = n_wo, y = n_counts);\n",
    "plt.xlabel('Negative words');\n"
   ]
  },
  {
   "cell_type": "code",
   "execution_count": 73,
   "id": "98688dcc",
   "metadata": {},
   "outputs": [
    {
     "data": {
      "text/plain": [
       "[(('NUMBER', 0.0), 8164),\n",
       " (('book', 1.0), 6635),\n",
       " (('NUMBER', 1.0), 6615),\n",
       " (('book', 0.0), 6180),\n",
       " (('great', 1.0), 4043),\n",
       " (('good', 1.0), 3099),\n",
       " (('movie', 0.0), 2732),\n",
       " (('read', 1.0), 2670),\n",
       " (('like', 0.0), 2584),\n",
       " (('movie', 1.0), 2398)]"
      ]
     },
     "execution_count": 73,
     "metadata": {},
     "output_type": "execute_result"
    }
   ],
   "source": [
    "counter_lem.most_common()[:10]"
   ]
  },
  {
   "cell_type": "code",
   "execution_count": 68,
   "id": "332bcfce",
   "metadata": {},
   "outputs": [],
   "source": [
    "#df['negative_count'] = [lst[2] for lst in feature_arr]"
   ]
  },
  {
   "cell_type": "code",
   "execution_count": 69,
   "id": "a405de0d",
   "metadata": {},
   "outputs": [],
   "source": [
    "#df['label'] = train_y"
   ]
  },
  {
   "cell_type": "code",
   "execution_count": 70,
   "id": "2c7dcf75",
   "metadata": {},
   "outputs": [],
   "source": [
    "#df.to_csv(r\"E:\\Natural Language Processesing\\customer_review_vectors.csv\")"
   ]
  },
  {
   "cell_type": "markdown",
   "id": "c834066d",
   "metadata": {},
   "source": [
    "## Logistic Regression"
   ]
  },
  {
   "cell_type": "code",
   "execution_count": 74,
   "id": "aa598331",
   "metadata": {},
   "outputs": [],
   "source": [
    "def sigmoid(z):\n",
    "    \n",
    "    h = 1/(1 + np.exp(-z))\n",
    "    \n",
    "    return h\n",
    "    "
   ]
  },
  {
   "cell_type": "code",
   "execution_count": 75,
   "id": "b4a2338b",
   "metadata": {},
   "outputs": [],
   "source": [
    "def compute_prediction(review, theta):\n",
    "    \n",
    "    x = extract_feature(review, lemma_count)[0]\n",
    "    \n",
    "    z = np.dot(x,theta)\n",
    "    \n",
    "    h = sigmoid(z)\n",
    "    \n",
    "    if h > 0.5:\n",
    "        pred = 1\n",
    "    else:\n",
    "        pred = 0\n",
    "    \n",
    "    return pred   "
   ]
  },
  {
   "cell_type": "code",
   "execution_count": 76,
   "id": "10b4b1f5",
   "metadata": {},
   "outputs": [],
   "source": [
    "review_df['bias'] = 1"
   ]
  },
  {
   "cell_type": "code",
   "execution_count": 77,
   "id": "25d5d25d",
   "metadata": {},
   "outputs": [],
   "source": [
    "train_x = np.array(review_df[['bias','positive_lemma_count', 'negative_lemma_count']])"
   ]
  },
  {
   "cell_type": "code",
   "execution_count": 78,
   "id": "9701022b",
   "metadata": {},
   "outputs": [
    {
     "data": {
      "text/plain": [
       "(18000, 3)"
      ]
     },
     "execution_count": 78,
     "metadata": {},
     "output_type": "execute_result"
    }
   ],
   "source": [
    "train_x.shape"
   ]
  },
  {
   "cell_type": "code",
   "execution_count": 81,
   "id": "5f879b46",
   "metadata": {},
   "outputs": [
    {
     "data": {
      "text/plain": [
       "array([[    1, 10377,  8175],\n",
       "       [    1, 15537, 12924],\n",
       "       [    1, 31203, 29270],\n",
       "       [    1, 26345, 21910],\n",
       "       [    1, 17881, 13747]], dtype=int64)"
      ]
     },
     "execution_count": 81,
     "metadata": {},
     "output_type": "execute_result"
    }
   ],
   "source": [
    "train_x[:5]"
   ]
  },
  {
   "cell_type": "code",
   "execution_count": 82,
   "id": "35643bd7",
   "metadata": {},
   "outputs": [],
   "source": [
    "theta = np.zeros((3,1))"
   ]
  },
  {
   "cell_type": "code",
   "execution_count": 83,
   "id": "5ea39ac2",
   "metadata": {},
   "outputs": [
    {
     "data": {
      "text/plain": [
       "0.0"
      ]
     },
     "execution_count": 83,
     "metadata": {},
     "output_type": "execute_result"
    }
   ],
   "source": [
    "np.sum(np.abs(theta))"
   ]
  },
  {
   "cell_type": "code",
   "execution_count": 84,
   "id": "d8c1e2eb",
   "metadata": {},
   "outputs": [
    {
     "data": {
      "text/plain": [
       "array([0.5])"
      ]
     },
     "execution_count": 84,
     "metadata": {},
     "output_type": "execute_result"
    }
   ],
   "source": [
    "sigmoid(np.dot(train_x[0], theta))"
   ]
  },
  {
   "cell_type": "code",
   "execution_count": 147,
   "id": "b615c9b8",
   "metadata": {},
   "outputs": [],
   "source": [
    "train_y = train_y.reshape(1, -1)"
   ]
  },
  {
   "cell_type": "code",
   "execution_count": 148,
   "id": "66880b12",
   "metadata": {},
   "outputs": [],
   "source": [
    "train_y = train_y.T"
   ]
  },
  {
   "cell_type": "code",
   "execution_count": 149,
   "id": "95f2ccaf",
   "metadata": {},
   "outputs": [
    {
     "data": {
      "text/plain": [
       "array([[1.],\n",
       "       [1.],\n",
       "       [1.],\n",
       "       ...,\n",
       "       [0.],\n",
       "       [0.],\n",
       "       [0.]])"
      ]
     },
     "execution_count": 149,
     "metadata": {},
     "output_type": "execute_result"
    }
   ],
   "source": [
    "train_y"
   ]
  },
  {
   "cell_type": "code",
   "execution_count": 150,
   "id": "3dfbaadd",
   "metadata": {},
   "outputs": [],
   "source": [
    "def gradientDescent(x, y, theta, alpha, lambda_,num_iters):\n",
    "    '''\n",
    "    Input:\n",
    "        x: matrix of features which is (m,n+1)\n",
    "        y: corresponding labels of the input matrix x, dimensions (m,1)\n",
    "        theta: weight vector of dimension (n+1,1)\n",
    "        alpha: learning rate\n",
    "        num_iters: number of iterations you want to train your model for\n",
    "    Output:\n",
    "        J: the final cost\n",
    "        theta: your final weight vector\n",
    "    Hint: you might want to print the cost to make sure that it is going down.\n",
    "    '''\n",
    "    ### START CODE HERE ###\n",
    "    # get 'm', the number of rows in matrix x\n",
    "    m = x.shape[0]\n",
    "    cost = []\n",
    "    for i in range(0, num_iters):\n",
    "        \n",
    "        # get z, the dot product of x and theta\n",
    "        z = np.dot(x, theta) \n",
    "        \n",
    "        # get the sigmoid of z\n",
    "        h = sigmoid(z)\n",
    "\n",
    "        # calculate the cost function\n",
    "        # 𝐽=−1𝑚×(𝐲𝑇⋅𝑙𝑜𝑔(𝐡)+(1−𝐲)𝑇⋅𝑙𝑜𝑔(1−𝐡))\n",
    "        J = float(-1/m) * np.sum(np.dot(y.T, np.log(h)) + np.dot((1 - y).T, np.log(1 - h))) + (lambda_) * (np.sum(np.abs(theta)))\n",
    "        cost.append(J)\n",
    "        # update the weights theta\n",
    "        theta = theta - (alpha/m)*(np.dot(np.transpose(x),(h-y)))\n",
    "        \n",
    "    \n",
    "                           \n",
    "    J = float(J)\n",
    "    return J, theta, cost"
   ]
  },
  {
   "cell_type": "code",
   "execution_count": 151,
   "id": "9db79680",
   "metadata": {},
   "outputs": [],
   "source": [
    "J, theta, cost = gradientDescent(train_x, train_y, np.zeros((3,1)), 1e-9, 0,5000)"
   ]
  },
  {
   "cell_type": "code",
   "execution_count": 152,
   "id": "409f94ec",
   "metadata": {},
   "outputs": [
    {
     "data": {
      "image/png": "[encoded data removed]",
      "text/plain": [
       "<Figure size 640x480 with 1 Axes>"
      ]
     },
     "metadata": {},
     "output_type": "display_data"
    }
   ],
   "source": [
    "import seaborn as sns\n",
    "import matplotlib.pyplot as plt\n",
    "sns.lineplot(x = range(5000), y = cost);\n",
    "plt.xlabel('Number of Iterations');\n",
    "plt.ylabel('Cost');"
   ]
  },
  {
   "cell_type": "code",
   "execution_count": 91,
   "id": "ab1ad438",
   "metadata": {},
   "outputs": [
    {
     "data": {
      "text/plain": [
       "(18000, 3)"
      ]
     },
     "execution_count": 91,
     "metadata": {},
     "output_type": "execute_result"
    }
   ],
   "source": [
    "train_x.shape"
   ]
  },
  {
   "cell_type": "code",
   "execution_count": 92,
   "id": "797791ac",
   "metadata": {},
   "outputs": [
    {
     "data": {
      "text/plain": [
       "array([[    1, 10377,  8175],\n",
       "       [    1, 15537, 12924],\n",
       "       [    1, 31203, 29270],\n",
       "       ...,\n",
       "       [    1, 27893, 28987],\n",
       "       [    1,  4340,  6934],\n",
       "       [    1,  5775,  9349]], dtype=int64)"
      ]
     },
     "execution_count": 92,
     "metadata": {},
     "output_type": "execute_result"
    }
   ],
   "source": [
    "train_x"
   ]
  },
  {
   "cell_type": "code",
   "execution_count": 93,
   "id": "7cce261e",
   "metadata": {},
   "outputs": [
    {
     "data": {
      "text/plain": [
       "(18000, 1)"
      ]
     },
     "execution_count": 93,
     "metadata": {},
     "output_type": "execute_result"
    }
   ],
   "source": [
    "train_y.shape"
   ]
  },
  {
   "cell_type": "code",
   "execution_count": 94,
   "id": "f6ddc197",
   "metadata": {},
   "outputs": [
    {
     "data": {
      "text/plain": [
       "array([[1., 1., 1., ..., 0., 0., 0.]])"
      ]
     },
     "execution_count": 94,
     "metadata": {},
     "output_type": "execute_result"
    }
   ],
   "source": [
    "train_y.reshape(1,-1)"
   ]
  },
  {
   "cell_type": "code",
   "execution_count": 97,
   "id": "344a6969",
   "metadata": {},
   "outputs": [],
   "source": [
    "y_train = np.array(labels)"
   ]
  },
  {
   "cell_type": "code",
   "execution_count": 98,
   "id": "be79e84b",
   "metadata": {
    "scrolled": true
   },
   "outputs": [],
   "source": [
    "y_train = y_train.reshape(1, -1)"
   ]
  },
  {
   "cell_type": "code",
   "execution_count": 99,
   "id": "2a873664",
   "metadata": {},
   "outputs": [
    {
     "data": {
      "text/plain": [
       "array([1., 1., 1., ..., 0., 0., 0.])"
      ]
     },
     "execution_count": 99,
     "metadata": {},
     "output_type": "execute_result"
    }
   ],
   "source": [
    "y_train[0]"
   ]
  },
  {
   "cell_type": "code",
   "execution_count": 100,
   "id": "2b722bc6",
   "metadata": {},
   "outputs": [
    {
     "data": {
      "text/html": [
       "<style>#sk-container-id-1 {color: black;background-color: white;}#sk-container-id-1 pre{padding: 0;}#sk-container-id-1 div.sk-toggleable {background-color: white;}#sk-container-id-1 label.sk-toggleable__label {cursor: pointer;display: block;width: 100%;margin-bottom: 0;padding: 0.3em;box-sizing: border-box;text-align: center;}#sk-container-id-1 label.sk-toggleable__label-arrow:before {content: \"▸\";float: left;margin-right: 0.25em;color: #696969;}#sk-container-id-1 label.sk-toggleable__label-arrow:hover:before {color: black;}#sk-container-id-1 div.sk-estimator:hover label.sk-toggleable__label-arrow:before {color: black;}#sk-container-id-1 div.sk-toggleable__content {max-height: 0;max-width: 0;overflow: hidden;text-align: left;background-color: #f0f8ff;}#sk-container-id-1 div.sk-toggleable__content pre {margin: 0.2em;color: black;border-radius: 0.25em;background-color: #f0f8ff;}#sk-container-id-1 input.sk-toggleable__control:checked~div.sk-toggleable__content {max-height: 200px;max-width: 100%;overflow: auto;}#sk-container-id-1 input.sk-toggleable__control:checked~label.sk-toggleable__label-arrow:before {content: \"▾\";}#sk-container-id-1 div.sk-estimator input.sk-toggleable__control:checked~label.sk-toggleable__label {background-color: #d4ebff;}#sk-container-id-1 div.sk-label input.sk-toggleable__control:checked~label.sk-toggleable__label {background-color: #d4ebff;}#sk-container-id-1 input.sk-hidden--visually {border: 0;clip: rect(1px 1px 1px 1px);clip: rect(1px, 1px, 1px, 1px);height: 1px;margin: -1px;overflow: hidden;padding: 0;position: absolute;width: 1px;}#sk-container-id-1 div.sk-estimator {font-family: monospace;background-color: #f0f8ff;border: 1px dotted black;border-radius: 0.25em;box-sizing: border-box;margin-bottom: 0.5em;}#sk-container-id-1 div.sk-estimator:hover {background-color: #d4ebff;}#sk-container-id-1 div.sk-parallel-item::after {content: \"\";width: 100%;border-bottom: 1px solid gray;flex-grow: 1;}#sk-container-id-1 div.sk-label:hover label.sk-toggleable__label {background-color: #d4ebff;}#sk-container-id-1 div.sk-serial::before {content: \"\";position: absolute;border-left: 1px solid gray;box-sizing: border-box;top: 0;bottom: 0;left: 50%;z-index: 0;}#sk-container-id-1 div.sk-serial {display: flex;flex-direction: column;align-items: center;background-color: white;padding-right: 0.2em;padding-left: 0.2em;position: relative;}#sk-container-id-1 div.sk-item {position: relative;z-index: 1;}#sk-container-id-1 div.sk-parallel {display: flex;align-items: stretch;justify-content: center;background-color: white;position: relative;}#sk-container-id-1 div.sk-item::before, #sk-container-id-1 div.sk-parallel-item::before {content: \"\";position: absolute;border-left: 1px solid gray;box-sizing: border-box;top: 0;bottom: 0;left: 50%;z-index: -1;}#sk-container-id-1 div.sk-parallel-item {display: flex;flex-direction: column;z-index: 1;position: relative;background-color: white;}#sk-container-id-1 div.sk-parallel-item:first-child::after {align-self: flex-end;width: 50%;}#sk-container-id-1 div.sk-parallel-item:last-child::after {align-self: flex-start;width: 50%;}#sk-container-id-1 div.sk-parallel-item:only-child::after {width: 0;}#sk-container-id-1 div.sk-dashed-wrapped {border: 1px dashed gray;margin: 0 0.4em 0.5em 0.4em;box-sizing: border-box;padding-bottom: 0.4em;background-color: white;}#sk-container-id-1 div.sk-label label {font-family: monospace;font-weight: bold;display: inline-block;line-height: 1.2em;}#sk-container-id-1 div.sk-label-container {text-align: center;}#sk-container-id-1 div.sk-container {/* jupyter's `normalize.less` sets `[hidden] { display: none; }` but bootstrap.min.css set `[hidden] { display: none !important; }` so we also need the `!important` here to be able to override the default hidden behavior on the sphinx rendered scikit-learn.org. See: https://github.com/scikit-learn/scikit-learn/issues/21755 */display: inline-block !important;position: relative;}#sk-container-id-1 div.sk-text-repr-fallback {display: none;}</style><div id=\"sk-container-id-1\" class=\"sk-top-container\"><div class=\"sk-text-repr-fallback\"><pre>LogisticRegression(C=0.1)</pre><b>In a Jupyter environment, please rerun this cell to show the HTML representation or trust the notebook. <br />On GitHub, the HTML representation is unable to render, please try loading this page with nbviewer.org.</b></div><div class=\"sk-container\" hidden><div class=\"sk-item\"><div class=\"sk-estimator sk-toggleable\"><input class=\"sk-toggleable__control sk-hidden--visually\" id=\"sk-estimator-id-1\" type=\"checkbox\" checked><label for=\"sk-estimator-id-1\" class=\"sk-toggleable__label sk-toggleable__label-arrow\">LogisticRegression</label><div class=\"sk-toggleable__content\"><pre>LogisticRegression(C=0.1)</pre></div></div></div></div></div>"
      ],
      "text/plain": [
       "LogisticRegression(C=0.1)"
      ]
     },
     "execution_count": 100,
     "metadata": {},
     "output_type": "execute_result"
    }
   ],
   "source": [
    "import sklearn\n",
    "model = sklearn.linear_model.LogisticRegression(penalty=\"l2\", C=0.1)\n",
    "model.fit(train_x, y_train[0])"
   ]
  },
  {
   "cell_type": "code",
   "execution_count": 101,
   "id": "149870b0",
   "metadata": {},
   "outputs": [],
   "source": [
    "pos_rvw_test = positive_reviews[9000:10000]\n",
    "neg_rvw_test = negative_reviews[9000:10000]"
   ]
  },
  {
   "cell_type": "code",
   "execution_count": 102,
   "id": "9b606caa",
   "metadata": {},
   "outputs": [
    {
     "data": {
      "text/plain": [
       "1"
      ]
     },
     "execution_count": 102,
     "metadata": {},
     "output_type": "execute_result"
    }
   ],
   "source": [
    "compute_prediction(word_list[11006], theta)"
   ]
  },
  {
   "cell_type": "code",
   "execution_count": 103,
   "id": "7e312ceb",
   "metadata": {},
   "outputs": [],
   "source": [
    "test_list = pos_rvw_test + neg_rvw_test"
   ]
  },
  {
   "cell_type": "code",
   "execution_count": 104,
   "id": "3eb3c07a",
   "metadata": {},
   "outputs": [
    {
     "data": {
      "text/plain": [
       "[\"Tear jerker: This was a great story from start to finish as other reviewers have stated. Danny is a waiter at a local restaurant when Ariana and her controlling mother and her companion stop in for lunch. Ariana's mother is controlling of her because Ariana is deaf and feels she needs to make all of her daughter's decisions for her even though she is 21! It is love at first sight for Danny, although Ariana's mother doesn't think Danny is good enough for Ariana and does whatever she can to keep them apart. Kent Moran also performs his own music in this movie which is great! There are a couple more twists to this movie that I don't want to give away. Great tear jerker romance worth having in your movie collection.\",\n",
       " \"Amazing movie...keeps your interest!: Love this movie!1.) Emotion...The movie has some characters you will love and cheer for, and some you will hate.2.) Twists....The movie has a couple of turns that are unpredictable for sure. Without giving them away, this isn't a movie that just starts, tells one plain story, and ends.3.) Great acting/powerful...You get the feeling that you're watching a real life story play out.One of my favorite movies, and when I started watching it, I didn't even think I'd like it. Give it a try!\",\n",
       " \"Wonderful collection: I love this cd very much it a wonderful collection. It I think a better collection then the other one because it doesn't have all of the english songs to see every time we look at a Selena cd. So because of that I think it wonder. The spanish song are the same way it got the songs that we don't see. I think this is a great collection because this is the true meaning of selena.\",\n",
       " 'Selected poems from Montale\\'s first three volumes of poetry: In this book published by New Directions is compiled the more noteworthy poems out of Montale\\'s first three volumes of poetry, in a facing page translation from the Italian. Although not his best work (a title I\\'d rather reserve for his \"Satura\"), the poems of this period are essential to becoming familiar with Montale\\'s technique, which reaches its highest point in the profound \"Picollo testamento (Little Testament).\" The layout of this edition leaves a lot to be desired, but still provides the best introduction to this Nobel laureate\\'s early poetry.',\n",
       " 'A real swashbuckler...: ...that buckles every swash imaginable. War, treachery, disguise, secret passages, shipwrecks, damsels in distress -- an amazing amount gets packed into this not-very-long book. Great fun, but the pseudo-fifteenth-century dialog (\"Sirs, this knave arrow likes me not. But it importeth rather to take counsel.\") will prove an unfortunate obstacle to the very readers who would otherwise enjoy the story most, the young.',\n",
       " 'A superb adventure novel: \"The Black Arrow\" is R. L. Stevenson at his best. With a smooth, proper style Stevenson creates complex, conflictive characters in an adventure full of emotion and thrills. For anyone who likes adventure, this novel is going to be one of his/her favorites because in this book Stevenson combines beauty with danger.',\n",
       " 'Review for the book Black Arrow: This book was hard to get interested in at first. It was hard to understand the language used. After a couple of chapters, I was able to get the gist of most of it. There are still some terms that I needed a dictionary for, but they were about clothing so I just skipped over them. The story was very interesting and I would recommend it if you like a challenge and don\\'t mind struggling through a couple of chapters to get to the \"good\" part.',\n",
       " \"A Solid Adventure Novel: The Black Arrow was an enjoyable, fast-paced adventure novel. The protagonist was flawed in a way that made him believable and likable. Best of all, his flaws serve the reader as subtle cautionary tales against haste and violence while still providing a very entertaining read.Written for adolescents, I expect that the novel's period-style language would be somewhat difficult for younger readers today although I do think that the lessons are valuable enough that young people should be encouraged to at least attempt what is otherwise a not very challenging read. The ending, the change in the protagonist's goals and his realizations about his own actions were very satisfying.Additionally, I found the free Kindle edition to be adequate and free from distracting format errors or other issues.\",\n",
       " 'The Journey of a real Singer-Songwriter: \"The Big Night,\" is a breakthrough album for David Zollo. After a Tenure in Iowa\\'s \"High and Lonesome,\" and a collection of solo albums each building upon the last, this album presents itself as the matured Zollo in good form. The music is the sound of Iowa, with its dirt roads and endless fields of corn. This is the sound of honky tonk Barn parties sung by a throat as scratchy as brillo pad. Check it out.',\n",
       " 'Can it get better?: Dave has outdone himself with this album. This is his third \"solo\" album on the independant label he runs in Iowa City called Trailer Records. Dave can sound like rock n roll, folk, Alt-Country, and bluesy among other unknown or unnamed styles. The Big Night explores these different musical styles and puts them together to form his unique sound. If you like Bob Dylan, Greg Brown, Todd Snider, The Rolling Stones, or any similar atists you should give this album a try.']"
      ]
     },
     "execution_count": 104,
     "metadata": {},
     "output_type": "execute_result"
    }
   ],
   "source": [
    "test_list[:10]"
   ]
  },
  {
   "cell_type": "code",
   "execution_count": null,
   "id": "cea51650",
   "metadata": {},
   "outputs": [],
   "source": []
  },
  {
   "cell_type": "code",
   "execution_count": 105,
   "id": "fa0cd262",
   "metadata": {},
   "outputs": [],
   "source": [
    "predictions = []\n",
    "for review in test_list:\n",
    "    predictions.append(compute_prediction(review, theta))"
   ]
  },
  {
   "cell_type": "code",
   "execution_count": 106,
   "id": "df9134bc",
   "metadata": {},
   "outputs": [],
   "source": [
    "test_arr =  [extract_feature(review, lemma_count)[0] for review in test_list]"
   ]
  },
  {
   "cell_type": "code",
   "execution_count": 107,
   "id": "1a4ac880",
   "metadata": {},
   "outputs": [],
   "source": [
    "pred_arr = np.array(predictions)"
   ]
  },
  {
   "cell_type": "code",
   "execution_count": 108,
   "id": "5c3f53e7",
   "metadata": {},
   "outputs": [],
   "source": [
    "test_y = np.append(np.ones((len(pos_rvw_test))), np.zeros((len(neg_rvw_test))), axis = 0)\n"
   ]
  },
  {
   "cell_type": "code",
   "execution_count": 109,
   "id": "da4fdbd4",
   "metadata": {},
   "outputs": [
    {
     "name": "stdout",
     "output_type": "stream",
     "text": [
      "Accuracy of Logisitic Regression with Bag of Words: 76.9\n"
     ]
    }
   ],
   "source": [
    "print('Accuracy of Logisitic Regression with Bag of Words: {}'.format(np.mean(pred_arr == test_y) * 100))"
   ]
  },
  {
   "cell_type": "markdown",
   "id": "39eb7a92",
   "metadata": {},
   "source": [
    "## TFIDF Vectorizer"
   ]
  },
  {
   "cell_type": "code",
   "execution_count": 110,
   "id": "755c4f86",
   "metadata": {},
   "outputs": [],
   "source": [
    "from sklearn.feature_extraction.text import TfidfVectorizer\n",
    " \n",
    "# assign corpus\n",
    " \n",
    "# create object\n",
    "tfidf = TfidfVectorizer(min_df = 5, max_df = 0.5)"
   ]
  },
  {
   "cell_type": "code",
   "execution_count": 111,
   "id": "bc0c137f",
   "metadata": {},
   "outputs": [],
   "source": [
    "clean_txt = pd.read_csv(r\"E:\\Natural Language Processesing\\clean_txt.csv\")"
   ]
  },
  {
   "cell_type": "code",
   "execution_count": 112,
   "id": "6184af21",
   "metadata": {},
   "outputs": [
    {
     "data": {
      "text/html": [
       "<div>\n",
       "<style scoped>\n",
       "    .dataframe tbody tr th:only-of-type {\n",
       "        vertical-align: middle;\n",
       "    }\n",
       "\n",
       "    .dataframe tbody tr th {\n",
       "        vertical-align: top;\n",
       "    }\n",
       "\n",
       "    .dataframe thead th {\n",
       "        text-align: right;\n",
       "    }\n",
       "</style>\n",
       "<table border=\"1\" class=\"dataframe\">\n",
       "  <thead>\n",
       "    <tr style=\"text-align: right;\">\n",
       "      <th></th>\n",
       "      <th>reviews</th>\n",
       "      <th>clean_text</th>\n",
       "      <th>postive_count</th>\n",
       "      <th>negative_count</th>\n",
       "      <th>label</th>\n",
       "      <th>lemmatised</th>\n",
       "      <th>positive_lemma_count</th>\n",
       "      <th>negative_lemma_count</th>\n",
       "      <th>bias</th>\n",
       "    </tr>\n",
       "  </thead>\n",
       "  <tbody>\n",
       "    <tr>\n",
       "      <th>0</th>\n",
       "      <td>Stuning even for the non-gamer: This sound tra...</td>\n",
       "      <td>stun non-gam sound track beauti paint sceneri ...</td>\n",
       "      <td>12875</td>\n",
       "      <td>10457</td>\n",
       "      <td>1.0</td>\n",
       "      <td>stunning non-gamer sound track beautiful paint...</td>\n",
       "      <td>10377</td>\n",
       "      <td>8175</td>\n",
       "      <td>1</td>\n",
       "    </tr>\n",
       "    <tr>\n",
       "      <th>1</th>\n",
       "      <td>The best soundtrack ever to anything.: I'm rea...</td>\n",
       "      <td>best soundtrack read lot review say best game ...</td>\n",
       "      <td>20553</td>\n",
       "      <td>17132</td>\n",
       "      <td>1.0</td>\n",
       "      <td>best soundtrack reading lot review saying best...</td>\n",
       "      <td>15537</td>\n",
       "      <td>12924</td>\n",
       "      <td>1</td>\n",
       "    </tr>\n",
       "    <tr>\n",
       "      <th>2</th>\n",
       "      <td>Amazing!: This soundtrack is my favorite music...</td>\n",
       "      <td>amaz soundtrack favorit music time hand intens...</td>\n",
       "      <td>34847</td>\n",
       "      <td>32896</td>\n",
       "      <td>1.0</td>\n",
       "      <td>amazing soundtrack favorite music time hand in...</td>\n",
       "      <td>31203</td>\n",
       "      <td>29270</td>\n",
       "      <td>1</td>\n",
       "    </tr>\n",
       "    <tr>\n",
       "      <th>3</th>\n",
       "      <td>Excellent Soundtrack: I truly like this soundt...</td>\n",
       "      <td>excel soundtrack truli like soundtrack enjoy v...</td>\n",
       "      <td>29606</td>\n",
       "      <td>24067</td>\n",
       "      <td>1.0</td>\n",
       "      <td>excellent soundtrack truly like soundtrack enj...</td>\n",
       "      <td>26345</td>\n",
       "      <td>21910</td>\n",
       "      <td>1</td>\n",
       "    </tr>\n",
       "    <tr>\n",
       "      <th>4</th>\n",
       "      <td>Remember, Pull Your Jaw Off The Floor After He...</td>\n",
       "      <td>rememb pull jaw floor hear play game know divi...</td>\n",
       "      <td>19304</td>\n",
       "      <td>15034</td>\n",
       "      <td>1.0</td>\n",
       "      <td>remember pull jaw floor hearing played game kn...</td>\n",
       "      <td>17881</td>\n",
       "      <td>13747</td>\n",
       "      <td>1</td>\n",
       "    </tr>\n",
       "    <tr>\n",
       "      <th>...</th>\n",
       "      <td>...</td>\n",
       "      <td>...</td>\n",
       "      <td>...</td>\n",
       "      <td>...</td>\n",
       "      <td>...</td>\n",
       "      <td>...</td>\n",
       "      <td>...</td>\n",
       "      <td>...</td>\n",
       "      <td>...</td>\n",
       "    </tr>\n",
       "    <tr>\n",
       "      <th>17995</th>\n",
       "      <td>I was disappointed: I do not know what I expec...</td>\n",
       "      <td>disappoint ignor expect see duet disappoint re...</td>\n",
       "      <td>2348</td>\n",
       "      <td>5235</td>\n",
       "      <td>0.0</td>\n",
       "      <td>disappointed ignore expected seeing duet disap...</td>\n",
       "      <td>1686</td>\n",
       "      <td>3365</td>\n",
       "      <td>1</td>\n",
       "    </tr>\n",
       "    <tr>\n",
       "      <th>17996</th>\n",
       "      <td>missing....: i ordered this dvd for my dad's b...</td>\n",
       "      <td>miss order dad birthday open day later watch f...</td>\n",
       "      <td>3374</td>\n",
       "      <td>3971</td>\n",
       "      <td>0.0</td>\n",
       "      <td>missing ordered dad birthday opened day later ...</td>\n",
       "      <td>2504</td>\n",
       "      <td>2952</td>\n",
       "      <td>1</td>\n",
       "    </tr>\n",
       "    <tr>\n",
       "      <th>17997</th>\n",
       "      <td>poorly done !: Not sure what the other person ...</td>\n",
       "      <td>poorli unsur person smoke review book beginn d...</td>\n",
       "      <td>33007</td>\n",
       "      <td>35056</td>\n",
       "      <td>0.0</td>\n",
       "      <td>poorly unsure person smoking reviewing book be...</td>\n",
       "      <td>27893</td>\n",
       "      <td>28987</td>\n",
       "      <td>1</td>\n",
       "    </tr>\n",
       "    <tr>\n",
       "      <th>17998</th>\n",
       "      <td>Ty Beanie Babies Dog: Don't waste your money o...</td>\n",
       "      <td>ty beani babi dog conserv money like photo pro...</td>\n",
       "      <td>5310</td>\n",
       "      <td>8237</td>\n",
       "      <td>0.0</td>\n",
       "      <td>ty beanie baby dog conserve money like photo p...</td>\n",
       "      <td>4340</td>\n",
       "      <td>6934</td>\n",
       "      <td>1</td>\n",
       "    </tr>\n",
       "    <tr>\n",
       "      <th>17999</th>\n",
       "      <td>Cheap product: Made the mistake of buying an a...</td>\n",
       "      <td>cheap product mistak buy market china think sa...</td>\n",
       "      <td>9284</td>\n",
       "      <td>13793</td>\n",
       "      <td>0.0</td>\n",
       "      <td>cheap product mistake buying market china thin...</td>\n",
       "      <td>5775</td>\n",
       "      <td>9349</td>\n",
       "      <td>1</td>\n",
       "    </tr>\n",
       "  </tbody>\n",
       "</table>\n",
       "<p>18000 rows × 9 columns</p>\n",
       "</div>"
      ],
      "text/plain": [
       "                                                 reviews  \\\n",
       "0      Stuning even for the non-gamer: This sound tra...   \n",
       "1      The best soundtrack ever to anything.: I'm rea...   \n",
       "2      Amazing!: This soundtrack is my favorite music...   \n",
       "3      Excellent Soundtrack: I truly like this soundt...   \n",
       "4      Remember, Pull Your Jaw Off The Floor After He...   \n",
       "...                                                  ...   \n",
       "17995  I was disappointed: I do not know what I expec...   \n",
       "17996  missing....: i ordered this dvd for my dad's b...   \n",
       "17997  poorly done !: Not sure what the other person ...   \n",
       "17998  Ty Beanie Babies Dog: Don't waste your money o...   \n",
       "17999  Cheap product: Made the mistake of buying an a...   \n",
       "\n",
       "                                              clean_text  postive_count  \\\n",
       "0      stun non-gam sound track beauti paint sceneri ...          12875   \n",
       "1      best soundtrack read lot review say best game ...          20553   \n",
       "2      amaz soundtrack favorit music time hand intens...          34847   \n",
       "3      excel soundtrack truli like soundtrack enjoy v...          29606   \n",
       "4      rememb pull jaw floor hear play game know divi...          19304   \n",
       "...                                                  ...            ...   \n",
       "17995  disappoint ignor expect see duet disappoint re...           2348   \n",
       "17996  miss order dad birthday open day later watch f...           3374   \n",
       "17997  poorli unsur person smoke review book beginn d...          33007   \n",
       "17998  ty beani babi dog conserv money like photo pro...           5310   \n",
       "17999  cheap product mistak buy market china think sa...           9284   \n",
       "\n",
       "       negative_count  label  \\\n",
       "0               10457    1.0   \n",
       "1               17132    1.0   \n",
       "2               32896    1.0   \n",
       "3               24067    1.0   \n",
       "4               15034    1.0   \n",
       "...               ...    ...   \n",
       "17995            5235    0.0   \n",
       "17996            3971    0.0   \n",
       "17997           35056    0.0   \n",
       "17998            8237    0.0   \n",
       "17999           13793    0.0   \n",
       "\n",
       "                                              lemmatised  \\\n",
       "0      stunning non-gamer sound track beautiful paint...   \n",
       "1      best soundtrack reading lot review saying best...   \n",
       "2      amazing soundtrack favorite music time hand in...   \n",
       "3      excellent soundtrack truly like soundtrack enj...   \n",
       "4      remember pull jaw floor hearing played game kn...   \n",
       "...                                                  ...   \n",
       "17995  disappointed ignore expected seeing duet disap...   \n",
       "17996  missing ordered dad birthday opened day later ...   \n",
       "17997  poorly unsure person smoking reviewing book be...   \n",
       "17998  ty beanie baby dog conserve money like photo p...   \n",
       "17999  cheap product mistake buying market china thin...   \n",
       "\n",
       "       positive_lemma_count  negative_lemma_count  bias  \n",
       "0                     10377                  8175     1  \n",
       "1                     15537                 12924     1  \n",
       "2                     31203                 29270     1  \n",
       "3                     26345                 21910     1  \n",
       "4                     17881                 13747     1  \n",
       "...                     ...                   ...   ...  \n",
       "17995                  1686                  3365     1  \n",
       "17996                  2504                  2952     1  \n",
       "17997                 27893                 28987     1  \n",
       "17998                  4340                  6934     1  \n",
       "17999                  5775                  9349     1  \n",
       "\n",
       "[18000 rows x 9 columns]"
      ]
     },
     "execution_count": 112,
     "metadata": {},
     "output_type": "execute_result"
    }
   ],
   "source": [
    "review_df"
   ]
  },
  {
   "cell_type": "code",
   "execution_count": 141,
   "id": "3a1da3d5",
   "metadata": {},
   "outputs": [
    {
     "data": {
      "text/plain": [
       "['stun non-gam sound track beauti paint sceneri mind recommend peopl hate vid game music play game chrono cross game play best music back away crude keyboard take fresher step grate guitar soul orchestra impress care listen',\n",
       " 'best soundtrack read lot review say best game soundtrack figur write review disagre bit opinion yasunori itsuka ultim masterpiec music timeless listen year beauti simpli refus fade price tag pretti stagger go buy ad money feel worth penni',\n",
       " 'amaz soundtrack favorit music time hand intens sad prison fate mean play game hope distant promis girl stole star import inspir person teen year higher energi track like chrono cross time scare time dreamwatch chronomantiqu indefin reminisc chrono trigger absolut superb soundtrack amaz music probabl best compos work heard xenogear soundtrack sure play game worth twice price buy wish number star',\n",
       " 'excel soundtrack truli like soundtrack enjoy video game music play game music enjoy truli relax peac disk favorit scar time life death forest illus fortress ancient dragon lost fragment drown valley disk dragon galor - home chronomantiqu prison fate gale girlfriend like zelbessdisk best garden god chronopoli fate jellyfish sea burn orphanag dragon prayer tower star dragon god radic dreamer - unspeak jewel overal excel soundtrack brought like video game music xander cross',\n",
       " 'rememb pull jaw floor hear play game know divin music singl song tell stori game good greatest song doubt chrono cross time scar magic dreamer wind star sea radic dreamer stolen jewel translat vari music perfect ask best yasunori itsuka pour heart wrote paper',\n",
       " 'absolut masterpiec sure actual take time read play game heard track awar itsuka music contribut greatli mood singl minut game compos number co song exact count heart-rend impress remark soundtrack assur rememb listen fast-pac energet danc hokag termin home slower haunt dragon god pure beauti compos time scar fantast vocal radic dreamer best videogam soundtrack sure itsuka best',\n",
       " 'gloriou stori love whisper wick saint stori amaz pleasantli surpris chang book paranorm romanc novel world rave book bought love brilliant stori true book wonder told friend read typic romanc read book crime miss heart warm stori',\n",
       " 'star book finish read whisper wick saint fell love charact expect averag romanc read instead found favorit book time thought predict outcom shock writ descript heart broke julia felt instead distant reader lover romanc novel read prevent cover fool book spectacular',\n",
       " 'whisper wick saint easi read book want read uneasi left want read follow hope come soon read lot gotten away book want read enjoy',\n",
       " 'great book great book divest read fast boy book twist turn keep guess want know go happen book make fall love heat angri book throw emot quick read romanc want end day read night']"
      ]
     },
     "execution_count": 141,
     "metadata": {},
     "output_type": "execute_result"
    }
   ],
   "source": [
    "list(clean_txt['clean_text'])[:10]"
   ]
  },
  {
   "cell_type": "code",
   "execution_count": 114,
   "id": "ebb0e4cf",
   "metadata": {},
   "outputs": [],
   "source": [
    "review_list = list(review_df['lemmatised'])"
   ]
  },
  {
   "cell_type": "code",
   "execution_count": 142,
   "id": "ba3e44a9",
   "metadata": {},
   "outputs": [
    {
     "data": {
      "text/plain": [
       "['stunning non-gamer sound track beautiful paint scenery mind recommend people hate vid game music played game chrono cross game played best music back away crude keyboarding take fresher step grate guitar soulful orchestra impress care listen',\n",
       " 'best soundtrack reading lot review saying best game soundtrack figured write review disagree bit opinion yasunori itsuka ultimate masterpiece music timeless listening year beauty simply refuse fade price tag pretty staggering going buy ad money feel worth penny',\n",
       " 'amazing soundtrack favorite music time hand intense sadness prisoner fate mean played game hope distant promise girl stole star important inspiration personally teen year higher energy track like chrono cross time scare time dreamwatch chronomantique indefinable reminiscent chrono trigger absolutely superb soundtrack amazing music probably best composer work heard xenogears soundtrack sure played game worth twice price buy wish NUMBER star',\n",
       " 'excellent soundtrack truly like soundtrack enjoy video game music played game music enjoy truly relaxing peaceful disk favorite scar time life death forest illusion fortress ancient dragon lost fragment drowned valley disk dragon galore - home chronomantique prisoner fate gale girlfriend like zelbessdisk best garden god chronopolis fate jellyfish sea burning orphanage dragon prayer tower star dragon god radical dreamer - unspeakable jewel overall excellent soundtrack brought like video game music xander cross',\n",
       " 'remember pull jaw floor hearing played game know divine music single song tell story game good greatest song doubt chrono cross time scar magical dreamer wind star sea radical dreamer stolen jewel translation varies music perfect ask best yasunori itsuka poured heart wrote paper',\n",
       " 'absolute masterpiece sure actually taking time read played game heard track aware itsuka music contributed greatly mood single minute game composed NUMBER co song exact count heart-rendering impressively remarkable soundtrack assure remember listener fast-paced energetic dancing hokage terminal home slower haunting dragon god purely beautifully composed time scar fantastic vocal radical dreamer best videogame soundtrack surely itsuka best',\n",
       " 'glorious story loved whisper wicked saint story amazing pleasantly surprised change book paranormal romance novel world raving book bought loved brilliant story true book wonderful told friend read typical romance reading book crime missing heart warming story',\n",
       " 'star book finished reading whisper wicked saint fell love character expected average romance read instead found favorite book time thought predict outcome shocked writting descriptive heart broke julia felt instead distant reader lover romance novel read prevent cover fool book spectacular',\n",
       " 'whisper wicked saint easy read book want reading uneasy left wanting read follow hope coming soon read lot gotten away book want read enjoyable',\n",
       " 'great book great book divest read fast boy book twist turn keep guessing wanting know going happen book make fall love heat angry book throw emotion quick read romance want end day read night']"
      ]
     },
     "execution_count": 142,
     "metadata": {},
     "output_type": "execute_result"
    }
   ],
   "source": [
    "review_list[:10]"
   ]
  },
  {
   "cell_type": "code",
   "execution_count": 116,
   "id": "8b727fc9",
   "metadata": {},
   "outputs": [],
   "source": [
    "X = tfidf.fit_transform(review_list)"
   ]
  },
  {
   "cell_type": "code",
   "execution_count": 117,
   "id": "b104a13b",
   "metadata": {},
   "outputs": [],
   "source": [
    "X = X.toarray()"
   ]
  },
  {
   "cell_type": "code",
   "execution_count": 118,
   "id": "36e4eda3",
   "metadata": {},
   "outputs": [],
   "source": [
    "train_y = train_y.T"
   ]
  },
  {
   "cell_type": "code",
   "execution_count": 119,
   "id": "756d5fa5",
   "metadata": {},
   "outputs": [
    {
     "data": {
      "text/plain": [
       "array([[1., 1., 1., ..., 0., 0., 0.]])"
      ]
     },
     "execution_count": 119,
     "metadata": {},
     "output_type": "execute_result"
    }
   ],
   "source": [
    "train_y"
   ]
  },
  {
   "cell_type": "code",
   "execution_count": 120,
   "id": "e60690c6",
   "metadata": {},
   "outputs": [
    {
     "data": {
      "text/html": [
       "<style>#sk-container-id-2 {color: black;background-color: white;}#sk-container-id-2 pre{padding: 0;}#sk-container-id-2 div.sk-toggleable {background-color: white;}#sk-container-id-2 label.sk-toggleable__label {cursor: pointer;display: block;width: 100%;margin-bottom: 0;padding: 0.3em;box-sizing: border-box;text-align: center;}#sk-container-id-2 label.sk-toggleable__label-arrow:before {content: \"▸\";float: left;margin-right: 0.25em;color: #696969;}#sk-container-id-2 label.sk-toggleable__label-arrow:hover:before {color: black;}#sk-container-id-2 div.sk-estimator:hover label.sk-toggleable__label-arrow:before {color: black;}#sk-container-id-2 div.sk-toggleable__content {max-height: 0;max-width: 0;overflow: hidden;text-align: left;background-color: #f0f8ff;}#sk-container-id-2 div.sk-toggleable__content pre {margin: 0.2em;color: black;border-radius: 0.25em;background-color: #f0f8ff;}#sk-container-id-2 input.sk-toggleable__control:checked~div.sk-toggleable__content {max-height: 200px;max-width: 100%;overflow: auto;}#sk-container-id-2 input.sk-toggleable__control:checked~label.sk-toggleable__label-arrow:before {content: \"▾\";}#sk-container-id-2 div.sk-estimator input.sk-toggleable__control:checked~label.sk-toggleable__label {background-color: #d4ebff;}#sk-container-id-2 div.sk-label input.sk-toggleable__control:checked~label.sk-toggleable__label {background-color: #d4ebff;}#sk-container-id-2 input.sk-hidden--visually {border: 0;clip: rect(1px 1px 1px 1px);clip: rect(1px, 1px, 1px, 1px);height: 1px;margin: -1px;overflow: hidden;padding: 0;position: absolute;width: 1px;}#sk-container-id-2 div.sk-estimator {font-family: monospace;background-color: #f0f8ff;border: 1px dotted black;border-radius: 0.25em;box-sizing: border-box;margin-bottom: 0.5em;}#sk-container-id-2 div.sk-estimator:hover {background-color: #d4ebff;}#sk-container-id-2 div.sk-parallel-item::after {content: \"\";width: 100%;border-bottom: 1px solid gray;flex-grow: 1;}#sk-container-id-2 div.sk-label:hover label.sk-toggleable__label {background-color: #d4ebff;}#sk-container-id-2 div.sk-serial::before {content: \"\";position: absolute;border-left: 1px solid gray;box-sizing: border-box;top: 0;bottom: 0;left: 50%;z-index: 0;}#sk-container-id-2 div.sk-serial {display: flex;flex-direction: column;align-items: center;background-color: white;padding-right: 0.2em;padding-left: 0.2em;position: relative;}#sk-container-id-2 div.sk-item {position: relative;z-index: 1;}#sk-container-id-2 div.sk-parallel {display: flex;align-items: stretch;justify-content: center;background-color: white;position: relative;}#sk-container-id-2 div.sk-item::before, #sk-container-id-2 div.sk-parallel-item::before {content: \"\";position: absolute;border-left: 1px solid gray;box-sizing: border-box;top: 0;bottom: 0;left: 50%;z-index: -1;}#sk-container-id-2 div.sk-parallel-item {display: flex;flex-direction: column;z-index: 1;position: relative;background-color: white;}#sk-container-id-2 div.sk-parallel-item:first-child::after {align-self: flex-end;width: 50%;}#sk-container-id-2 div.sk-parallel-item:last-child::after {align-self: flex-start;width: 50%;}#sk-container-id-2 div.sk-parallel-item:only-child::after {width: 0;}#sk-container-id-2 div.sk-dashed-wrapped {border: 1px dashed gray;margin: 0 0.4em 0.5em 0.4em;box-sizing: border-box;padding-bottom: 0.4em;background-color: white;}#sk-container-id-2 div.sk-label label {font-family: monospace;font-weight: bold;display: inline-block;line-height: 1.2em;}#sk-container-id-2 div.sk-label-container {text-align: center;}#sk-container-id-2 div.sk-container {/* jupyter's `normalize.less` sets `[hidden] { display: none; }` but bootstrap.min.css set `[hidden] { display: none !important; }` so we also need the `!important` here to be able to override the default hidden behavior on the sphinx rendered scikit-learn.org. See: https://github.com/scikit-learn/scikit-learn/issues/21755 */display: inline-block !important;position: relative;}#sk-container-id-2 div.sk-text-repr-fallback {display: none;}</style><div id=\"sk-container-id-2\" class=\"sk-top-container\"><div class=\"sk-text-repr-fallback\"><pre>LogisticRegression(C=0.1)</pre><b>In a Jupyter environment, please rerun this cell to show the HTML representation or trust the notebook. <br />On GitHub, the HTML representation is unable to render, please try loading this page with nbviewer.org.</b></div><div class=\"sk-container\" hidden><div class=\"sk-item\"><div class=\"sk-estimator sk-toggleable\"><input class=\"sk-toggleable__control sk-hidden--visually\" id=\"sk-estimator-id-2\" type=\"checkbox\" checked><label for=\"sk-estimator-id-2\" class=\"sk-toggleable__label sk-toggleable__label-arrow\">LogisticRegression</label><div class=\"sk-toggleable__content\"><pre>LogisticRegression(C=0.1)</pre></div></div></div></div></div>"
      ],
      "text/plain": [
       "LogisticRegression(C=0.1)"
      ]
     },
     "execution_count": 120,
     "metadata": {},
     "output_type": "execute_result"
    }
   ],
   "source": [
    "import sklearn\n",
    "model = sklearn.linear_model.LogisticRegression(penalty=\"l2\", C=0.1)\n",
    "model.fit(X, train_y[0])"
   ]
  },
  {
   "cell_type": "code",
   "execution_count": 121,
   "id": "152ce64f",
   "metadata": {},
   "outputs": [],
   "source": [
    "test_l = [preprocess_text(x) for x in test_list]"
   ]
  },
  {
   "cell_type": "code",
   "execution_count": 122,
   "id": "9bcd0f19",
   "metadata": {},
   "outputs": [],
   "source": [
    "test_l = [\" \".join(x) for x in test_l]"
   ]
  },
  {
   "cell_type": "code",
   "execution_count": 123,
   "id": "6ac5c1cd",
   "metadata": {},
   "outputs": [
    {
     "data": {
      "text/plain": [
       "['tear jerked great story start finish reviewer stated danny waiter local restaurant arian controlling mother companion stop lunch arian mother controlling arian deaf feel need daughter decision NUMBER love sight danny arian mother forget danny good arian apart kent moran performs music movie great couple twist movie want away great tear jerked romance worth having movie collection',\n",
       " 'amazing movie keep interest love movie NUMBER emotion movie character love cheer hate NUMBER twist movie couple turn unpredictable sure giving away movie start tell plain story end NUMBER great acting powerful feeling watching real life story play favorite movie started watching odd think like try',\n",
       " 'wonderful collection love ad wonderful collection think better collection lack english song time look selena ad think wonder spanish song way got song think great collection true meaning selena',\n",
       " 'selected poem montage volume poetry book published new direction compiled noteworthy poem montage volume poetry facing page translation italian best work title reserve saturn poem period essential familiar montage technique reach highest point profound piccolo testament little testament layout edition leaf lot desired provides best introduction nobel laureate early poetry',\n",
       " 'real swashbuckler buckle wash imaginable war treachery disguise secret passage shipwreck damsel distress amazing get packed not-very-long book great fun pseudo-fifteenth-century dialog sir knave arrow like imported counsel prove unfortunate obstacle reader enjoy story young']"
      ]
     },
     "execution_count": 123,
     "metadata": {},
     "output_type": "execute_result"
    }
   ],
   "source": [
    "test_l[:5]"
   ]
  },
  {
   "cell_type": "code",
   "execution_count": 124,
   "id": "62993cc0",
   "metadata": {},
   "outputs": [],
   "source": [
    "X_test = tfidf.transform(test_l)"
   ]
  },
  {
   "cell_type": "code",
   "execution_count": 125,
   "id": "760e6c06",
   "metadata": {},
   "outputs": [],
   "source": [
    "y_pred = model.predict(X_test)"
   ]
  },
  {
   "cell_type": "code",
   "execution_count": 126,
   "id": "df77ebb1",
   "metadata": {},
   "outputs": [
    {
     "data": {
      "text/plain": [
       "array([1., 1., 1., ..., 0., 0., 0.])"
      ]
     },
     "execution_count": 126,
     "metadata": {},
     "output_type": "execute_result"
    }
   ],
   "source": [
    "y_pred"
   ]
  },
  {
   "cell_type": "code",
   "execution_count": 127,
   "id": "f882fc39",
   "metadata": {},
   "outputs": [
    {
     "name": "stdout",
     "output_type": "stream",
     "text": [
      "Accuracy of Logisitic Regression with TFIDF Vectorizer: 85.05\n"
     ]
    }
   ],
   "source": [
    "print('Accuracy of Logisitic Regression with TFIDF Vectorizer: {}'.format(np.mean(y_pred == test_y) * 100))"
   ]
  },
  {
   "cell_type": "markdown",
   "id": "2b88e83f",
   "metadata": {},
   "source": [
    "## Naive Bayes"
   ]
  },
  {
   "cell_type": "code",
   "execution_count": 128,
   "id": "80dcb8c7",
   "metadata": {},
   "outputs": [
    {
     "data": {
      "text/html": [
       "<div>\n",
       "<style scoped>\n",
       "    .dataframe tbody tr th:only-of-type {\n",
       "        vertical-align: middle;\n",
       "    }\n",
       "\n",
       "    .dataframe tbody tr th {\n",
       "        vertical-align: top;\n",
       "    }\n",
       "\n",
       "    .dataframe thead th {\n",
       "        text-align: right;\n",
       "    }\n",
       "</style>\n",
       "<table border=\"1\" class=\"dataframe\">\n",
       "  <thead>\n",
       "    <tr style=\"text-align: right;\">\n",
       "      <th></th>\n",
       "      <th>reviews</th>\n",
       "      <th>clean_text</th>\n",
       "      <th>postive_count</th>\n",
       "      <th>negative_count</th>\n",
       "      <th>label</th>\n",
       "      <th>lemmatised</th>\n",
       "      <th>positive_lemma_count</th>\n",
       "      <th>negative_lemma_count</th>\n",
       "      <th>bias</th>\n",
       "    </tr>\n",
       "  </thead>\n",
       "  <tbody>\n",
       "    <tr>\n",
       "      <th>0</th>\n",
       "      <td>Stuning even for the non-gamer: This sound tra...</td>\n",
       "      <td>stun non-gam sound track beauti paint sceneri ...</td>\n",
       "      <td>12875</td>\n",
       "      <td>10457</td>\n",
       "      <td>1.0</td>\n",
       "      <td>stunning non-gamer sound track beautiful paint...</td>\n",
       "      <td>10377</td>\n",
       "      <td>8175</td>\n",
       "      <td>1</td>\n",
       "    </tr>\n",
       "    <tr>\n",
       "      <th>1</th>\n",
       "      <td>The best soundtrack ever to anything.: I'm rea...</td>\n",
       "      <td>best soundtrack read lot review say best game ...</td>\n",
       "      <td>20553</td>\n",
       "      <td>17132</td>\n",
       "      <td>1.0</td>\n",
       "      <td>best soundtrack reading lot review saying best...</td>\n",
       "      <td>15537</td>\n",
       "      <td>12924</td>\n",
       "      <td>1</td>\n",
       "    </tr>\n",
       "    <tr>\n",
       "      <th>2</th>\n",
       "      <td>Amazing!: This soundtrack is my favorite music...</td>\n",
       "      <td>amaz soundtrack favorit music time hand intens...</td>\n",
       "      <td>34847</td>\n",
       "      <td>32896</td>\n",
       "      <td>1.0</td>\n",
       "      <td>amazing soundtrack favorite music time hand in...</td>\n",
       "      <td>31203</td>\n",
       "      <td>29270</td>\n",
       "      <td>1</td>\n",
       "    </tr>\n",
       "    <tr>\n",
       "      <th>3</th>\n",
       "      <td>Excellent Soundtrack: I truly like this soundt...</td>\n",
       "      <td>excel soundtrack truli like soundtrack enjoy v...</td>\n",
       "      <td>29606</td>\n",
       "      <td>24067</td>\n",
       "      <td>1.0</td>\n",
       "      <td>excellent soundtrack truly like soundtrack enj...</td>\n",
       "      <td>26345</td>\n",
       "      <td>21910</td>\n",
       "      <td>1</td>\n",
       "    </tr>\n",
       "    <tr>\n",
       "      <th>4</th>\n",
       "      <td>Remember, Pull Your Jaw Off The Floor After He...</td>\n",
       "      <td>rememb pull jaw floor hear play game know divi...</td>\n",
       "      <td>19304</td>\n",
       "      <td>15034</td>\n",
       "      <td>1.0</td>\n",
       "      <td>remember pull jaw floor hearing played game kn...</td>\n",
       "      <td>17881</td>\n",
       "      <td>13747</td>\n",
       "      <td>1</td>\n",
       "    </tr>\n",
       "    <tr>\n",
       "      <th>...</th>\n",
       "      <td>...</td>\n",
       "      <td>...</td>\n",
       "      <td>...</td>\n",
       "      <td>...</td>\n",
       "      <td>...</td>\n",
       "      <td>...</td>\n",
       "      <td>...</td>\n",
       "      <td>...</td>\n",
       "      <td>...</td>\n",
       "    </tr>\n",
       "    <tr>\n",
       "      <th>17995</th>\n",
       "      <td>I was disappointed: I do not know what I expec...</td>\n",
       "      <td>disappoint ignor expect see duet disappoint re...</td>\n",
       "      <td>2348</td>\n",
       "      <td>5235</td>\n",
       "      <td>0.0</td>\n",
       "      <td>disappointed ignore expected seeing duet disap...</td>\n",
       "      <td>1686</td>\n",
       "      <td>3365</td>\n",
       "      <td>1</td>\n",
       "    </tr>\n",
       "    <tr>\n",
       "      <th>17996</th>\n",
       "      <td>missing....: i ordered this dvd for my dad's b...</td>\n",
       "      <td>miss order dad birthday open day later watch f...</td>\n",
       "      <td>3374</td>\n",
       "      <td>3971</td>\n",
       "      <td>0.0</td>\n",
       "      <td>missing ordered dad birthday opened day later ...</td>\n",
       "      <td>2504</td>\n",
       "      <td>2952</td>\n",
       "      <td>1</td>\n",
       "    </tr>\n",
       "    <tr>\n",
       "      <th>17997</th>\n",
       "      <td>poorly done !: Not sure what the other person ...</td>\n",
       "      <td>poorli unsur person smoke review book beginn d...</td>\n",
       "      <td>33007</td>\n",
       "      <td>35056</td>\n",
       "      <td>0.0</td>\n",
       "      <td>poorly unsure person smoking reviewing book be...</td>\n",
       "      <td>27893</td>\n",
       "      <td>28987</td>\n",
       "      <td>1</td>\n",
       "    </tr>\n",
       "    <tr>\n",
       "      <th>17998</th>\n",
       "      <td>Ty Beanie Babies Dog: Don't waste your money o...</td>\n",
       "      <td>ty beani babi dog conserv money like photo pro...</td>\n",
       "      <td>5310</td>\n",
       "      <td>8237</td>\n",
       "      <td>0.0</td>\n",
       "      <td>ty beanie baby dog conserve money like photo p...</td>\n",
       "      <td>4340</td>\n",
       "      <td>6934</td>\n",
       "      <td>1</td>\n",
       "    </tr>\n",
       "    <tr>\n",
       "      <th>17999</th>\n",
       "      <td>Cheap product: Made the mistake of buying an a...</td>\n",
       "      <td>cheap product mistak buy market china think sa...</td>\n",
       "      <td>9284</td>\n",
       "      <td>13793</td>\n",
       "      <td>0.0</td>\n",
       "      <td>cheap product mistake buying market china thin...</td>\n",
       "      <td>5775</td>\n",
       "      <td>9349</td>\n",
       "      <td>1</td>\n",
       "    </tr>\n",
       "  </tbody>\n",
       "</table>\n",
       "<p>18000 rows × 9 columns</p>\n",
       "</div>"
      ],
      "text/plain": [
       "                                                 reviews  \\\n",
       "0      Stuning even for the non-gamer: This sound tra...   \n",
       "1      The best soundtrack ever to anything.: I'm rea...   \n",
       "2      Amazing!: This soundtrack is my favorite music...   \n",
       "3      Excellent Soundtrack: I truly like this soundt...   \n",
       "4      Remember, Pull Your Jaw Off The Floor After He...   \n",
       "...                                                  ...   \n",
       "17995  I was disappointed: I do not know what I expec...   \n",
       "17996  missing....: i ordered this dvd for my dad's b...   \n",
       "17997  poorly done !: Not sure what the other person ...   \n",
       "17998  Ty Beanie Babies Dog: Don't waste your money o...   \n",
       "17999  Cheap product: Made the mistake of buying an a...   \n",
       "\n",
       "                                              clean_text  postive_count  \\\n",
       "0      stun non-gam sound track beauti paint sceneri ...          12875   \n",
       "1      best soundtrack read lot review say best game ...          20553   \n",
       "2      amaz soundtrack favorit music time hand intens...          34847   \n",
       "3      excel soundtrack truli like soundtrack enjoy v...          29606   \n",
       "4      rememb pull jaw floor hear play game know divi...          19304   \n",
       "...                                                  ...            ...   \n",
       "17995  disappoint ignor expect see duet disappoint re...           2348   \n",
       "17996  miss order dad birthday open day later watch f...           3374   \n",
       "17997  poorli unsur person smoke review book beginn d...          33007   \n",
       "17998  ty beani babi dog conserv money like photo pro...           5310   \n",
       "17999  cheap product mistak buy market china think sa...           9284   \n",
       "\n",
       "       negative_count  label  \\\n",
       "0               10457    1.0   \n",
       "1               17132    1.0   \n",
       "2               32896    1.0   \n",
       "3               24067    1.0   \n",
       "4               15034    1.0   \n",
       "...               ...    ...   \n",
       "17995            5235    0.0   \n",
       "17996            3971    0.0   \n",
       "17997           35056    0.0   \n",
       "17998            8237    0.0   \n",
       "17999           13793    0.0   \n",
       "\n",
       "                                              lemmatised  \\\n",
       "0      stunning non-gamer sound track beautiful paint...   \n",
       "1      best soundtrack reading lot review saying best...   \n",
       "2      amazing soundtrack favorite music time hand in...   \n",
       "3      excellent soundtrack truly like soundtrack enj...   \n",
       "4      remember pull jaw floor hearing played game kn...   \n",
       "...                                                  ...   \n",
       "17995  disappointed ignore expected seeing duet disap...   \n",
       "17996  missing ordered dad birthday opened day later ...   \n",
       "17997  poorly unsure person smoking reviewing book be...   \n",
       "17998  ty beanie baby dog conserve money like photo p...   \n",
       "17999  cheap product mistake buying market china thin...   \n",
       "\n",
       "       positive_lemma_count  negative_lemma_count  bias  \n",
       "0                     10377                  8175     1  \n",
       "1                     15537                 12924     1  \n",
       "2                     31203                 29270     1  \n",
       "3                     26345                 21910     1  \n",
       "4                     17881                 13747     1  \n",
       "...                     ...                   ...   ...  \n",
       "17995                  1686                  3365     1  \n",
       "17996                  2504                  2952     1  \n",
       "17997                 27893                 28987     1  \n",
       "17998                  4340                  6934     1  \n",
       "17999                  5775                  9349     1  \n",
       "\n",
       "[18000 rows x 9 columns]"
      ]
     },
     "execution_count": 128,
     "metadata": {},
     "output_type": "execute_result"
    }
   ],
   "source": [
    "review_df"
   ]
  },
  {
   "cell_type": "code",
   "execution_count": 129,
   "id": "06aceeac",
   "metadata": {},
   "outputs": [],
   "source": [
    "def train_naive_bayes(freqs, train_x, train_y):\n",
    "    \n",
    "    loglikelihood = {}\n",
    "    \n",
    "    vocab = set([pair[0] for pair in freqs.keys()])\n",
    "    V = len(vocab)\n",
    "    \n",
    "    D_pos = np.sum(train_y == 1)\n",
    "    D_neg = np.sum(train_y == 0)\n",
    "    \n",
    "    log_prior = np.log(D_pos) - np.log(D_neg)\n",
    "    \n",
    "    N_pos = 0\n",
    "    N_neg = 0\n",
    "    \n",
    "    for pair in freqs.keys():\n",
    "        if pair[1] > 0:\n",
    "            N_pos += freqs[pair]\n",
    "        else:\n",
    "            N_neg += freqs[pair]\n",
    "        \n",
    "    D = len(train_x)\n",
    "    freq_pos = 0\n",
    "    freq_neg = 0\n",
    "    \n",
    "    for word in vocab:\n",
    "        pos_pair = (word,1)\n",
    "        neg_pair = (word,0)\n",
    "        freq_pos = freqs.get(pos_pair,0)\n",
    "        freq_neg = freqs.get(neg_pair,0)\n",
    "        p_pos = (freq_pos + 1)/(N_pos + V)\n",
    "        p_neg = (freq_neg + 1)/(N_neg + V)\n",
    "        loglikelihood[word] = np.log(p_pos) - np.log(p_neg)\n",
    "        \n",
    "    return log_prior, loglikelihood\n",
    "            \n",
    "        "
   ]
  },
  {
   "cell_type": "code",
   "execution_count": 130,
   "id": "380fde55",
   "metadata": {},
   "outputs": [],
   "source": [
    "\n",
    "logprior, loglike = train_naive_bayes(lemma_count, word_list, train_y)"
   ]
  },
  {
   "cell_type": "code",
   "execution_count": 131,
   "id": "7e5171a9",
   "metadata": {},
   "outputs": [
    {
     "data": {
      "text/plain": [
       "8599"
      ]
     },
     "execution_count": 131,
     "metadata": {},
     "output_type": "execute_result"
    }
   ],
   "source": [
    "len(loglike)"
   ]
  },
  {
   "cell_type": "code",
   "execution_count": 132,
   "id": "096fa196",
   "metadata": {},
   "outputs": [],
   "source": [
    "def naive_bayes_predict(review, logprior, loglike):\n",
    "    p = 0\n",
    "    p += logprior\n",
    "    for word in preprocess_text(review):\n",
    "        p += loglike.get(word, 0)\n",
    "    \n",
    "    return p"
   ]
  },
  {
   "cell_type": "code",
   "execution_count": 133,
   "id": "4304f046",
   "metadata": {},
   "outputs": [
    {
     "data": {
      "text/plain": [
       "-9.173926742311096"
      ]
     },
     "execution_count": 133,
     "metadata": {},
     "output_type": "execute_result"
    }
   ],
   "source": [
    "naive_bayes_predict(word_list[11000], logprior, loglike)"
   ]
  },
  {
   "cell_type": "code",
   "execution_count": 134,
   "id": "7aade863",
   "metadata": {},
   "outputs": [],
   "source": [
    "predictions_nb = np.array([naive_bayes_predict(review, logprior, loglike) for review in test_list])"
   ]
  },
  {
   "cell_type": "code",
   "execution_count": 135,
   "id": "8f8711f0",
   "metadata": {},
   "outputs": [],
   "source": [
    "pred_y = np.where(predictions_nb < 0, 0, 1)"
   ]
  },
  {
   "cell_type": "code",
   "execution_count": 136,
   "id": "1a04e54a",
   "metadata": {},
   "outputs": [
    {
     "name": "stdout",
     "output_type": "stream",
     "text": [
      "Accuracy Naive Bayes Model: 82.35\n"
     ]
    }
   ],
   "source": [
    "print('Accuracy Naive Bayes Model: {}'.format(np.mean(pred_y == test_y) * 100))"
   ]
  },
  {
   "cell_type": "code",
   "execution_count": 137,
   "id": "e026ea74",
   "metadata": {},
   "outputs": [
    {
     "data": {
      "text/plain": [
       "10.568562666544949"
      ]
     },
     "execution_count": 137,
     "metadata": {},
     "output_type": "execute_result"
    }
   ],
   "source": [
    "naive_bayes_predict(test_list[1], logprior, loglike)"
   ]
  },
  {
   "cell_type": "code",
   "execution_count": 138,
   "id": "d4dec0e6",
   "metadata": {},
   "outputs": [
    {
     "data": {
      "text/plain": [
       "18000"
      ]
     },
     "execution_count": 138,
     "metadata": {},
     "output_type": "execute_result"
    }
   ],
   "source": [
    "len(word_list)"
   ]
  },
  {
   "cell_type": "code",
   "execution_count": null,
   "id": "4b90436e",
   "metadata": {},
   "outputs": [],
   "source": []
  },
  {
   "cell_type": "code",
   "execution_count": null,
   "id": "c89fa971",
   "metadata": {},
   "outputs": [],
   "source": []
  }
 ],
 "metadata": {
  "kernelspec": {
   "display_name": "Python 3 (ipykernel)",
   "language": "python",
   "name": "python3"
  },
  "language_info": {
   "codemirror_mode": {
    "name": "ipython",
    "version": 3
   },
   "file_extension": ".py",
   "mimetype": "text/x-python",
   "name": "python",
   "nbconvert_exporter": "python",
   "pygments_lexer": "ipython3",
   "version": "3.10.9"
  }
 },
 "nbformat": 4,
 "nbformat_minor": 5
}
