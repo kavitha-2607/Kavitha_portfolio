{
 "cells": [
  {
   "cell_type": "markdown",
   "id": "6b6d6353",
   "metadata": {},
   "source": [
    "# Importing packages"
   ]
  },
  {
   "cell_type": "code",
   "execution_count": 257,
   "id": "ee38cc3f",
   "metadata": {},
   "outputs": [],
   "source": [
    "import pandas as pd\n",
    "import numpy as np\n",
    "import seaborn as sns\n",
    "import matplotlib.pyplot as plt\n",
    "from sklearn.preprocessing import LabelEncoder\n",
    "from keras.utils import np_utils\n",
    "from sklearn.model_selection import train_test_split\n",
    "from sklearn.preprocessing import OneHotEncoder\n",
    "from sklearn.preprocessing import StandardScaler\n",
    "from sklearn.datasets import load_iris\n",
    "import numpy as np\n",
    "import pandas as pd\n",
    "from scipy.special import softmax\n",
    "from sklearn.model_selection import train_test_split\n",
    "from sklearn import linear_model\n",
    "from sklearn.pipeline import Pipeline\n",
    "from sklearn import linear_model, decomposition, datasets\n",
    "from keras.utils import to_categorical\n",
    "from sklearn.metrics import classification_report\n",
    "import warnings\n",
    "warnings.filterwarnings(\"ignore\")\n"
   ]
  },
  {
   "cell_type": "markdown",
   "id": "b94cc6f5",
   "metadata": {},
   "source": [
    "# Getting the data"
   ]
  },
  {
   "cell_type": "code",
   "execution_count": 205,
   "id": "b666bd0a",
   "metadata": {},
   "outputs": [],
   "source": [
    "df = pd.read_csv(r\"E:\\Machine Learning Project\\archive (10)\\train.csv\")"
   ]
  },
  {
   "cell_type": "code",
   "execution_count": 211,
   "id": "8e82925a",
   "metadata": {
    "scrolled": true
   },
   "outputs": [
    {
     "data": {
      "text/plain": [
       "ID                   0\n",
       "Gender               0\n",
       "Ever_Married       140\n",
       "Age                  0\n",
       "Graduated           78\n",
       "Profession         124\n",
       "Work_Experience    829\n",
       "Spending_Score       0\n",
       "Family_Size        335\n",
       "Var_1               76\n",
       "Segmentation         0\n",
       "dtype: int64"
      ]
     },
     "execution_count": 211,
     "metadata": {},
     "output_type": "execute_result"
    }
   ],
   "source": [
    "df.isnull().sum()"
   ]
  },
  {
   "cell_type": "code",
   "execution_count": 212,
   "id": "73a0acb3",
   "metadata": {},
   "outputs": [
    {
     "name": "stdout",
     "output_type": "stream",
     "text": [
      "<class 'pandas.core.frame.DataFrame'>\n",
      "RangeIndex: 8068 entries, 0 to 8067\n",
      "Data columns (total 11 columns):\n",
      " #   Column           Non-Null Count  Dtype  \n",
      "---  ------           --------------  -----  \n",
      " 0   ID               8068 non-null   int64  \n",
      " 1   Gender           8068 non-null   object \n",
      " 2   Ever_Married     7928 non-null   object \n",
      " 3   Age              8068 non-null   int64  \n",
      " 4   Graduated        7990 non-null   object \n",
      " 5   Profession       7944 non-null   object \n",
      " 6   Work_Experience  7239 non-null   float64\n",
      " 7   Spending_Score   8068 non-null   object \n",
      " 8   Family_Size      7733 non-null   float64\n",
      " 9   Var_1            7992 non-null   object \n",
      " 10  Segmentation     8068 non-null   object \n",
      "dtypes: float64(2), int64(2), object(7)\n",
      "memory usage: 693.5+ KB\n"
     ]
    }
   ],
   "source": [
    "df.info()"
   ]
  },
  {
   "cell_type": "code",
   "execution_count": 213,
   "id": "4f0e3eac",
   "metadata": {},
   "outputs": [
    {
     "data": {
      "text/html": [
       "<div>\n",
       "<style scoped>\n",
       "    .dataframe tbody tr th:only-of-type {\n",
       "        vertical-align: middle;\n",
       "    }\n",
       "\n",
       "    .dataframe tbody tr th {\n",
       "        vertical-align: top;\n",
       "    }\n",
       "\n",
       "    .dataframe thead th {\n",
       "        text-align: right;\n",
       "    }\n",
       "</style>\n",
       "<table border=\"1\" class=\"dataframe\">\n",
       "  <thead>\n",
       "    <tr style=\"text-align: right;\">\n",
       "      <th></th>\n",
       "      <th>count</th>\n",
       "      <th>mean</th>\n",
       "      <th>std</th>\n",
       "      <th>min</th>\n",
       "      <th>25%</th>\n",
       "      <th>50%</th>\n",
       "      <th>75%</th>\n",
       "      <th>max</th>\n",
       "    </tr>\n",
       "  </thead>\n",
       "  <tbody>\n",
       "    <tr>\n",
       "      <th>ID</th>\n",
       "      <td>8068.0</td>\n",
       "      <td>463479.214551</td>\n",
       "      <td>2595.381232</td>\n",
       "      <td>458982.0</td>\n",
       "      <td>461240.75</td>\n",
       "      <td>463472.5</td>\n",
       "      <td>465744.25</td>\n",
       "      <td>467974.0</td>\n",
       "    </tr>\n",
       "    <tr>\n",
       "      <th>Age</th>\n",
       "      <td>8068.0</td>\n",
       "      <td>43.466906</td>\n",
       "      <td>16.711696</td>\n",
       "      <td>18.0</td>\n",
       "      <td>30.00</td>\n",
       "      <td>40.0</td>\n",
       "      <td>53.00</td>\n",
       "      <td>89.0</td>\n",
       "    </tr>\n",
       "    <tr>\n",
       "      <th>Work_Experience</th>\n",
       "      <td>7239.0</td>\n",
       "      <td>2.641663</td>\n",
       "      <td>3.406763</td>\n",
       "      <td>0.0</td>\n",
       "      <td>0.00</td>\n",
       "      <td>1.0</td>\n",
       "      <td>4.00</td>\n",
       "      <td>14.0</td>\n",
       "    </tr>\n",
       "    <tr>\n",
       "      <th>Family_Size</th>\n",
       "      <td>7733.0</td>\n",
       "      <td>2.850123</td>\n",
       "      <td>1.531413</td>\n",
       "      <td>1.0</td>\n",
       "      <td>2.00</td>\n",
       "      <td>3.0</td>\n",
       "      <td>4.00</td>\n",
       "      <td>9.0</td>\n",
       "    </tr>\n",
       "  </tbody>\n",
       "</table>\n",
       "</div>"
      ],
      "text/plain": [
       "                  count           mean          std       min        25%  \\\n",
       "ID               8068.0  463479.214551  2595.381232  458982.0  461240.75   \n",
       "Age              8068.0      43.466906    16.711696      18.0      30.00   \n",
       "Work_Experience  7239.0       2.641663     3.406763       0.0       0.00   \n",
       "Family_Size      7733.0       2.850123     1.531413       1.0       2.00   \n",
       "\n",
       "                      50%        75%       max  \n",
       "ID               463472.5  465744.25  467974.0  \n",
       "Age                  40.0      53.00      89.0  \n",
       "Work_Experience       1.0       4.00      14.0  \n",
       "Family_Size           3.0       4.00       9.0  "
      ]
     },
     "execution_count": 213,
     "metadata": {},
     "output_type": "execute_result"
    }
   ],
   "source": [
    "df.describe().T"
   ]
  },
  {
   "cell_type": "code",
   "execution_count": 214,
   "id": "0f6ebd12",
   "metadata": {},
   "outputs": [],
   "source": [
    "df_copy = df.copy()"
   ]
  },
  {
   "cell_type": "code",
   "execution_count": 215,
   "id": "b454aa28",
   "metadata": {},
   "outputs": [
    {
     "data": {
      "text/plain": [
       "ID                   0\n",
       "Gender               0\n",
       "Ever_Married       140\n",
       "Age                  0\n",
       "Graduated           78\n",
       "Profession         124\n",
       "Work_Experience    829\n",
       "Spending_Score       0\n",
       "Family_Size        335\n",
       "Var_1               76\n",
       "Segmentation         0\n",
       "dtype: int64"
      ]
     },
     "execution_count": 215,
     "metadata": {},
     "output_type": "execute_result"
    }
   ],
   "source": [
    "df_copy.isnull().sum()"
   ]
  },
  {
   "cell_type": "code",
   "execution_count": 216,
   "id": "9dd4cb7d",
   "metadata": {},
   "outputs": [
    {
     "data": {
      "text/plain": [
       "ID                   0\n",
       "Gender               0\n",
       "Ever_Married       140\n",
       "Age                  0\n",
       "Graduated           78\n",
       "Profession         124\n",
       "Work_Experience    829\n",
       "Spending_Score       0\n",
       "Family_Size        335\n",
       "Var_1               76\n",
       "Segmentation         0\n",
       "dtype: int64"
      ]
     },
     "execution_count": 216,
     "metadata": {},
     "output_type": "execute_result"
    }
   ],
   "source": [
    "df_copy.isnull().sum()"
   ]
  },
  {
   "cell_type": "code",
   "execution_count": 217,
   "id": "e8bfecb1",
   "metadata": {},
   "outputs": [
    {
     "data": {
      "text/html": [
       "<div>\n",
       "<style scoped>\n",
       "    .dataframe tbody tr th:only-of-type {\n",
       "        vertical-align: middle;\n",
       "    }\n",
       "\n",
       "    .dataframe tbody tr th {\n",
       "        vertical-align: top;\n",
       "    }\n",
       "\n",
       "    .dataframe thead th {\n",
       "        text-align: right;\n",
       "    }\n",
       "</style>\n",
       "<table border=\"1\" class=\"dataframe\">\n",
       "  <thead>\n",
       "    <tr style=\"text-align: right;\">\n",
       "      <th></th>\n",
       "      <th>ID</th>\n",
       "      <th>Gender</th>\n",
       "      <th>Ever_Married</th>\n",
       "      <th>Age</th>\n",
       "      <th>Graduated</th>\n",
       "      <th>Profession</th>\n",
       "      <th>Work_Experience</th>\n",
       "      <th>Spending_Score</th>\n",
       "      <th>Family_Size</th>\n",
       "      <th>Var_1</th>\n",
       "      <th>Segmentation</th>\n",
       "    </tr>\n",
       "  </thead>\n",
       "  <tbody>\n",
       "    <tr>\n",
       "      <th>0</th>\n",
       "      <td>462809</td>\n",
       "      <td>Male</td>\n",
       "      <td>No</td>\n",
       "      <td>22</td>\n",
       "      <td>No</td>\n",
       "      <td>Healthcare</td>\n",
       "      <td>1.0</td>\n",
       "      <td>Low</td>\n",
       "      <td>4.0</td>\n",
       "      <td>Cat_4</td>\n",
       "      <td>D</td>\n",
       "    </tr>\n",
       "    <tr>\n",
       "      <th>1</th>\n",
       "      <td>462643</td>\n",
       "      <td>Female</td>\n",
       "      <td>Yes</td>\n",
       "      <td>38</td>\n",
       "      <td>Yes</td>\n",
       "      <td>Engineer</td>\n",
       "      <td>NaN</td>\n",
       "      <td>Average</td>\n",
       "      <td>3.0</td>\n",
       "      <td>Cat_4</td>\n",
       "      <td>A</td>\n",
       "    </tr>\n",
       "    <tr>\n",
       "      <th>2</th>\n",
       "      <td>466315</td>\n",
       "      <td>Female</td>\n",
       "      <td>Yes</td>\n",
       "      <td>67</td>\n",
       "      <td>Yes</td>\n",
       "      <td>Engineer</td>\n",
       "      <td>1.0</td>\n",
       "      <td>Low</td>\n",
       "      <td>1.0</td>\n",
       "      <td>Cat_6</td>\n",
       "      <td>B</td>\n",
       "    </tr>\n",
       "    <tr>\n",
       "      <th>3</th>\n",
       "      <td>461735</td>\n",
       "      <td>Male</td>\n",
       "      <td>Yes</td>\n",
       "      <td>67</td>\n",
       "      <td>Yes</td>\n",
       "      <td>Lawyer</td>\n",
       "      <td>0.0</td>\n",
       "      <td>High</td>\n",
       "      <td>2.0</td>\n",
       "      <td>Cat_6</td>\n",
       "      <td>B</td>\n",
       "    </tr>\n",
       "    <tr>\n",
       "      <th>4</th>\n",
       "      <td>462669</td>\n",
       "      <td>Female</td>\n",
       "      <td>Yes</td>\n",
       "      <td>40</td>\n",
       "      <td>Yes</td>\n",
       "      <td>Entertainment</td>\n",
       "      <td>NaN</td>\n",
       "      <td>High</td>\n",
       "      <td>6.0</td>\n",
       "      <td>Cat_6</td>\n",
       "      <td>A</td>\n",
       "    </tr>\n",
       "  </tbody>\n",
       "</table>\n",
       "</div>"
      ],
      "text/plain": [
       "       ID  Gender Ever_Married  Age Graduated     Profession  Work_Experience  \\\n",
       "0  462809    Male           No   22        No     Healthcare              1.0   \n",
       "1  462643  Female          Yes   38       Yes       Engineer              NaN   \n",
       "2  466315  Female          Yes   67       Yes       Engineer              1.0   \n",
       "3  461735    Male          Yes   67       Yes         Lawyer              0.0   \n",
       "4  462669  Female          Yes   40       Yes  Entertainment              NaN   \n",
       "\n",
       "  Spending_Score  Family_Size  Var_1 Segmentation  \n",
       "0            Low          4.0  Cat_4            D  \n",
       "1        Average          3.0  Cat_4            A  \n",
       "2            Low          1.0  Cat_6            B  \n",
       "3           High          2.0  Cat_6            B  \n",
       "4           High          6.0  Cat_6            A  "
      ]
     },
     "execution_count": 217,
     "metadata": {},
     "output_type": "execute_result"
    }
   ],
   "source": [
    "df_copy.head()"
   ]
  },
  {
   "cell_type": "code",
   "execution_count": 218,
   "id": "dc34584d",
   "metadata": {},
   "outputs": [],
   "source": [
    "bins = [15, 24, 38, 50, 65, 90]\n",
    "age_bins = pd.cut(df['Age'], bins)\n",
    "df_copy['Age_bins'] = age_bins\n"
   ]
  },
  {
   "cell_type": "code",
   "execution_count": 219,
   "id": "310d8f56",
   "metadata": {},
   "outputs": [
    {
     "data": {
      "text/plain": [
       "ID                    int64\n",
       "Gender               object\n",
       "Ever_Married         object\n",
       "Age                   int64\n",
       "Graduated            object\n",
       "Profession           object\n",
       "Work_Experience     float64\n",
       "Spending_Score       object\n",
       "Family_Size         float64\n",
       "Var_1                object\n",
       "Segmentation         object\n",
       "Age_bins           category\n",
       "dtype: object"
      ]
     },
     "execution_count": 219,
     "metadata": {},
     "output_type": "execute_result"
    }
   ],
   "source": [
    "df_copy.dtypes"
   ]
  },
  {
   "cell_type": "markdown",
   "id": "9904c468",
   "metadata": {},
   "source": [
    "# Data Preprocessing"
   ]
  },
  {
   "cell_type": "code",
   "execution_count": 220,
   "id": "74ffc0e3",
   "metadata": {},
   "outputs": [],
   "source": [
    "def fill_missing(col):\n",
    "    segments = ['A', 'B', 'C', 'D'] \n",
    "    if df_copy[col].dtype == 'O':\n",
    "        mode = df_copy.groupby('Segmentation')[col].agg(pd.Series.mode)\n",
    "        if col == 'Graduated':\n",
    "            df_copy.loc[((df_copy['Age']>=18) &(df_copy['Age']<24) & (df_copy['Graduated'].isnull())), \n",
    "                        'Graduated'] = 'No'\n",
    "            for seg in segments:\n",
    "                df_copy.loc[(df_copy[col].isnull()) & \n",
    "                (df_copy['Segmentation'] == seg), col] = mode[seg]\n",
    "        else:\n",
    "            for seg in segments:\n",
    "                df_copy.loc[(df_copy[col].isnull()) & \n",
    "                (df_copy['Segmentation'] == seg), col] = mode[seg]\n",
    "    else:\n",
    "        mean = df_copy.groupby('Segmentation')[col].mean()\n",
    "        for seg in segments:\n",
    "            df_copy.loc[(df_copy[col].isnull()) & \n",
    "                (df_copy['Segmentation'] == seg), col] = mean[seg]\n",
    "\n",
    "missing = ['Ever_Married', 'Graduated', 'Profession', \n",
    "           'Work_Experience', 'Family_Size']\n",
    "for mis in missing:\n",
    "    fill_missing(mis)      "
   ]
  },
  {
   "cell_type": "code",
   "execution_count": 221,
   "id": "90248d9f",
   "metadata": {},
   "outputs": [
    {
     "data": {
      "text/plain": [
       "ID                  0\n",
       "Gender              0\n",
       "Ever_Married        0\n",
       "Age                 0\n",
       "Graduated           0\n",
       "Profession          0\n",
       "Work_Experience     0\n",
       "Spending_Score      0\n",
       "Family_Size         0\n",
       "Var_1              76\n",
       "Segmentation        0\n",
       "Age_bins            0\n",
       "dtype: int64"
      ]
     },
     "execution_count": 221,
     "metadata": {},
     "output_type": "execute_result"
    }
   ],
   "source": [
    "df_copy.isnull().sum()"
   ]
  },
  {
   "cell_type": "code",
   "execution_count": 222,
   "id": "26827952",
   "metadata": {},
   "outputs": [
    {
     "data": {
      "text/html": [
       "<div>\n",
       "<style scoped>\n",
       "    .dataframe tbody tr th:only-of-type {\n",
       "        vertical-align: middle;\n",
       "    }\n",
       "\n",
       "    .dataframe tbody tr th {\n",
       "        vertical-align: top;\n",
       "    }\n",
       "\n",
       "    .dataframe thead th {\n",
       "        text-align: right;\n",
       "    }\n",
       "</style>\n",
       "<table border=\"1\" class=\"dataframe\">\n",
       "  <thead>\n",
       "    <tr style=\"text-align: right;\">\n",
       "      <th></th>\n",
       "      <th>ID</th>\n",
       "      <th>Gender</th>\n",
       "      <th>Ever_Married</th>\n",
       "      <th>Age</th>\n",
       "      <th>Graduated</th>\n",
       "      <th>Profession</th>\n",
       "      <th>Work_Experience</th>\n",
       "      <th>Spending_Score</th>\n",
       "      <th>Family_Size</th>\n",
       "      <th>Var_1</th>\n",
       "      <th>Segmentation</th>\n",
       "      <th>Age_bins</th>\n",
       "    </tr>\n",
       "  </thead>\n",
       "  <tbody>\n",
       "    <tr>\n",
       "      <th>0</th>\n",
       "      <td>462809</td>\n",
       "      <td>Male</td>\n",
       "      <td>No</td>\n",
       "      <td>22</td>\n",
       "      <td>No</td>\n",
       "      <td>Healthcare</td>\n",
       "      <td>1.000000</td>\n",
       "      <td>Low</td>\n",
       "      <td>4.0</td>\n",
       "      <td>Cat_4</td>\n",
       "      <td>D</td>\n",
       "      <td>(15, 24]</td>\n",
       "    </tr>\n",
       "    <tr>\n",
       "      <th>1</th>\n",
       "      <td>462643</td>\n",
       "      <td>Female</td>\n",
       "      <td>Yes</td>\n",
       "      <td>38</td>\n",
       "      <td>Yes</td>\n",
       "      <td>Engineer</td>\n",
       "      <td>2.874578</td>\n",
       "      <td>Average</td>\n",
       "      <td>3.0</td>\n",
       "      <td>Cat_4</td>\n",
       "      <td>A</td>\n",
       "      <td>(24, 38]</td>\n",
       "    </tr>\n",
       "    <tr>\n",
       "      <th>2</th>\n",
       "      <td>466315</td>\n",
       "      <td>Female</td>\n",
       "      <td>Yes</td>\n",
       "      <td>67</td>\n",
       "      <td>Yes</td>\n",
       "      <td>Engineer</td>\n",
       "      <td>1.000000</td>\n",
       "      <td>Low</td>\n",
       "      <td>1.0</td>\n",
       "      <td>Cat_6</td>\n",
       "      <td>B</td>\n",
       "      <td>(65, 90]</td>\n",
       "    </tr>\n",
       "    <tr>\n",
       "      <th>3</th>\n",
       "      <td>461735</td>\n",
       "      <td>Male</td>\n",
       "      <td>Yes</td>\n",
       "      <td>67</td>\n",
       "      <td>Yes</td>\n",
       "      <td>Lawyer</td>\n",
       "      <td>0.000000</td>\n",
       "      <td>High</td>\n",
       "      <td>2.0</td>\n",
       "      <td>Cat_6</td>\n",
       "      <td>B</td>\n",
       "      <td>(65, 90]</td>\n",
       "    </tr>\n",
       "    <tr>\n",
       "      <th>4</th>\n",
       "      <td>462669</td>\n",
       "      <td>Female</td>\n",
       "      <td>Yes</td>\n",
       "      <td>40</td>\n",
       "      <td>Yes</td>\n",
       "      <td>Entertainment</td>\n",
       "      <td>2.874578</td>\n",
       "      <td>High</td>\n",
       "      <td>6.0</td>\n",
       "      <td>Cat_6</td>\n",
       "      <td>A</td>\n",
       "      <td>(38, 50]</td>\n",
       "    </tr>\n",
       "  </tbody>\n",
       "</table>\n",
       "</div>"
      ],
      "text/plain": [
       "       ID  Gender Ever_Married  Age Graduated     Profession  Work_Experience  \\\n",
       "0  462809    Male           No   22        No     Healthcare         1.000000   \n",
       "1  462643  Female          Yes   38       Yes       Engineer         2.874578   \n",
       "2  466315  Female          Yes   67       Yes       Engineer         1.000000   \n",
       "3  461735    Male          Yes   67       Yes         Lawyer         0.000000   \n",
       "4  462669  Female          Yes   40       Yes  Entertainment         2.874578   \n",
       "\n",
       "  Spending_Score  Family_Size  Var_1 Segmentation  Age_bins  \n",
       "0            Low          4.0  Cat_4            D  (15, 24]  \n",
       "1        Average          3.0  Cat_4            A  (24, 38]  \n",
       "2            Low          1.0  Cat_6            B  (65, 90]  \n",
       "3           High          2.0  Cat_6            B  (65, 90]  \n",
       "4           High          6.0  Cat_6            A  (38, 50]  "
      ]
     },
     "execution_count": 222,
     "metadata": {},
     "output_type": "execute_result"
    }
   ],
   "source": [
    "df_copy.head()"
   ]
  },
  {
   "cell_type": "code",
   "execution_count": 223,
   "id": "dc6e4754",
   "metadata": {},
   "outputs": [],
   "source": [
    "l_en = LabelEncoder()\n",
    "col_encode = ['Gender', 'Graduated', 'Ever_Married']\n",
    "for col in col_encode:\n",
    "    df_copy[col] = l_en.fit_transform(df_copy[col])"
   ]
  },
  {
   "cell_type": "code",
   "execution_count": 138,
   "id": "e883d9b6",
   "metadata": {},
   "outputs": [
    {
     "data": {
      "text/html": [
       "<div>\n",
       "<style scoped>\n",
       "    .dataframe tbody tr th:only-of-type {\n",
       "        vertical-align: middle;\n",
       "    }\n",
       "\n",
       "    .dataframe tbody tr th {\n",
       "        vertical-align: top;\n",
       "    }\n",
       "\n",
       "    .dataframe thead th {\n",
       "        text-align: right;\n",
       "    }\n",
       "</style>\n",
       "<table border=\"1\" class=\"dataframe\">\n",
       "  <thead>\n",
       "    <tr style=\"text-align: right;\">\n",
       "      <th></th>\n",
       "      <th>count</th>\n",
       "      <th>mean</th>\n",
       "      <th>std</th>\n",
       "      <th>min</th>\n",
       "      <th>25%</th>\n",
       "      <th>50%</th>\n",
       "      <th>75%</th>\n",
       "      <th>max</th>\n",
       "    </tr>\n",
       "  </thead>\n",
       "  <tbody>\n",
       "    <tr>\n",
       "      <th>ID</th>\n",
       "      <td>8068.0</td>\n",
       "      <td>463479.214551</td>\n",
       "      <td>2595.381232</td>\n",
       "      <td>458982.0</td>\n",
       "      <td>461240.75</td>\n",
       "      <td>463472.5</td>\n",
       "      <td>465744.25</td>\n",
       "      <td>467974.0</td>\n",
       "    </tr>\n",
       "    <tr>\n",
       "      <th>Gender</th>\n",
       "      <td>8068.0</td>\n",
       "      <td>0.547471</td>\n",
       "      <td>0.497772</td>\n",
       "      <td>0.0</td>\n",
       "      <td>0.00</td>\n",
       "      <td>1.0</td>\n",
       "      <td>1.00</td>\n",
       "      <td>1.0</td>\n",
       "    </tr>\n",
       "    <tr>\n",
       "      <th>Ever_Married</th>\n",
       "      <td>8068.0</td>\n",
       "      <td>0.586391</td>\n",
       "      <td>0.492511</td>\n",
       "      <td>0.0</td>\n",
       "      <td>0.00</td>\n",
       "      <td>1.0</td>\n",
       "      <td>1.00</td>\n",
       "      <td>1.0</td>\n",
       "    </tr>\n",
       "    <tr>\n",
       "      <th>Age</th>\n",
       "      <td>8068.0</td>\n",
       "      <td>43.466906</td>\n",
       "      <td>16.711696</td>\n",
       "      <td>18.0</td>\n",
       "      <td>30.00</td>\n",
       "      <td>40.0</td>\n",
       "      <td>53.00</td>\n",
       "      <td>89.0</td>\n",
       "    </tr>\n",
       "    <tr>\n",
       "      <th>Graduated</th>\n",
       "      <td>8068.0</td>\n",
       "      <td>0.622459</td>\n",
       "      <td>0.484802</td>\n",
       "      <td>0.0</td>\n",
       "      <td>0.00</td>\n",
       "      <td>1.0</td>\n",
       "      <td>1.00</td>\n",
       "      <td>1.0</td>\n",
       "    </tr>\n",
       "    <tr>\n",
       "      <th>Work_Experience</th>\n",
       "      <td>8068.0</td>\n",
       "      <td>2.646858</td>\n",
       "      <td>3.228703</td>\n",
       "      <td>0.0</td>\n",
       "      <td>0.00</td>\n",
       "      <td>1.0</td>\n",
       "      <td>4.00</td>\n",
       "      <td>14.0</td>\n",
       "    </tr>\n",
       "    <tr>\n",
       "      <th>Family_Size</th>\n",
       "      <td>8068.0</td>\n",
       "      <td>2.852404</td>\n",
       "      <td>1.500933</td>\n",
       "      <td>1.0</td>\n",
       "      <td>2.00</td>\n",
       "      <td>3.0</td>\n",
       "      <td>4.00</td>\n",
       "      <td>9.0</td>\n",
       "    </tr>\n",
       "  </tbody>\n",
       "</table>\n",
       "</div>"
      ],
      "text/plain": [
       "                  count           mean          std       min        25%  \\\n",
       "ID               8068.0  463479.214551  2595.381232  458982.0  461240.75   \n",
       "Gender           8068.0       0.547471     0.497772       0.0       0.00   \n",
       "Ever_Married     8068.0       0.586391     0.492511       0.0       0.00   \n",
       "Age              8068.0      43.466906    16.711696      18.0      30.00   \n",
       "Graduated        8068.0       0.622459     0.484802       0.0       0.00   \n",
       "Work_Experience  8068.0       2.646858     3.228703       0.0       0.00   \n",
       "Family_Size      8068.0       2.852404     1.500933       1.0       2.00   \n",
       "\n",
       "                      50%        75%       max  \n",
       "ID               463472.5  465744.25  467974.0  \n",
       "Gender                1.0       1.00       1.0  \n",
       "Ever_Married          1.0       1.00       1.0  \n",
       "Age                  40.0      53.00      89.0  \n",
       "Graduated             1.0       1.00       1.0  \n",
       "Work_Experience       1.0       4.00      14.0  \n",
       "Family_Size           3.0       4.00       9.0  "
      ]
     },
     "execution_count": 138,
     "metadata": {},
     "output_type": "execute_result"
    }
   ],
   "source": [
    "df_copy.describe().T"
   ]
  },
  {
   "cell_type": "code",
   "execution_count": 25,
   "id": "3251e75f",
   "metadata": {},
   "outputs": [],
   "source": [
    "df_x = df_copy.dropna()\n",
    "col_to_dummies = ['Var_1','Spending_Score', 'Profession', 'Age_bins']\n",
    "df_with_dummies = pd.get_dummies(df_x[col_to_dummies], \n",
    "                                 prefix = ['Var_1','Spending_Score', 'Profession', 'Age_bins'])\n",
    "df_dummy = pd.concat([df_x, df_with_dummies], axis=1)\n"
   ]
  },
  {
   "cell_type": "code",
   "execution_count": 26,
   "id": "428a69c6",
   "metadata": {},
   "outputs": [
    {
     "data": {
      "text/html": [
       "<div>\n",
       "<style scoped>\n",
       "    .dataframe tbody tr th:only-of-type {\n",
       "        vertical-align: middle;\n",
       "    }\n",
       "\n",
       "    .dataframe tbody tr th {\n",
       "        vertical-align: top;\n",
       "    }\n",
       "\n",
       "    .dataframe thead th {\n",
       "        text-align: right;\n",
       "    }\n",
       "</style>\n",
       "<table border=\"1\" class=\"dataframe\">\n",
       "  <thead>\n",
       "    <tr style=\"text-align: right;\">\n",
       "      <th></th>\n",
       "      <th>ID</th>\n",
       "      <th>Gender</th>\n",
       "      <th>Ever_Married</th>\n",
       "      <th>Age</th>\n",
       "      <th>Graduated</th>\n",
       "      <th>Profession</th>\n",
       "      <th>Work_Experience</th>\n",
       "      <th>Spending_Score</th>\n",
       "      <th>Family_Size</th>\n",
       "      <th>Var_1</th>\n",
       "      <th>...</th>\n",
       "      <th>Profession_Executive</th>\n",
       "      <th>Profession_Healthcare</th>\n",
       "      <th>Profession_Homemaker</th>\n",
       "      <th>Profession_Lawyer</th>\n",
       "      <th>Profession_Marketing</th>\n",
       "      <th>Age_bins_(15, 24]</th>\n",
       "      <th>Age_bins_(24, 38]</th>\n",
       "      <th>Age_bins_(38, 50]</th>\n",
       "      <th>Age_bins_(50, 65]</th>\n",
       "      <th>Age_bins_(65, 90]</th>\n",
       "    </tr>\n",
       "  </thead>\n",
       "  <tbody>\n",
       "    <tr>\n",
       "      <th>0</th>\n",
       "      <td>462809</td>\n",
       "      <td>1</td>\n",
       "      <td>0</td>\n",
       "      <td>22</td>\n",
       "      <td>0</td>\n",
       "      <td>Healthcare</td>\n",
       "      <td>1.000000</td>\n",
       "      <td>Low</td>\n",
       "      <td>4.0</td>\n",
       "      <td>Cat_4</td>\n",
       "      <td>...</td>\n",
       "      <td>0</td>\n",
       "      <td>1</td>\n",
       "      <td>0</td>\n",
       "      <td>0</td>\n",
       "      <td>0</td>\n",
       "      <td>1</td>\n",
       "      <td>0</td>\n",
       "      <td>0</td>\n",
       "      <td>0</td>\n",
       "      <td>0</td>\n",
       "    </tr>\n",
       "    <tr>\n",
       "      <th>1</th>\n",
       "      <td>462643</td>\n",
       "      <td>0</td>\n",
       "      <td>1</td>\n",
       "      <td>38</td>\n",
       "      <td>1</td>\n",
       "      <td>Engineer</td>\n",
       "      <td>2.874578</td>\n",
       "      <td>Average</td>\n",
       "      <td>3.0</td>\n",
       "      <td>Cat_4</td>\n",
       "      <td>...</td>\n",
       "      <td>0</td>\n",
       "      <td>0</td>\n",
       "      <td>0</td>\n",
       "      <td>0</td>\n",
       "      <td>0</td>\n",
       "      <td>0</td>\n",
       "      <td>1</td>\n",
       "      <td>0</td>\n",
       "      <td>0</td>\n",
       "      <td>0</td>\n",
       "    </tr>\n",
       "    <tr>\n",
       "      <th>2</th>\n",
       "      <td>466315</td>\n",
       "      <td>0</td>\n",
       "      <td>1</td>\n",
       "      <td>67</td>\n",
       "      <td>1</td>\n",
       "      <td>Engineer</td>\n",
       "      <td>1.000000</td>\n",
       "      <td>Low</td>\n",
       "      <td>1.0</td>\n",
       "      <td>Cat_6</td>\n",
       "      <td>...</td>\n",
       "      <td>0</td>\n",
       "      <td>0</td>\n",
       "      <td>0</td>\n",
       "      <td>0</td>\n",
       "      <td>0</td>\n",
       "      <td>0</td>\n",
       "      <td>0</td>\n",
       "      <td>0</td>\n",
       "      <td>0</td>\n",
       "      <td>1</td>\n",
       "    </tr>\n",
       "    <tr>\n",
       "      <th>3</th>\n",
       "      <td>461735</td>\n",
       "      <td>1</td>\n",
       "      <td>1</td>\n",
       "      <td>67</td>\n",
       "      <td>1</td>\n",
       "      <td>Lawyer</td>\n",
       "      <td>0.000000</td>\n",
       "      <td>High</td>\n",
       "      <td>2.0</td>\n",
       "      <td>Cat_6</td>\n",
       "      <td>...</td>\n",
       "      <td>0</td>\n",
       "      <td>0</td>\n",
       "      <td>0</td>\n",
       "      <td>1</td>\n",
       "      <td>0</td>\n",
       "      <td>0</td>\n",
       "      <td>0</td>\n",
       "      <td>0</td>\n",
       "      <td>0</td>\n",
       "      <td>1</td>\n",
       "    </tr>\n",
       "    <tr>\n",
       "      <th>4</th>\n",
       "      <td>462669</td>\n",
       "      <td>0</td>\n",
       "      <td>1</td>\n",
       "      <td>40</td>\n",
       "      <td>1</td>\n",
       "      <td>Entertainment</td>\n",
       "      <td>2.874578</td>\n",
       "      <td>High</td>\n",
       "      <td>6.0</td>\n",
       "      <td>Cat_6</td>\n",
       "      <td>...</td>\n",
       "      <td>0</td>\n",
       "      <td>0</td>\n",
       "      <td>0</td>\n",
       "      <td>0</td>\n",
       "      <td>0</td>\n",
       "      <td>0</td>\n",
       "      <td>0</td>\n",
       "      <td>1</td>\n",
       "      <td>0</td>\n",
       "      <td>0</td>\n",
       "    </tr>\n",
       "  </tbody>\n",
       "</table>\n",
       "<p>5 rows × 36 columns</p>\n",
       "</div>"
      ],
      "text/plain": [
       "       ID  Gender  Ever_Married  Age  Graduated     Profession  \\\n",
       "0  462809       1             0   22          0     Healthcare   \n",
       "1  462643       0             1   38          1       Engineer   \n",
       "2  466315       0             1   67          1       Engineer   \n",
       "3  461735       1             1   67          1         Lawyer   \n",
       "4  462669       0             1   40          1  Entertainment   \n",
       "\n",
       "   Work_Experience Spending_Score  Family_Size  Var_1  ...  \\\n",
       "0         1.000000            Low          4.0  Cat_4  ...   \n",
       "1         2.874578        Average          3.0  Cat_4  ...   \n",
       "2         1.000000            Low          1.0  Cat_6  ...   \n",
       "3         0.000000           High          2.0  Cat_6  ...   \n",
       "4         2.874578           High          6.0  Cat_6  ...   \n",
       "\n",
       "  Profession_Executive Profession_Healthcare  Profession_Homemaker  \\\n",
       "0                    0                     1                     0   \n",
       "1                    0                     0                     0   \n",
       "2                    0                     0                     0   \n",
       "3                    0                     0                     0   \n",
       "4                    0                     0                     0   \n",
       "\n",
       "   Profession_Lawyer  Profession_Marketing  Age_bins_(15, 24]  \\\n",
       "0                  0                     0                  1   \n",
       "1                  0                     0                  0   \n",
       "2                  0                     0                  0   \n",
       "3                  1                     0                  0   \n",
       "4                  0                     0                  0   \n",
       "\n",
       "   Age_bins_(24, 38]  Age_bins_(38, 50]  Age_bins_(50, 65]  Age_bins_(65, 90]  \n",
       "0                  0                  0                  0                  0  \n",
       "1                  1                  0                  0                  0  \n",
       "2                  0                  0                  0                  1  \n",
       "3                  0                  0                  0                  1  \n",
       "4                  0                  1                  0                  0  \n",
       "\n",
       "[5 rows x 36 columns]"
      ]
     },
     "execution_count": 26,
     "metadata": {},
     "output_type": "execute_result"
    }
   ],
   "source": [
    "df_dummy.head()"
   ]
  },
  {
   "cell_type": "markdown",
   "id": "128c3fb7",
   "metadata": {},
   "source": [
    "# Exploratory Data Analysis"
   ]
  },
  {
   "cell_type": "code",
   "execution_count": 224,
   "id": "55a2aa12",
   "metadata": {
    "scrolled": false
   },
   "outputs": [
    {
     "data": {
      "image/png": "[encoded data removed]",
      "text/plain": [
       "<Figure size 720x360 with 1 Axes>"
      ]
     },
     "metadata": {
      "needs_background": "light"
     },
     "output_type": "display_data"
    }
   ],
   "source": [
    "plt.rcParams['figure.figsize'] = [10, 5]\n",
    "plt.rcParams.update({'font.size': 11})\n",
    "\n",
    "n = 4\n",
    "r = np.arange(n)\n",
    "width = 0.2\n",
    "plt.bar(r, df_dummy.groupby('Segmentation')['Gender'].value_counts(normalize = True)[:,0]\n",
    ", color = 'b',\n",
    "        width = width, edgecolor = 'black',\n",
    "        label='Women')\n",
    "plt.bar(r + width, df_dummy.groupby('Segmentation')['Gender'].value_counts(normalize = True)[:,1], color = 'g',\n",
    "        width = width, edgecolor = 'black',\n",
    "        label='Men')\n",
    "  \n",
    "plt.xlabel(\"Segmentation\")\n",
    "plt.ylabel(\"Gender count\")\n",
    "plt.title(\"Gender representation in each Segmentation\")\n",
    "  \n",
    "# plt.grid(linestyle='--')\n",
    "plt.xticks(r + width/2,['A','B','C','D'])\n",
    "plt.legend()\n",
    "  \n",
    "plt.show()"
   ]
  },
  {
   "cell_type": "code",
   "execution_count": 225,
   "id": "204dcb03",
   "metadata": {},
   "outputs": [
    {
     "data": {
      "image/png": "[encoded data removed]",
      "text/plain": [
       "<Figure size 720x360 with 1 Axes>"
      ]
     },
     "metadata": {
      "needs_background": "light"
     },
     "output_type": "display_data"
    }
   ],
   "source": [
    "plt.rcParams['figure.figsize'] = [10, 5]\n",
    "plt.rcParams.update({'font.size': 11})\n",
    "\n",
    "n = 4\n",
    "r = np.arange(n)\n",
    "width = 0.2\n",
    "plt.bar(r, df_dummy.groupby('Segmentation')['Ever_Married'].value_counts(normalize = True)[:,0]\n",
    ", color = 'y',\n",
    "        width = width, edgecolor = 'black',\n",
    "        label='Not Married')\n",
    "plt.bar(r + width, df_dummy.groupby('Segmentation')['Ever_Married'].value_counts(normalize = True)[:,1], color = 'm',\n",
    "        width = width, edgecolor = 'black',\n",
    "        label='Married')\n",
    "  \n",
    "plt.xlabel(\"Segmentation\")\n",
    "plt.ylabel(\"Count\")\n",
    "plt.title(\"Married vs Non Married in each Segmentation\")\n",
    "  \n",
    "# plt.grid(linestyle='--')\n",
    "plt.xticks(r + width/2,['A','B','C','D'])\n",
    "plt.legend()\n",
    "  \n",
    "plt.show()"
   ]
  },
  {
   "cell_type": "code",
   "execution_count": 226,
   "id": "a533435a",
   "metadata": {
    "scrolled": true
   },
   "outputs": [
    {
     "data": {
      "text/plain": [
       "Text(0.5, 1.0, 'Mean Age of each Segmentation group')"
      ]
     },
     "execution_count": 226,
     "metadata": {},
     "output_type": "execute_result"
    },
    {
     "data": {
      "image/png": "[encoded data removed]",
      "text/plain": [
       "<Figure size 720x360 with 1 Axes>"
      ]
     },
     "metadata": {
      "needs_background": "light"
     },
     "output_type": "display_data"
    }
   ],
   "source": [
    "plt.rcParams['figure.figsize'] = [10, 5]\n",
    "plt.rcParams.update({'font.size': 11})\n",
    "df_dummy.groupby('Segmentation')['Age'].mean().plot(kind = 'bar', width = width)\n",
    "plt.ylabel('Average Age')\n",
    "plt.xlabel('Segmentation')\n",
    "plt.title(\"Mean Age of each Segmentation group\")"
   ]
  },
  {
   "cell_type": "code",
   "execution_count": 227,
   "id": "5a010bfc",
   "metadata": {},
   "outputs": [],
   "source": [
    "df_ab = pd.DataFrame(df_dummy.groupby('Segmentation')['Age_bins'].value_counts(normalize = True).sort_index())"
   ]
  },
  {
   "cell_type": "code",
   "execution_count": 228,
   "id": "9dd2e62e",
   "metadata": {},
   "outputs": [],
   "source": [
    "df_ab = df_ab.stack().unstack(level = 1)"
   ]
  },
  {
   "cell_type": "code",
   "execution_count": 229,
   "id": "0f43da37",
   "metadata": {},
   "outputs": [
    {
     "data": {
      "text/plain": [
       "<matplotlib.legend.Legend at 0x192358cf880>"
      ]
     },
     "execution_count": 229,
     "metadata": {},
     "output_type": "execute_result"
    },
    {
     "data": {
      "image/png": "[encoded data removed]",
      "text/plain": [
       "<Figure size 1440x576 with 1 Axes>"
      ]
     },
     "metadata": {
      "needs_background": "light"
     },
     "output_type": "display_data"
    }
   ],
   "source": [
    "plt.rcParams['figure.figsize'] = [20, 8]\n",
    "plt.rcParams.update({'font.size': 12})\n",
    "df_ab.plot.bar()\n",
    "plt.title('Distribution of ages within each customer segment')\n",
    "plt.xlabel('Segmentation')\n",
    "plt.legend(loc = 'upper left')"
   ]
  },
  {
   "cell_type": "code",
   "execution_count": 230,
   "id": "314ed2a2",
   "metadata": {},
   "outputs": [
    {
     "data": {
      "text/html": [
       "<div>\n",
       "<style scoped>\n",
       "    .dataframe tbody tr th:only-of-type {\n",
       "        vertical-align: middle;\n",
       "    }\n",
       "\n",
       "    .dataframe tbody tr th {\n",
       "        vertical-align: top;\n",
       "    }\n",
       "\n",
       "    .dataframe thead th {\n",
       "        text-align: right;\n",
       "    }\n",
       "</style>\n",
       "<table border=\"1\" class=\"dataframe\">\n",
       "  <thead>\n",
       "    <tr style=\"text-align: right;\">\n",
       "      <th></th>\n",
       "      <th>ID</th>\n",
       "      <th>Gender</th>\n",
       "      <th>Ever_Married</th>\n",
       "      <th>Age</th>\n",
       "      <th>Graduated</th>\n",
       "      <th>Profession</th>\n",
       "      <th>Work_Experience</th>\n",
       "      <th>Spending_Score</th>\n",
       "      <th>Family_Size</th>\n",
       "      <th>Var_1</th>\n",
       "      <th>...</th>\n",
       "      <th>Profession_Executive</th>\n",
       "      <th>Profession_Healthcare</th>\n",
       "      <th>Profession_Homemaker</th>\n",
       "      <th>Profession_Lawyer</th>\n",
       "      <th>Profession_Marketing</th>\n",
       "      <th>Age_bins_(15, 24]</th>\n",
       "      <th>Age_bins_(24, 38]</th>\n",
       "      <th>Age_bins_(38, 50]</th>\n",
       "      <th>Age_bins_(50, 65]</th>\n",
       "      <th>Age_bins_(65, 90]</th>\n",
       "    </tr>\n",
       "  </thead>\n",
       "  <tbody>\n",
       "    <tr>\n",
       "      <th>0</th>\n",
       "      <td>462809</td>\n",
       "      <td>1</td>\n",
       "      <td>0</td>\n",
       "      <td>22</td>\n",
       "      <td>0</td>\n",
       "      <td>Healthcare</td>\n",
       "      <td>1.000000</td>\n",
       "      <td>Low</td>\n",
       "      <td>4.0</td>\n",
       "      <td>Cat_4</td>\n",
       "      <td>...</td>\n",
       "      <td>0</td>\n",
       "      <td>1</td>\n",
       "      <td>0</td>\n",
       "      <td>0</td>\n",
       "      <td>0</td>\n",
       "      <td>1</td>\n",
       "      <td>0</td>\n",
       "      <td>0</td>\n",
       "      <td>0</td>\n",
       "      <td>0</td>\n",
       "    </tr>\n",
       "    <tr>\n",
       "      <th>1</th>\n",
       "      <td>462643</td>\n",
       "      <td>0</td>\n",
       "      <td>1</td>\n",
       "      <td>38</td>\n",
       "      <td>1</td>\n",
       "      <td>Engineer</td>\n",
       "      <td>2.874578</td>\n",
       "      <td>Average</td>\n",
       "      <td>3.0</td>\n",
       "      <td>Cat_4</td>\n",
       "      <td>...</td>\n",
       "      <td>0</td>\n",
       "      <td>0</td>\n",
       "      <td>0</td>\n",
       "      <td>0</td>\n",
       "      <td>0</td>\n",
       "      <td>0</td>\n",
       "      <td>1</td>\n",
       "      <td>0</td>\n",
       "      <td>0</td>\n",
       "      <td>0</td>\n",
       "    </tr>\n",
       "    <tr>\n",
       "      <th>2</th>\n",
       "      <td>466315</td>\n",
       "      <td>0</td>\n",
       "      <td>1</td>\n",
       "      <td>67</td>\n",
       "      <td>1</td>\n",
       "      <td>Engineer</td>\n",
       "      <td>1.000000</td>\n",
       "      <td>Low</td>\n",
       "      <td>1.0</td>\n",
       "      <td>Cat_6</td>\n",
       "      <td>...</td>\n",
       "      <td>0</td>\n",
       "      <td>0</td>\n",
       "      <td>0</td>\n",
       "      <td>0</td>\n",
       "      <td>0</td>\n",
       "      <td>0</td>\n",
       "      <td>0</td>\n",
       "      <td>0</td>\n",
       "      <td>0</td>\n",
       "      <td>1</td>\n",
       "    </tr>\n",
       "    <tr>\n",
       "      <th>3</th>\n",
       "      <td>461735</td>\n",
       "      <td>1</td>\n",
       "      <td>1</td>\n",
       "      <td>67</td>\n",
       "      <td>1</td>\n",
       "      <td>Lawyer</td>\n",
       "      <td>0.000000</td>\n",
       "      <td>High</td>\n",
       "      <td>2.0</td>\n",
       "      <td>Cat_6</td>\n",
       "      <td>...</td>\n",
       "      <td>0</td>\n",
       "      <td>0</td>\n",
       "      <td>0</td>\n",
       "      <td>1</td>\n",
       "      <td>0</td>\n",
       "      <td>0</td>\n",
       "      <td>0</td>\n",
       "      <td>0</td>\n",
       "      <td>0</td>\n",
       "      <td>1</td>\n",
       "    </tr>\n",
       "    <tr>\n",
       "      <th>4</th>\n",
       "      <td>462669</td>\n",
       "      <td>0</td>\n",
       "      <td>1</td>\n",
       "      <td>40</td>\n",
       "      <td>1</td>\n",
       "      <td>Entertainment</td>\n",
       "      <td>2.874578</td>\n",
       "      <td>High</td>\n",
       "      <td>6.0</td>\n",
       "      <td>Cat_6</td>\n",
       "      <td>...</td>\n",
       "      <td>0</td>\n",
       "      <td>0</td>\n",
       "      <td>0</td>\n",
       "      <td>0</td>\n",
       "      <td>0</td>\n",
       "      <td>0</td>\n",
       "      <td>0</td>\n",
       "      <td>1</td>\n",
       "      <td>0</td>\n",
       "      <td>0</td>\n",
       "    </tr>\n",
       "  </tbody>\n",
       "</table>\n",
       "<p>5 rows × 36 columns</p>\n",
       "</div>"
      ],
      "text/plain": [
       "       ID  Gender  Ever_Married  Age  Graduated     Profession  \\\n",
       "0  462809       1             0   22          0     Healthcare   \n",
       "1  462643       0             1   38          1       Engineer   \n",
       "2  466315       0             1   67          1       Engineer   \n",
       "3  461735       1             1   67          1         Lawyer   \n",
       "4  462669       0             1   40          1  Entertainment   \n",
       "\n",
       "   Work_Experience Spending_Score  Family_Size  Var_1  ...  \\\n",
       "0         1.000000            Low          4.0  Cat_4  ...   \n",
       "1         2.874578        Average          3.0  Cat_4  ...   \n",
       "2         1.000000            Low          1.0  Cat_6  ...   \n",
       "3         0.000000           High          2.0  Cat_6  ...   \n",
       "4         2.874578           High          6.0  Cat_6  ...   \n",
       "\n",
       "  Profession_Executive Profession_Healthcare  Profession_Homemaker  \\\n",
       "0                    0                     1                     0   \n",
       "1                    0                     0                     0   \n",
       "2                    0                     0                     0   \n",
       "3                    0                     0                     0   \n",
       "4                    0                     0                     0   \n",
       "\n",
       "   Profession_Lawyer  Profession_Marketing  Age_bins_(15, 24]  \\\n",
       "0                  0                     0                  1   \n",
       "1                  0                     0                  0   \n",
       "2                  0                     0                  0   \n",
       "3                  1                     0                  0   \n",
       "4                  0                     0                  0   \n",
       "\n",
       "   Age_bins_(24, 38]  Age_bins_(38, 50]  Age_bins_(50, 65]  Age_bins_(65, 90]  \n",
       "0                  0                  0                  0                  0  \n",
       "1                  1                  0                  0                  0  \n",
       "2                  0                  0                  0                  1  \n",
       "3                  0                  0                  0                  1  \n",
       "4                  0                  1                  0                  0  \n",
       "\n",
       "[5 rows x 36 columns]"
      ]
     },
     "execution_count": 230,
     "metadata": {},
     "output_type": "execute_result"
    }
   ],
   "source": [
    "df_dummy.head()"
   ]
  },
  {
   "cell_type": "code",
   "execution_count": 231,
   "id": "b122f156",
   "metadata": {},
   "outputs": [
    {
     "data": {
      "text/plain": [
       "Segmentation  Graduated\n",
       "A             1            1230\n",
       "              0             723\n",
       "B             1            1339\n",
       "              0             506\n",
       "C             1            1611\n",
       "              0             338\n",
       "D             0            1443\n",
       "              1             802\n",
       "Name: Graduated, dtype: int64"
      ]
     },
     "execution_count": 231,
     "metadata": {},
     "output_type": "execute_result"
    }
   ],
   "source": [
    "df_dummy.groupby('Segmentation')['Graduated'].value_counts()\n"
   ]
  },
  {
   "cell_type": "code",
   "execution_count": 232,
   "id": "9e7249cb",
   "metadata": {},
   "outputs": [
    {
     "data": {
      "image/png": "[encoded data removed]",
      "text/plain": [
       "<Figure size 720x360 with 1 Axes>"
      ]
     },
     "metadata": {
      "needs_background": "light"
     },
     "output_type": "display_data"
    }
   ],
   "source": [
    "plt.rcParams['figure.figsize'] = [10, 5]\n",
    "plt.rcParams.update({'font.size': 11})\n",
    "\n",
    "n = 4\n",
    "r = np.arange(n)\n",
    "width = 0.2\n",
    "plt.bar(r, df_dummy.groupby('Segmentation')['Graduated'].value_counts(normalize = True)[:,0]\n",
    ", color = 'b',\n",
    "        width = width, edgecolor = 'black',\n",
    "        label='Not graduated')\n",
    "plt.bar(r + width, df_dummy.groupby('Segmentation')['Graduated'].value_counts(normalize = True)[:,1], color = 'g',\n",
    "        width = width, edgecolor = 'black',\n",
    "        label='Graduated')\n",
    "  \n",
    "plt.xlabel(\"Segmentation\")\n",
    "plt.ylabel(\"Count\")\n",
    "plt.title(\"Graduated vs Non-graduated in each Segmentation group\")\n",
    "  \n",
    "# plt.grid(linestyle='--')\n",
    "plt.xticks(r + width/2,['A','B','C','D'])\n",
    "plt.legend()\n",
    "  \n",
    "plt.show()"
   ]
  },
  {
   "cell_type": "code",
   "execution_count": 233,
   "id": "21bc5a11",
   "metadata": {},
   "outputs": [
    {
     "data": {
      "text/plain": [
       "Text(0.5, 1.0, 'Average Work Experience for each Segmentation group')"
      ]
     },
     "execution_count": 233,
     "metadata": {},
     "output_type": "execute_result"
    },
    {
     "data": {
      "image/png": "[encoded data removed]",
      "text/plain": [
       "<Figure size 720x360 with 1 Axes>"
      ]
     },
     "metadata": {
      "needs_background": "light"
     },
     "output_type": "display_data"
    }
   ],
   "source": [
    "df_dummy.groupby('Segmentation')['Work_Experience'].mean().plot(kind = 'bar', width = width)\n",
    "plt.xlabel('Segmentation')\n",
    "plt.ylabel('Average Work Experience')\n",
    "plt.title(\"Average Work Experience for each Segmentation group\")"
   ]
  },
  {
   "cell_type": "code",
   "execution_count": 234,
   "id": "ed72a68d",
   "metadata": {},
   "outputs": [
    {
     "data": {
      "text/plain": [
       "Text(0.5, 1.0, 'Average Family Size for each Segmentation group')"
      ]
     },
     "execution_count": 234,
     "metadata": {},
     "output_type": "execute_result"
    },
    {
     "data": {
      "image/png": "[encoded data removed]",
      "text/plain": [
       "<Figure size 720x360 with 1 Axes>"
      ]
     },
     "metadata": {
      "needs_background": "light"
     },
     "output_type": "display_data"
    }
   ],
   "source": [
    "df_dummy.groupby('Segmentation')['Family_Size'].mean().plot(kind = 'bar', width = width)\n",
    "plt.xlabel('Segmentation')\n",
    "plt.ylabel('Average Family Size')\n",
    "plt.title(\"Average Family Size for each Segmentation group\")"
   ]
  },
  {
   "cell_type": "code",
   "execution_count": 235,
   "id": "10940520",
   "metadata": {},
   "outputs": [],
   "source": [
    "df_seg = pd.DataFrame(df_dummy.groupby('Segmentation')['Spending_Score'].value_counts(normalize = True))"
   ]
  },
  {
   "cell_type": "code",
   "execution_count": 236,
   "id": "89d1c4c8",
   "metadata": {},
   "outputs": [],
   "source": [
    "df_seg.sort_index(inplace = True)"
   ]
  },
  {
   "cell_type": "code",
   "execution_count": 237,
   "id": "fb160ea7",
   "metadata": {},
   "outputs": [
    {
     "data": {
      "text/plain": [
       "['A', 'B', 'C', 'D']"
      ]
     },
     "execution_count": 237,
     "metadata": {},
     "output_type": "execute_result"
    }
   ],
   "source": [
    "segments"
   ]
  },
  {
   "cell_type": "code",
   "execution_count": 238,
   "id": "2cb6f900",
   "metadata": {
    "scrolled": false
   },
   "outputs": [
    {
     "data": {
      "text/plain": [
       "<matplotlib.legend.Legend at 0x19236d183d0>"
      ]
     },
     "execution_count": 238,
     "metadata": {},
     "output_type": "execute_result"
    },
    {
     "data": {
      "image/png": "[encoded data removed]",
      "text/plain": [
       "<Figure size 720x360 with 1 Axes>"
      ]
     },
     "metadata": {
      "needs_background": "light"
     },
     "output_type": "display_data"
    }
   ],
   "source": [
    "df_seg.stack().unstack(level = 1).plot.bar()\n",
    "x = [0,1,2,3]\n",
    "plt.xticks(x, segments, rotation = 'vertical')\n",
    "plt.title('Spending_Score distribution in each customer segmentation group')\n",
    "plt.legend(loc = 'upper left')"
   ]
  },
  {
   "cell_type": "code",
   "execution_count": 239,
   "id": "66887738",
   "metadata": {},
   "outputs": [],
   "source": [
    "df_var = pd.DataFrame(df_dummy.groupby('Segmentation')['Var_1'].value_counts(normalize = True))"
   ]
  },
  {
   "cell_type": "code",
   "execution_count": 240,
   "id": "ec9f86cd",
   "metadata": {},
   "outputs": [],
   "source": [
    "df_var = df_var.stack().unstack(level = 1)"
   ]
  },
  {
   "cell_type": "code",
   "execution_count": 241,
   "id": "45619d0f",
   "metadata": {},
   "outputs": [
    {
     "data": {
      "text/plain": [
       "Text(0.5, 0, 'Segmentation')"
      ]
     },
     "execution_count": 241,
     "metadata": {},
     "output_type": "execute_result"
    },
    {
     "data": {
      "image/png": "[encoded data removed]",
      "text/plain": [
       "<Figure size 720x360 with 1 Axes>"
      ]
     },
     "metadata": {
      "needs_background": "light"
     },
     "output_type": "display_data"
    }
   ],
   "source": [
    "plt.rcParams.update({'font.size': 11})\n",
    "\n",
    "df_var.plot.bar()\n",
    "plt.title('Categroy distribution in each customer segmentation group')\n",
    "plt.xlabel('Segmentation')"
   ]
  },
  {
   "cell_type": "code",
   "execution_count": 242,
   "id": "60bf04c5",
   "metadata": {},
   "outputs": [
    {
     "data": {
      "text/html": [
       "<div>\n",
       "<style scoped>\n",
       "    .dataframe tbody tr th:only-of-type {\n",
       "        vertical-align: middle;\n",
       "    }\n",
       "\n",
       "    .dataframe tbody tr th {\n",
       "        vertical-align: top;\n",
       "    }\n",
       "\n",
       "    .dataframe thead th {\n",
       "        text-align: right;\n",
       "    }\n",
       "</style>\n",
       "<table border=\"1\" class=\"dataframe\">\n",
       "  <thead>\n",
       "    <tr style=\"text-align: right;\">\n",
       "      <th></th>\n",
       "      <th>Var_1</th>\n",
       "      <th>Cat_1</th>\n",
       "      <th>Cat_2</th>\n",
       "      <th>Cat_3</th>\n",
       "      <th>Cat_4</th>\n",
       "      <th>Cat_5</th>\n",
       "      <th>Cat_6</th>\n",
       "      <th>Cat_7</th>\n",
       "    </tr>\n",
       "    <tr>\n",
       "      <th>Segmentation</th>\n",
       "      <th></th>\n",
       "      <th></th>\n",
       "      <th></th>\n",
       "      <th></th>\n",
       "      <th></th>\n",
       "      <th></th>\n",
       "      <th></th>\n",
       "      <th></th>\n",
       "    </tr>\n",
       "  </thead>\n",
       "  <tbody>\n",
       "    <tr>\n",
       "      <th>A</th>\n",
       "      <th>Var_1</th>\n",
       "      <td>0.015873</td>\n",
       "      <td>0.042499</td>\n",
       "      <td>0.114183</td>\n",
       "      <td>0.170507</td>\n",
       "      <td>0.009729</td>\n",
       "      <td>0.621096</td>\n",
       "      <td>0.026114</td>\n",
       "    </tr>\n",
       "    <tr>\n",
       "      <th>B</th>\n",
       "      <th>Var_1</th>\n",
       "      <td>0.014092</td>\n",
       "      <td>0.057453</td>\n",
       "      <td>0.100813</td>\n",
       "      <td>0.125745</td>\n",
       "      <td>0.010840</td>\n",
       "      <td>0.667751</td>\n",
       "      <td>0.023306</td>\n",
       "    </tr>\n",
       "    <tr>\n",
       "      <th>C</th>\n",
       "      <th>Var_1</th>\n",
       "      <td>0.013340</td>\n",
       "      <td>0.050795</td>\n",
       "      <td>0.079015</td>\n",
       "      <td>0.055926</td>\n",
       "      <td>0.009236</td>\n",
       "      <td>0.767573</td>\n",
       "      <td>0.024115</td>\n",
       "    </tr>\n",
       "    <tr>\n",
       "      <th>D</th>\n",
       "      <th>Var_1</th>\n",
       "      <td>0.022272</td>\n",
       "      <td>0.059688</td>\n",
       "      <td>0.115367</td>\n",
       "      <td>0.184855</td>\n",
       "      <td>0.012472</td>\n",
       "      <td>0.577728</td>\n",
       "      <td>0.027617</td>\n",
       "    </tr>\n",
       "  </tbody>\n",
       "</table>\n",
       "</div>"
      ],
      "text/plain": [
       "Var_1                  Cat_1     Cat_2     Cat_3     Cat_4     Cat_5  \\\n",
       "Segmentation                                                           \n",
       "A            Var_1  0.015873  0.042499  0.114183  0.170507  0.009729   \n",
       "B            Var_1  0.014092  0.057453  0.100813  0.125745  0.010840   \n",
       "C            Var_1  0.013340  0.050795  0.079015  0.055926  0.009236   \n",
       "D            Var_1  0.022272  0.059688  0.115367  0.184855  0.012472   \n",
       "\n",
       "Var_1                  Cat_6     Cat_7  \n",
       "Segmentation                            \n",
       "A            Var_1  0.621096  0.026114  \n",
       "B            Var_1  0.667751  0.023306  \n",
       "C            Var_1  0.767573  0.024115  \n",
       "D            Var_1  0.577728  0.027617  "
      ]
     },
     "execution_count": 242,
     "metadata": {},
     "output_type": "execute_result"
    }
   ],
   "source": [
    "df_var"
   ]
  },
  {
   "cell_type": "code",
   "execution_count": 243,
   "id": "2b3c97f9",
   "metadata": {
    "scrolled": true
   },
   "outputs": [],
   "source": [
    "df_pro = pd.DataFrame(df.groupby('Segmentation')['Profession'].value_counts(normalize = True))\n",
    "df_pro = df_pro.sort_index()\n"
   ]
  },
  {
   "cell_type": "code",
   "execution_count": 244,
   "id": "e7985630",
   "metadata": {
    "scrolled": false
   },
   "outputs": [
    {
     "data": {
      "text/plain": [
       "Text(0.5, 1.0, 'Distribution of Professions in each Customer segment')"
      ]
     },
     "execution_count": 244,
     "metadata": {},
     "output_type": "execute_result"
    },
    {
     "data": {
      "image/png": "[encoded data removed]",
      "text/plain": [
       "<Figure size 1440x576 with 1 Axes>"
      ]
     },
     "metadata": {
      "needs_background": "light"
     },
     "output_type": "display_data"
    }
   ],
   "source": [
    "plt.rcParams['figure.figsize'] = [20, 8]\n",
    "plt.rcParams.update({'font.size': 14})\n",
    "\n",
    "\n",
    "x = [0,1,2,3]\n",
    "\n",
    "df_pro.stack().unstack(level = 1).plot.bar()\n",
    "plt.xticks(x, segments, rotation = 'vertical')\n",
    "plt.xlabel('Segmentation')\n",
    "plt.legend(loc = 'upper left')\n",
    "\n",
    "plt.title('Distribution of Professions in each Customer segment')"
   ]
  },
  {
   "cell_type": "code",
   "execution_count": 245,
   "id": "8d0ca5f4",
   "metadata": {},
   "outputs": [
    {
     "data": {
      "text/plain": [
       "ID                          0\n",
       "Gender                      0\n",
       "Ever_Married                0\n",
       "Age                         0\n",
       "Graduated                   0\n",
       "Profession                  0\n",
       "Work_Experience             0\n",
       "Spending_Score              0\n",
       "Family_Size                 0\n",
       "Var_1                       0\n",
       "Segmentation                0\n",
       "Age_bins                    0\n",
       "Var_1_Cat_1                 0\n",
       "Var_1_Cat_2                 0\n",
       "Var_1_Cat_3                 0\n",
       "Var_1_Cat_4                 0\n",
       "Var_1_Cat_5                 0\n",
       "Var_1_Cat_6                 0\n",
       "Var_1_Cat_7                 0\n",
       "Spending_Score_Average      0\n",
       "Spending_Score_High         0\n",
       "Spending_Score_Low          0\n",
       "Profession_Artist           0\n",
       "Profession_Doctor           0\n",
       "Profession_Engineer         0\n",
       "Profession_Entertainment    0\n",
       "Profession_Executive        0\n",
       "Profession_Healthcare       0\n",
       "Profession_Homemaker        0\n",
       "Profession_Lawyer           0\n",
       "Profession_Marketing        0\n",
       "Age_bins_(15, 24]           0\n",
       "Age_bins_(24, 38]           0\n",
       "Age_bins_(38, 50]           0\n",
       "Age_bins_(50, 65]           0\n",
       "Age_bins_(65, 90]           0\n",
       "dtype: int64"
      ]
     },
     "execution_count": 245,
     "metadata": {},
     "output_type": "execute_result"
    }
   ],
   "source": [
    "df_dummy.isnull().sum()"
   ]
  },
  {
   "cell_type": "code",
   "execution_count": 247,
   "id": "064ce67d",
   "metadata": {},
   "outputs": [],
   "source": [
    "from sklearn.preprocessing import LabelEncoder\n",
    "from keras.utils import np_utils\n",
    "\n",
    "\n",
    "encode = LabelEncoder()"
   ]
  },
  {
   "cell_type": "code",
   "execution_count": 248,
   "id": "641e5ed4",
   "metadata": {},
   "outputs": [
    {
     "data": {
      "text/plain": [
       "ID                          0\n",
       "Gender                      0\n",
       "Ever_Married                0\n",
       "Age                         0\n",
       "Graduated                   0\n",
       "Profession                  0\n",
       "Work_Experience             0\n",
       "Spending_Score              0\n",
       "Family_Size                 0\n",
       "Var_1                       0\n",
       "Segmentation                0\n",
       "Age_bins                    0\n",
       "Var_1_Cat_1                 0\n",
       "Var_1_Cat_2                 0\n",
       "Var_1_Cat_3                 0\n",
       "Var_1_Cat_4                 0\n",
       "Var_1_Cat_5                 0\n",
       "Var_1_Cat_6                 0\n",
       "Var_1_Cat_7                 0\n",
       "Spending_Score_Average      0\n",
       "Spending_Score_High         0\n",
       "Spending_Score_Low          0\n",
       "Profession_Artist           0\n",
       "Profession_Doctor           0\n",
       "Profession_Engineer         0\n",
       "Profession_Entertainment    0\n",
       "Profession_Executive        0\n",
       "Profession_Healthcare       0\n",
       "Profession_Homemaker        0\n",
       "Profession_Lawyer           0\n",
       "Profession_Marketing        0\n",
       "Age_bins_(15, 24]           0\n",
       "Age_bins_(24, 38]           0\n",
       "Age_bins_(38, 50]           0\n",
       "Age_bins_(50, 65]           0\n",
       "Age_bins_(65, 90]           0\n",
       "dtype: int64"
      ]
     },
     "execution_count": 248,
     "metadata": {},
     "output_type": "execute_result"
    }
   ],
   "source": [
    "df_dummy.isnull().sum()"
   ]
  },
  {
   "cell_type": "code",
   "execution_count": 53,
   "id": "0a15b64a",
   "metadata": {},
   "outputs": [],
   "source": [
    "X = df_dummy.drop(columns = ['Age','Var_1','Spending_Score', 'Profession', 'Age_bins', 'ID', \n",
    "                             'Segmentation','Var_1_Cat_7', \n",
    "                             'Var_1_Cat_6', 'Var_1_Cat_5', \n",
    "                         'Var_1_Cat_2', 'Var_1_Cat_1']).to_numpy()\n",
    "y = df_dummy['Segmentation'].to_numpy()\n",
    "encode = LabelEncoder()\n",
    "encode.fit(y)\n",
    "encoded_Y = encode.transform(y)\n"
   ]
  },
  {
   "cell_type": "code",
   "execution_count": 54,
   "id": "efe1212a",
   "metadata": {},
   "outputs": [
    {
     "data": {
      "text/plain": [
       "array([3, 0, 1, ..., 3, 1, 1])"
      ]
     },
     "execution_count": 54,
     "metadata": {},
     "output_type": "execute_result"
    }
   ],
   "source": [
    "encoded_Y"
   ]
  },
  {
   "cell_type": "code",
   "execution_count": 55,
   "id": "6b20638a",
   "metadata": {},
   "outputs": [
    {
     "data": {
      "text/html": [
       "<div>\n",
       "<style scoped>\n",
       "    .dataframe tbody tr th:only-of-type {\n",
       "        vertical-align: middle;\n",
       "    }\n",
       "\n",
       "    .dataframe tbody tr th {\n",
       "        vertical-align: top;\n",
       "    }\n",
       "\n",
       "    .dataframe thead th {\n",
       "        text-align: right;\n",
       "    }\n",
       "</style>\n",
       "<table border=\"1\" class=\"dataframe\">\n",
       "  <thead>\n",
       "    <tr style=\"text-align: right;\">\n",
       "      <th></th>\n",
       "      <th>ID</th>\n",
       "      <th>Gender</th>\n",
       "      <th>Ever_Married</th>\n",
       "      <th>Age</th>\n",
       "      <th>Graduated</th>\n",
       "      <th>Profession</th>\n",
       "      <th>Work_Experience</th>\n",
       "      <th>Spending_Score</th>\n",
       "      <th>Family_Size</th>\n",
       "      <th>Var_1</th>\n",
       "      <th>...</th>\n",
       "      <th>Profession_Executive</th>\n",
       "      <th>Profession_Healthcare</th>\n",
       "      <th>Profession_Homemaker</th>\n",
       "      <th>Profession_Lawyer</th>\n",
       "      <th>Profession_Marketing</th>\n",
       "      <th>Age_bins_(15, 24]</th>\n",
       "      <th>Age_bins_(24, 38]</th>\n",
       "      <th>Age_bins_(38, 50]</th>\n",
       "      <th>Age_bins_(50, 65]</th>\n",
       "      <th>Age_bins_(65, 90]</th>\n",
       "    </tr>\n",
       "  </thead>\n",
       "  <tbody>\n",
       "    <tr>\n",
       "      <th>0</th>\n",
       "      <td>462809</td>\n",
       "      <td>1</td>\n",
       "      <td>0</td>\n",
       "      <td>22</td>\n",
       "      <td>0</td>\n",
       "      <td>Healthcare</td>\n",
       "      <td>1.000000</td>\n",
       "      <td>Low</td>\n",
       "      <td>4.0</td>\n",
       "      <td>Cat_4</td>\n",
       "      <td>...</td>\n",
       "      <td>0</td>\n",
       "      <td>1</td>\n",
       "      <td>0</td>\n",
       "      <td>0</td>\n",
       "      <td>0</td>\n",
       "      <td>1</td>\n",
       "      <td>0</td>\n",
       "      <td>0</td>\n",
       "      <td>0</td>\n",
       "      <td>0</td>\n",
       "    </tr>\n",
       "    <tr>\n",
       "      <th>1</th>\n",
       "      <td>462643</td>\n",
       "      <td>0</td>\n",
       "      <td>1</td>\n",
       "      <td>38</td>\n",
       "      <td>1</td>\n",
       "      <td>Engineer</td>\n",
       "      <td>2.874578</td>\n",
       "      <td>Average</td>\n",
       "      <td>3.0</td>\n",
       "      <td>Cat_4</td>\n",
       "      <td>...</td>\n",
       "      <td>0</td>\n",
       "      <td>0</td>\n",
       "      <td>0</td>\n",
       "      <td>0</td>\n",
       "      <td>0</td>\n",
       "      <td>0</td>\n",
       "      <td>1</td>\n",
       "      <td>0</td>\n",
       "      <td>0</td>\n",
       "      <td>0</td>\n",
       "    </tr>\n",
       "    <tr>\n",
       "      <th>2</th>\n",
       "      <td>466315</td>\n",
       "      <td>0</td>\n",
       "      <td>1</td>\n",
       "      <td>67</td>\n",
       "      <td>1</td>\n",
       "      <td>Engineer</td>\n",
       "      <td>1.000000</td>\n",
       "      <td>Low</td>\n",
       "      <td>1.0</td>\n",
       "      <td>Cat_6</td>\n",
       "      <td>...</td>\n",
       "      <td>0</td>\n",
       "      <td>0</td>\n",
       "      <td>0</td>\n",
       "      <td>0</td>\n",
       "      <td>0</td>\n",
       "      <td>0</td>\n",
       "      <td>0</td>\n",
       "      <td>0</td>\n",
       "      <td>0</td>\n",
       "      <td>1</td>\n",
       "    </tr>\n",
       "    <tr>\n",
       "      <th>3</th>\n",
       "      <td>461735</td>\n",
       "      <td>1</td>\n",
       "      <td>1</td>\n",
       "      <td>67</td>\n",
       "      <td>1</td>\n",
       "      <td>Lawyer</td>\n",
       "      <td>0.000000</td>\n",
       "      <td>High</td>\n",
       "      <td>2.0</td>\n",
       "      <td>Cat_6</td>\n",
       "      <td>...</td>\n",
       "      <td>0</td>\n",
       "      <td>0</td>\n",
       "      <td>0</td>\n",
       "      <td>1</td>\n",
       "      <td>0</td>\n",
       "      <td>0</td>\n",
       "      <td>0</td>\n",
       "      <td>0</td>\n",
       "      <td>0</td>\n",
       "      <td>1</td>\n",
       "    </tr>\n",
       "    <tr>\n",
       "      <th>4</th>\n",
       "      <td>462669</td>\n",
       "      <td>0</td>\n",
       "      <td>1</td>\n",
       "      <td>40</td>\n",
       "      <td>1</td>\n",
       "      <td>Entertainment</td>\n",
       "      <td>2.874578</td>\n",
       "      <td>High</td>\n",
       "      <td>6.0</td>\n",
       "      <td>Cat_6</td>\n",
       "      <td>...</td>\n",
       "      <td>0</td>\n",
       "      <td>0</td>\n",
       "      <td>0</td>\n",
       "      <td>0</td>\n",
       "      <td>0</td>\n",
       "      <td>0</td>\n",
       "      <td>0</td>\n",
       "      <td>1</td>\n",
       "      <td>0</td>\n",
       "      <td>0</td>\n",
       "    </tr>\n",
       "  </tbody>\n",
       "</table>\n",
       "<p>5 rows × 36 columns</p>\n",
       "</div>"
      ],
      "text/plain": [
       "       ID  Gender  Ever_Married  Age  Graduated     Profession  \\\n",
       "0  462809       1             0   22          0     Healthcare   \n",
       "1  462643       0             1   38          1       Engineer   \n",
       "2  466315       0             1   67          1       Engineer   \n",
       "3  461735       1             1   67          1         Lawyer   \n",
       "4  462669       0             1   40          1  Entertainment   \n",
       "\n",
       "   Work_Experience Spending_Score  Family_Size  Var_1  ...  \\\n",
       "0         1.000000            Low          4.0  Cat_4  ...   \n",
       "1         2.874578        Average          3.0  Cat_4  ...   \n",
       "2         1.000000            Low          1.0  Cat_6  ...   \n",
       "3         0.000000           High          2.0  Cat_6  ...   \n",
       "4         2.874578           High          6.0  Cat_6  ...   \n",
       "\n",
       "  Profession_Executive Profession_Healthcare  Profession_Homemaker  \\\n",
       "0                    0                     1                     0   \n",
       "1                    0                     0                     0   \n",
       "2                    0                     0                     0   \n",
       "3                    0                     0                     0   \n",
       "4                    0                     0                     0   \n",
       "\n",
       "   Profession_Lawyer  Profession_Marketing  Age_bins_(15, 24]  \\\n",
       "0                  0                     0                  1   \n",
       "1                  0                     0                  0   \n",
       "2                  0                     0                  0   \n",
       "3                  1                     0                  0   \n",
       "4                  0                     0                  0   \n",
       "\n",
       "   Age_bins_(24, 38]  Age_bins_(38, 50]  Age_bins_(50, 65]  Age_bins_(65, 90]  \n",
       "0                  0                  0                  0                  0  \n",
       "1                  1                  0                  0                  0  \n",
       "2                  0                  0                  0                  1  \n",
       "3                  0                  0                  0                  1  \n",
       "4                  0                  1                  0                  0  \n",
       "\n",
       "[5 rows x 36 columns]"
      ]
     },
     "execution_count": 55,
     "metadata": {},
     "output_type": "execute_result"
    }
   ],
   "source": [
    "df_dummy.head()"
   ]
  },
  {
   "cell_type": "code",
   "execution_count": 56,
   "id": "eb8df26a",
   "metadata": {},
   "outputs": [
    {
     "data": {
      "text/plain": [
       "ID                             int64\n",
       "Gender                         int32\n",
       "Ever_Married                   int32\n",
       "Age                            int64\n",
       "Graduated                      int32\n",
       "Profession                    object\n",
       "Work_Experience              float64\n",
       "Spending_Score                object\n",
       "Family_Size                  float64\n",
       "Var_1                         object\n",
       "Segmentation                  object\n",
       "Age_bins                    category\n",
       "Var_1_Cat_1                    uint8\n",
       "Var_1_Cat_2                    uint8\n",
       "Var_1_Cat_3                    uint8\n",
       "Var_1_Cat_4                    uint8\n",
       "Var_1_Cat_5                    uint8\n",
       "Var_1_Cat_6                    uint8\n",
       "Var_1_Cat_7                    uint8\n",
       "Spending_Score_Average         uint8\n",
       "Spending_Score_High            uint8\n",
       "Spending_Score_Low             uint8\n",
       "Profession_Artist              uint8\n",
       "Profession_Doctor              uint8\n",
       "Profession_Engineer            uint8\n",
       "Profession_Entertainment       uint8\n",
       "Profession_Executive           uint8\n",
       "Profession_Healthcare          uint8\n",
       "Profession_Homemaker           uint8\n",
       "Profession_Lawyer              uint8\n",
       "Profession_Marketing           uint8\n",
       "Age_bins_(15, 24]              uint8\n",
       "Age_bins_(24, 38]              uint8\n",
       "Age_bins_(38, 50]              uint8\n",
       "Age_bins_(50, 65]              uint8\n",
       "Age_bins_(65, 90]              uint8\n",
       "dtype: object"
      ]
     },
     "execution_count": 56,
     "metadata": {},
     "output_type": "execute_result"
    }
   ],
   "source": [
    "df_dummy.dtypes"
   ]
  },
  {
   "cell_type": "markdown",
   "id": "60704b2f",
   "metadata": {},
   "source": [
    "# Splitting the data into train and test"
   ]
  },
  {
   "cell_type": "code",
   "execution_count": 249,
   "id": "b9f4498d",
   "metadata": {},
   "outputs": [],
   "source": [
    "X_t, X_val, y_t, y_val = train_test_split(X, encoded_Y, test_size=0.2, random_state=42)"
   ]
  },
  {
   "cell_type": "code",
   "execution_count": 250,
   "id": "1f6176a4",
   "metadata": {},
   "outputs": [
    {
     "data": {
      "text/plain": [
       "(6393, 24)"
      ]
     },
     "execution_count": 250,
     "metadata": {},
     "output_type": "execute_result"
    }
   ],
   "source": [
    "X_t.shape"
   ]
  },
  {
   "cell_type": "code",
   "execution_count": 251,
   "id": "9f6728b3",
   "metadata": {},
   "outputs": [],
   "source": [
    "scale = StandardScaler()\n",
    "X_train = scale.fit_transform(X_t)\n",
    "X_test = scale.fit_transform(X_val)"
   ]
  },
  {
   "cell_type": "code",
   "execution_count": 252,
   "id": "722d0fb9",
   "metadata": {},
   "outputs": [],
   "source": [
    "from keras.models import Sequential\n",
    "from keras.layers import Dense\n",
    "import tensorflow as tf\n",
    "from keras.wrappers.scikit_learn import KerasClassifier\n",
    "from sklearn.model_selection import KFold\n",
    "from sklearn.model_selection import cross_val_score\n",
    "from keras.models import Sequential\n",
    "from keras.layers import Dense\n",
    "from sklearn.preprocessing import PolynomialFeatures\n",
    "from sklearn.multiclass import OneVsOneClassifier\n",
    "from sklearn.svm import LinearSVC\n"
   ]
  },
  {
   "cell_type": "code",
   "execution_count": 253,
   "id": "35ec817d",
   "metadata": {},
   "outputs": [],
   "source": [
    "D = X.shape[1]\n"
   ]
  },
  {
   "cell_type": "code",
   "execution_count": 254,
   "id": "1fbc9e3a",
   "metadata": {},
   "outputs": [
    {
     "data": {
      "text/plain": [
       "(7992, 24)"
      ]
     },
     "execution_count": 254,
     "metadata": {},
     "output_type": "execute_result"
    }
   ],
   "source": [
    "X.shape"
   ]
  },
  {
   "cell_type": "code",
   "execution_count": 255,
   "id": "826ca0f5",
   "metadata": {},
   "outputs": [
    {
     "data": {
      "text/plain": [
       "array([[-1.10969077,  0.84413484, -1.2864293 , ..., -0.58523769,\n",
       "        -0.45837528, -0.37766036],\n",
       "       [ 0.90115195,  0.84413484, -1.2864293 , ...,  1.70870746,\n",
       "        -0.45837528, -0.37766036],\n",
       "       [-1.10969077, -1.18464487,  0.77734548, ..., -0.58523769,\n",
       "        -0.45837528, -0.37766036],\n",
       "       ...,\n",
       "       [ 0.90115195,  0.84413484,  0.77734548, ..., -0.58523769,\n",
       "        -0.45837528, -0.37766036],\n",
       "       [ 0.90115195,  0.84413484, -1.2864293 , ...,  1.70870746,\n",
       "        -0.45837528, -0.37766036],\n",
       "       [-1.10969077,  0.84413484,  0.77734548, ...,  1.70870746,\n",
       "        -0.45837528, -0.37766036]])"
      ]
     },
     "execution_count": 255,
     "metadata": {},
     "output_type": "execute_result"
    }
   ],
   "source": [
    "X_train"
   ]
  },
  {
   "cell_type": "code",
   "execution_count": 256,
   "id": "0b6c50c4",
   "metadata": {},
   "outputs": [],
   "source": [
    "accuracy = pd.DataFrame(columns  = ['Accuracy_mean', 'Precision', 'Recall', 'F1_score'], index = ['Logistic Regression', \n",
    "                                                          'SVM', 'Decision Tree', 'Xgboost', \n",
    "                                                          'Gradient Boosting Classifier', \n",
    "                                                          'Neural Network'])"
   ]
  },
  {
   "cell_type": "code",
   "execution_count": null,
   "id": "6281f0a8",
   "metadata": {},
   "outputs": [],
   "source": [
    "def fill_metrics(model, predictions):\n",
    "    accuracy.loc[model, 'Accuracy_mean'] = accuracy_score(y_val, predictions)\n",
    "    accuracy.loc[model, 'Precision'] = precision_score(y_val, predictions, average = 'weighted')\n",
    "    accuracy.loc[model, 'Recall'] = recall_score(y_val, predictions, average = 'weighted')\n",
    "    accuracy.loc[model, 'F1_score'] = f1_score(y_val, predictions, average = 'weighted')\n",
    "    return accuracy"
   ]
  },
  {
   "cell_type": "markdown",
   "id": "6bbf1eb9",
   "metadata": {},
   "source": [
    "# Model Selection"
   ]
  },
  {
   "cell_type": "code",
   "execution_count": 259,
   "id": "0438b22e",
   "metadata": {},
   "outputs": [
    {
     "data": {
      "text/html": [
       "<div>\n",
       "<style scoped>\n",
       "    .dataframe tbody tr th:only-of-type {\n",
       "        vertical-align: middle;\n",
       "    }\n",
       "\n",
       "    .dataframe tbody tr th {\n",
       "        vertical-align: top;\n",
       "    }\n",
       "\n",
       "    .dataframe thead th {\n",
       "        text-align: right;\n",
       "    }\n",
       "</style>\n",
       "<table border=\"1\" class=\"dataframe\">\n",
       "  <thead>\n",
       "    <tr style=\"text-align: right;\">\n",
       "      <th></th>\n",
       "      <th>Accuracy_mean</th>\n",
       "      <th>Precision</th>\n",
       "      <th>Recall</th>\n",
       "      <th>F1_score</th>\n",
       "    </tr>\n",
       "  </thead>\n",
       "  <tbody>\n",
       "    <tr>\n",
       "      <th>Logistic Regression</th>\n",
       "      <td>NaN</td>\n",
       "      <td>NaN</td>\n",
       "      <td>NaN</td>\n",
       "      <td>NaN</td>\n",
       "    </tr>\n",
       "    <tr>\n",
       "      <th>SVM</th>\n",
       "      <td>0.51157</td>\n",
       "      <td>0.499169</td>\n",
       "      <td>0.51157</td>\n",
       "      <td>0.503065</td>\n",
       "    </tr>\n",
       "    <tr>\n",
       "      <th>Decision Tree</th>\n",
       "      <td>NaN</td>\n",
       "      <td>NaN</td>\n",
       "      <td>NaN</td>\n",
       "      <td>NaN</td>\n",
       "    </tr>\n",
       "    <tr>\n",
       "      <th>Xgboost</th>\n",
       "      <td>NaN</td>\n",
       "      <td>NaN</td>\n",
       "      <td>NaN</td>\n",
       "      <td>NaN</td>\n",
       "    </tr>\n",
       "    <tr>\n",
       "      <th>Gradient Boosting Classifier</th>\n",
       "      <td>NaN</td>\n",
       "      <td>NaN</td>\n",
       "      <td>NaN</td>\n",
       "      <td>NaN</td>\n",
       "    </tr>\n",
       "    <tr>\n",
       "      <th>Neural Network</th>\n",
       "      <td>NaN</td>\n",
       "      <td>NaN</td>\n",
       "      <td>NaN</td>\n",
       "      <td>NaN</td>\n",
       "    </tr>\n",
       "  </tbody>\n",
       "</table>\n",
       "</div>"
      ],
      "text/plain": [
       "                             Accuracy_mean Precision   Recall  F1_score\n",
       "Logistic Regression                    NaN       NaN      NaN       NaN\n",
       "SVM                                0.51157  0.499169  0.51157  0.503065\n",
       "Decision Tree                          NaN       NaN      NaN       NaN\n",
       "Xgboost                                NaN       NaN      NaN       NaN\n",
       "Gradient Boosting Classifier           NaN       NaN      NaN       NaN\n",
       "Neural Network                         NaN       NaN      NaN       NaN"
      ]
     },
     "execution_count": 259,
     "metadata": {},
     "output_type": "execute_result"
    }
   ],
   "source": [
    "from sklearn.multiclass import OneVsOneClassifier\n",
    "from sklearn.svm import LinearSVC\n",
    "from sklearn.metrics import precision_score, recall_score, f1_score\n",
    "\n",
    "svc_model = OneVsOneClassifier(LinearSVC(random_state=0))\n",
    "svc_model.fit(X_train, y_t)\n",
    "pred_svc = svc_model.predict(X_test)\n",
    "fill_metrics('SVM', pred_svc)"
   ]
  },
  {
   "cell_type": "code",
   "execution_count": 261,
   "id": "1158ae9a",
   "metadata": {},
   "outputs": [
    {
     "data": {
      "text/html": [
       "<div>\n",
       "<style scoped>\n",
       "    .dataframe tbody tr th:only-of-type {\n",
       "        vertical-align: middle;\n",
       "    }\n",
       "\n",
       "    .dataframe tbody tr th {\n",
       "        vertical-align: top;\n",
       "    }\n",
       "\n",
       "    .dataframe thead th {\n",
       "        text-align: right;\n",
       "    }\n",
       "</style>\n",
       "<table border=\"1\" class=\"dataframe\">\n",
       "  <thead>\n",
       "    <tr style=\"text-align: right;\">\n",
       "      <th></th>\n",
       "      <th>Accuracy_mean</th>\n",
       "      <th>Precision</th>\n",
       "      <th>Recall</th>\n",
       "      <th>F1_score</th>\n",
       "    </tr>\n",
       "  </thead>\n",
       "  <tbody>\n",
       "    <tr>\n",
       "      <th>Logistic Regression</th>\n",
       "      <td>0.515322</td>\n",
       "      <td>0.504781</td>\n",
       "      <td>0.515322</td>\n",
       "      <td>0.507123</td>\n",
       "    </tr>\n",
       "    <tr>\n",
       "      <th>SVM</th>\n",
       "      <td>0.51157</td>\n",
       "      <td>0.499169</td>\n",
       "      <td>0.51157</td>\n",
       "      <td>0.503065</td>\n",
       "    </tr>\n",
       "    <tr>\n",
       "      <th>Decision Tree</th>\n",
       "      <td>NaN</td>\n",
       "      <td>NaN</td>\n",
       "      <td>NaN</td>\n",
       "      <td>NaN</td>\n",
       "    </tr>\n",
       "    <tr>\n",
       "      <th>Xgboost</th>\n",
       "      <td>NaN</td>\n",
       "      <td>NaN</td>\n",
       "      <td>NaN</td>\n",
       "      <td>NaN</td>\n",
       "    </tr>\n",
       "    <tr>\n",
       "      <th>Gradient Boosting Classifier</th>\n",
       "      <td>NaN</td>\n",
       "      <td>NaN</td>\n",
       "      <td>NaN</td>\n",
       "      <td>NaN</td>\n",
       "    </tr>\n",
       "    <tr>\n",
       "      <th>Neural Network</th>\n",
       "      <td>NaN</td>\n",
       "      <td>NaN</td>\n",
       "      <td>NaN</td>\n",
       "      <td>NaN</td>\n",
       "    </tr>\n",
       "  </tbody>\n",
       "</table>\n",
       "</div>"
      ],
      "text/plain": [
       "                             Accuracy_mean Precision    Recall  F1_score\n",
       "Logistic Regression               0.515322  0.504781  0.515322  0.507123\n",
       "SVM                                0.51157  0.499169   0.51157  0.503065\n",
       "Decision Tree                          NaN       NaN       NaN       NaN\n",
       "Xgboost                                NaN       NaN       NaN       NaN\n",
       "Gradient Boosting Classifier           NaN       NaN       NaN       NaN\n",
       "Neural Network                         NaN       NaN       NaN       NaN"
      ]
     },
     "execution_count": 261,
     "metadata": {},
     "output_type": "execute_result"
    }
   ],
   "source": [
    "lm = linear_model.LogisticRegression(multi_class='multinomial')\n",
    "from sklearn.model_selection import RandomizedSearchCV\n",
    "from scipy.stats import uniform\n",
    "distributions = dict(C=uniform(loc=0, scale=4),\n",
    "                    penalty=['l2', 'l1'], \n",
    "                     solver = ['lbfgs', 'newton-cg', 'newton-cholesky', 'sag', 'saga'])\n",
    "rand_lm = RandomizedSearchCV(lm, distributions, random_state=0)\n",
    "rand_lm.fit(X_train, y_t)\n",
    "\n",
    "pred_rand_lm = rand_lm.predict(X_test)\n",
    "rand_lm.score(X_test, y_val)\n",
    "fill_metrics('Logistic Regression', pred_rand_lm)"
   ]
  },
  {
   "cell_type": "code",
   "execution_count": 262,
   "id": "7013c97e",
   "metadata": {},
   "outputs": [
    {
     "data": {
      "text/plain": [
       "24"
      ]
     },
     "execution_count": 262,
     "metadata": {},
     "output_type": "execute_result"
    }
   ],
   "source": [
    "X_train.shape[1]"
   ]
  },
  {
   "cell_type": "code",
   "execution_count": 263,
   "id": "9fefba21",
   "metadata": {},
   "outputs": [
    {
     "data": {
      "text/plain": [
       "array([[0., 0., 0., 1.],\n",
       "       [1., 0., 0., 0.],\n",
       "       [0., 1., 0., 0.],\n",
       "       ...,\n",
       "       [0., 0., 0., 1.],\n",
       "       [0., 1., 0., 0.],\n",
       "       [0., 1., 0., 0.]], dtype=float32)"
      ]
     },
     "execution_count": 263,
     "metadata": {},
     "output_type": "execute_result"
    }
   ],
   "source": [
    "from keras.utils import to_categorical\n",
    "\n",
    "dummy_y = to_categorical(encoded_Y)\n",
    "dummy_y"
   ]
  },
  {
   "cell_type": "code",
   "execution_count": 264,
   "id": "d2d3bfec",
   "metadata": {},
   "outputs": [],
   "source": [
    "X_nn_train, X_nn_test, y_nn_train, y_nn_test = train_test_split(X, dummy_y, test_size = 0.2, random_state = 42)"
   ]
  },
  {
   "cell_type": "code",
   "execution_count": 291,
   "id": "c1fa1ade",
   "metadata": {},
   "outputs": [
    {
     "name": "stdout",
     "output_type": "stream",
     "text": [
      "Epoch 1/150\n",
      "7/7 [==============================] - 0s 2ms/step - loss: 1.4143 - accuracy: 0.2687\n",
      "Epoch 2/150\n",
      "7/7 [==============================] - 0s 2ms/step - loss: 1.3473 - accuracy: 0.3812\n",
      "Epoch 3/150\n",
      "7/7 [==============================] - 0s 2ms/step - loss: 1.3065 - accuracy: 0.4165\n",
      "Epoch 4/150\n",
      "7/7 [==============================] - 0s 1ms/step - loss: 1.2676 - accuracy: 0.4225\n",
      "Epoch 5/150\n",
      "7/7 [==============================] - 0s 2ms/step - loss: 1.2322 - accuracy: 0.4233\n",
      "Epoch 6/150\n",
      "7/7 [==============================] - 0s 1ms/step - loss: 1.2046 - accuracy: 0.4309\n",
      "Epoch 7/150\n",
      "7/7 [==============================] - 0s 1ms/step - loss: 1.1801 - accuracy: 0.4419\n",
      "Epoch 8/150\n",
      "7/7 [==============================] - 0s 2ms/step - loss: 1.1603 - accuracy: 0.4638\n",
      "Epoch 9/150\n",
      "7/7 [==============================] - 0s 1ms/step - loss: 1.1432 - accuracy: 0.4804\n",
      "Epoch 10/150\n",
      "7/7 [==============================] - 0s 2ms/step - loss: 1.1285 - accuracy: 0.5010\n",
      "Epoch 11/150\n",
      "7/7 [==============================] - 0s 2ms/step - loss: 1.1177 - accuracy: 0.5063\n",
      "Epoch 12/150\n",
      "7/7 [==============================] - 0s 1ms/step - loss: 1.1078 - accuracy: 0.5099\n",
      "Epoch 13/150\n",
      "7/7 [==============================] - 0s 2ms/step - loss: 1.1007 - accuracy: 0.5118\n",
      "Epoch 14/150\n",
      "7/7 [==============================] - 0s 1ms/step - loss: 1.0941 - accuracy: 0.5159\n",
      "Epoch 15/150\n",
      "7/7 [==============================] - 0s 2ms/step - loss: 1.0889 - accuracy: 0.5190\n",
      "Epoch 16/150\n",
      "7/7 [==============================] - 0s 2ms/step - loss: 1.0842 - accuracy: 0.5264\n",
      "Epoch 17/150\n",
      "7/7 [==============================] - 0s 2ms/step - loss: 1.0800 - accuracy: 0.5249\n",
      "Epoch 18/150\n",
      "7/7 [==============================] - 0s 1ms/step - loss: 1.0772 - accuracy: 0.5293\n",
      "Epoch 19/150\n",
      "7/7 [==============================] - 0s 2ms/step - loss: 1.0740 - accuracy: 0.5265\n",
      "Epoch 20/150\n",
      "7/7 [==============================] - 0s 2ms/step - loss: 1.0711 - accuracy: 0.5298\n",
      "Epoch 21/150\n",
      "7/7 [==============================] - 0s 1ms/step - loss: 1.0688 - accuracy: 0.5312\n",
      "Epoch 22/150\n",
      "7/7 [==============================] - 0s 2ms/step - loss: 1.0668 - accuracy: 0.5321\n",
      "Epoch 23/150\n",
      "7/7 [==============================] - 0s 1ms/step - loss: 1.0650 - accuracy: 0.5351\n",
      "Epoch 24/150\n",
      "7/7 [==============================] - 0s 1ms/step - loss: 1.0636 - accuracy: 0.5348\n",
      "Epoch 25/150\n",
      "7/7 [==============================] - 0s 2ms/step - loss: 1.0618 - accuracy: 0.5354\n",
      "Epoch 26/150\n",
      "7/7 [==============================] - 0s 1ms/step - loss: 1.0591 - accuracy: 0.5378\n",
      "Epoch 27/150\n",
      "7/7 [==============================] - 0s 1ms/step - loss: 1.0573 - accuracy: 0.5354\n",
      "Epoch 28/150\n",
      "7/7 [==============================] - 0s 1ms/step - loss: 1.0557 - accuracy: 0.5386\n",
      "Epoch 29/150\n",
      "7/7 [==============================] - 0s 1ms/step - loss: 1.0539 - accuracy: 0.5390\n",
      "Epoch 30/150\n",
      "7/7 [==============================] - 0s 1ms/step - loss: 1.0523 - accuracy: 0.5386\n",
      "Epoch 31/150\n",
      "7/7 [==============================] - 0s 1ms/step - loss: 1.0507 - accuracy: 0.5423\n",
      "Epoch 32/150\n",
      "7/7 [==============================] - 0s 1ms/step - loss: 1.0490 - accuracy: 0.5436\n",
      "Epoch 33/150\n",
      "7/7 [==============================] - 0s 1ms/step - loss: 1.0478 - accuracy: 0.5436\n",
      "Epoch 34/150\n",
      "7/7 [==============================] - 0s 2ms/step - loss: 1.0464 - accuracy: 0.5451\n",
      "Epoch 35/150\n",
      "7/7 [==============================] - 0s 1ms/step - loss: 1.0445 - accuracy: 0.5475\n",
      "Epoch 36/150\n",
      "7/7 [==============================] - 0s 1ms/step - loss: 1.0430 - accuracy: 0.5467\n",
      "Epoch 37/150\n",
      "7/7 [==============================] - 0s 1ms/step - loss: 1.0421 - accuracy: 0.5468\n",
      "Epoch 38/150\n",
      "7/7 [==============================] - 0s 2ms/step - loss: 1.0416 - accuracy: 0.5472\n",
      "Epoch 39/150\n",
      "7/7 [==============================] - 0s 2ms/step - loss: 1.0395 - accuracy: 0.5458\n",
      "Epoch 40/150\n",
      "7/7 [==============================] - 0s 2ms/step - loss: 1.0380 - accuracy: 0.5498\n",
      "Epoch 41/150\n",
      "7/7 [==============================] - 0s 2ms/step - loss: 1.0381 - accuracy: 0.5473\n",
      "Epoch 42/150\n",
      "7/7 [==============================] - 0s 1ms/step - loss: 1.0354 - accuracy: 0.5490\n",
      "Epoch 43/150\n",
      "7/7 [==============================] - 0s 1ms/step - loss: 1.0354 - accuracy: 0.5520\n",
      "Epoch 44/150\n",
      "7/7 [==============================] - 0s 1ms/step - loss: 1.0331 - accuracy: 0.5462\n",
      "Epoch 45/150\n",
      "7/7 [==============================] - 0s 2ms/step - loss: 1.0313 - accuracy: 0.5512\n",
      "Epoch 46/150\n",
      "7/7 [==============================] - 0s 2ms/step - loss: 1.0306 - accuracy: 0.5478\n",
      "Epoch 47/150\n",
      "7/7 [==============================] - 0s 1ms/step - loss: 1.0285 - accuracy: 0.5531\n",
      "Epoch 48/150\n",
      "7/7 [==============================] - 0s 2ms/step - loss: 1.0281 - accuracy: 0.5509\n",
      "Epoch 49/150\n",
      "7/7 [==============================] - 0s 1ms/step - loss: 1.0269 - accuracy: 0.5540\n",
      "Epoch 50/150\n",
      "7/7 [==============================] - 0s 2ms/step - loss: 1.0251 - accuracy: 0.5545\n",
      "Epoch 51/150\n",
      "7/7 [==============================] - 0s 1ms/step - loss: 1.0241 - accuracy: 0.5550\n",
      "Epoch 52/150\n",
      "7/7 [==============================] - 0s 1ms/step - loss: 1.0224 - accuracy: 0.5562\n",
      "Epoch 53/150\n",
      "7/7 [==============================] - 0s 2ms/step - loss: 1.0218 - accuracy: 0.5529\n",
      "Epoch 54/150\n",
      "7/7 [==============================] - 0s 2ms/step - loss: 1.0210 - accuracy: 0.5562\n",
      "Epoch 55/150\n",
      "7/7 [==============================] - 0s 2ms/step - loss: 1.0198 - accuracy: 0.5556\n",
      "Epoch 56/150\n",
      "7/7 [==============================] - 0s 2ms/step - loss: 1.0187 - accuracy: 0.5561\n",
      "Epoch 57/150\n",
      "7/7 [==============================] - 0s 1ms/step - loss: 1.0176 - accuracy: 0.5578\n",
      "Epoch 58/150\n",
      "7/7 [==============================] - 0s 1ms/step - loss: 1.0172 - accuracy: 0.5564\n",
      "Epoch 59/150\n",
      "7/7 [==============================] - 0s 2ms/step - loss: 1.0163 - accuracy: 0.5598\n",
      "Epoch 60/150\n",
      "7/7 [==============================] - 0s 2ms/step - loss: 1.0168 - accuracy: 0.5548\n",
      "Epoch 61/150\n",
      "7/7 [==============================] - 0s 1ms/step - loss: 1.0143 - accuracy: 0.5575\n",
      "Epoch 62/150\n",
      "7/7 [==============================] - 0s 2ms/step - loss: 1.0135 - accuracy: 0.5578\n",
      "Epoch 63/150\n",
      "7/7 [==============================] - 0s 1ms/step - loss: 1.0127 - accuracy: 0.5606\n",
      "Epoch 64/150\n",
      "7/7 [==============================] - 0s 2ms/step - loss: 1.0118 - accuracy: 0.5616\n",
      "Epoch 65/150\n",
      "7/7 [==============================] - 0s 2ms/step - loss: 1.0113 - accuracy: 0.5603\n",
      "Epoch 66/150\n",
      "7/7 [==============================] - 0s 2ms/step - loss: 1.0119 - accuracy: 0.5606\n",
      "Epoch 67/150\n",
      "7/7 [==============================] - 0s 1ms/step - loss: 1.0110 - accuracy: 0.5592\n",
      "Epoch 68/150\n",
      "7/7 [==============================] - 0s 1ms/step - loss: 1.0092 - accuracy: 0.5612\n",
      "Epoch 69/150\n",
      "7/7 [==============================] - 0s 2ms/step - loss: 1.0084 - accuracy: 0.5606\n",
      "Epoch 70/150\n",
      "7/7 [==============================] - 0s 2ms/step - loss: 1.0074 - accuracy: 0.5622\n",
      "Epoch 71/150\n",
      "7/7 [==============================] - 0s 2ms/step - loss: 1.0064 - accuracy: 0.5617\n",
      "Epoch 72/150\n",
      "7/7 [==============================] - 0s 1ms/step - loss: 1.0059 - accuracy: 0.5644\n",
      "Epoch 73/150\n",
      "7/7 [==============================] - 0s 2ms/step - loss: 1.0052 - accuracy: 0.5661\n",
      "Epoch 74/150\n",
      "7/7 [==============================] - 0s 2ms/step - loss: 1.0044 - accuracy: 0.5644\n",
      "Epoch 75/150\n",
      "7/7 [==============================] - 0s 2ms/step - loss: 1.0037 - accuracy: 0.5648\n",
      "Epoch 76/150\n",
      "7/7 [==============================] - 0s 1ms/step - loss: 1.0034 - accuracy: 0.5659\n",
      "Epoch 77/150\n",
      "7/7 [==============================] - 0s 2ms/step - loss: 1.0034 - accuracy: 0.5644\n",
      "Epoch 78/150\n",
      "7/7 [==============================] - 0s 1ms/step - loss: 1.0026 - accuracy: 0.5650\n",
      "Epoch 79/150\n",
      "7/7 [==============================] - 0s 2ms/step - loss: 1.0022 - accuracy: 0.5650\n",
      "Epoch 80/150\n",
      "7/7 [==============================] - 0s 2ms/step - loss: 1.0013 - accuracy: 0.5650\n",
      "Epoch 81/150\n",
      "7/7 [==============================] - 0s 1ms/step - loss: 1.0013 - accuracy: 0.5648\n",
      "Epoch 82/150\n",
      "7/7 [==============================] - 0s 1ms/step - loss: 1.0005 - accuracy: 0.5631\n",
      "Epoch 83/150\n",
      "7/7 [==============================] - 0s 2ms/step - loss: 0.9991 - accuracy: 0.5667\n",
      "Epoch 84/150\n",
      "7/7 [==============================] - 0s 1ms/step - loss: 0.9989 - accuracy: 0.5673\n",
      "Epoch 85/150\n",
      "7/7 [==============================] - 0s 2ms/step - loss: 0.9993 - accuracy: 0.5666\n",
      "Epoch 86/150\n",
      "7/7 [==============================] - 0s 1ms/step - loss: 0.9985 - accuracy: 0.5659\n",
      "Epoch 87/150\n",
      "7/7 [==============================] - 0s 2ms/step - loss: 0.9968 - accuracy: 0.5692\n",
      "Epoch 88/150\n",
      "7/7 [==============================] - 0s 2ms/step - loss: 0.9971 - accuracy: 0.5675\n",
      "Epoch 89/150\n",
      "7/7 [==============================] - 0s 2ms/step - loss: 0.9963 - accuracy: 0.5653\n",
      "Epoch 90/150\n",
      "7/7 [==============================] - 0s 2ms/step - loss: 0.9954 - accuracy: 0.5702\n",
      "Epoch 91/150\n",
      "7/7 [==============================] - 0s 2ms/step - loss: 0.9951 - accuracy: 0.5656\n",
      "Epoch 92/150\n",
      "7/7 [==============================] - 0s 2ms/step - loss: 0.9943 - accuracy: 0.5692\n",
      "Epoch 93/150\n",
      "7/7 [==============================] - 0s 1ms/step - loss: 0.9943 - accuracy: 0.5672\n",
      "Epoch 94/150\n",
      "7/7 [==============================] - 0s 2ms/step - loss: 0.9933 - accuracy: 0.5703\n",
      "Epoch 95/150\n",
      "7/7 [==============================] - 0s 1ms/step - loss: 0.9925 - accuracy: 0.5719\n",
      "Epoch 96/150\n",
      "7/7 [==============================] - 0s 2ms/step - loss: 0.9928 - accuracy: 0.5684\n",
      "Epoch 97/150\n",
      "7/7 [==============================] - 0s 1ms/step - loss: 0.9930 - accuracy: 0.5681\n",
      "Epoch 98/150\n",
      "7/7 [==============================] - 0s 2ms/step - loss: 0.9920 - accuracy: 0.5670\n",
      "Epoch 99/150\n",
      "7/7 [==============================] - 0s 2ms/step - loss: 0.9907 - accuracy: 0.5716\n",
      "Epoch 100/150\n",
      "7/7 [==============================] - 0s 1ms/step - loss: 0.9908 - accuracy: 0.5722\n",
      "Epoch 101/150\n",
      "7/7 [==============================] - 0s 2ms/step - loss: 0.9892 - accuracy: 0.5720\n",
      "Epoch 102/150\n",
      "7/7 [==============================] - 0s 1ms/step - loss: 0.9889 - accuracy: 0.5712\n",
      "Epoch 103/150\n",
      "7/7 [==============================] - 0s 1ms/step - loss: 0.9887 - accuracy: 0.5719\n",
      "Epoch 104/150\n",
      "7/7 [==============================] - 0s 1ms/step - loss: 0.9882 - accuracy: 0.5720\n",
      "Epoch 105/150\n",
      "7/7 [==============================] - 0s 2ms/step - loss: 0.9880 - accuracy: 0.5700\n",
      "Epoch 106/150\n",
      "7/7 [==============================] - 0s 1ms/step - loss: 0.9886 - accuracy: 0.5691\n",
      "Epoch 107/150\n",
      "7/7 [==============================] - 0s 2ms/step - loss: 0.9876 - accuracy: 0.5698\n",
      "Epoch 108/150\n",
      "7/7 [==============================] - 0s 2ms/step - loss: 0.9862 - accuracy: 0.5716\n",
      "Epoch 109/150\n",
      "7/7 [==============================] - 0s 2ms/step - loss: 0.9858 - accuracy: 0.5763\n",
      "Epoch 110/150\n",
      "7/7 [==============================] - 0s 1ms/step - loss: 0.9856 - accuracy: 0.5727\n",
      "Epoch 111/150\n",
      "7/7 [==============================] - 0s 2ms/step - loss: 0.9849 - accuracy: 0.5747\n",
      "Epoch 112/150\n",
      "7/7 [==============================] - 0s 2ms/step - loss: 0.9855 - accuracy: 0.5741\n",
      "Epoch 113/150\n",
      "7/7 [==============================] - 0s 2ms/step - loss: 0.9877 - accuracy: 0.5716\n",
      "Epoch 114/150\n",
      "7/7 [==============================] - 0s 2ms/step - loss: 0.9855 - accuracy: 0.5709\n",
      "Epoch 115/150\n",
      "7/7 [==============================] - 0s 1ms/step - loss: 0.9843 - accuracy: 0.5738\n",
      "Epoch 116/150\n",
      "7/7 [==============================] - 0s 2ms/step - loss: 0.9845 - accuracy: 0.5720\n",
      "Epoch 117/150\n",
      "7/7 [==============================] - 0s 2ms/step - loss: 0.9828 - accuracy: 0.5747\n",
      "Epoch 118/150\n",
      "7/7 [==============================] - 0s 1ms/step - loss: 0.9823 - accuracy: 0.5739\n",
      "Epoch 119/150\n",
      "7/7 [==============================] - 0s 2ms/step - loss: 0.9811 - accuracy: 0.5739\n",
      "Epoch 120/150\n",
      "7/7 [==============================] - 0s 1ms/step - loss: 0.9809 - accuracy: 0.5764\n",
      "Epoch 121/150\n",
      "7/7 [==============================] - 0s 2ms/step - loss: 0.9807 - accuracy: 0.5764\n",
      "Epoch 122/150\n",
      "7/7 [==============================] - 0s 1ms/step - loss: 0.9799 - accuracy: 0.5761\n",
      "Epoch 123/150\n",
      "7/7 [==============================] - 0s 3ms/step - loss: 0.9794 - accuracy: 0.5786\n",
      "Epoch 124/150\n",
      "7/7 [==============================] - 0s 1ms/step - loss: 0.9796 - accuracy: 0.5763\n",
      "Epoch 125/150\n",
      "7/7 [==============================] - 0s 1ms/step - loss: 0.9818 - accuracy: 0.5716\n",
      "Epoch 126/150\n",
      "7/7 [==============================] - 0s 2ms/step - loss: 0.9800 - accuracy: 0.5763\n",
      "Epoch 127/150\n",
      "7/7 [==============================] - 0s 1ms/step - loss: 0.9787 - accuracy: 0.5734\n",
      "Epoch 128/150\n",
      "7/7 [==============================] - 0s 2ms/step - loss: 0.9775 - accuracy: 0.5788\n",
      "Epoch 129/150\n",
      "7/7 [==============================] - 0s 1ms/step - loss: 0.9768 - accuracy: 0.5791\n",
      "Epoch 130/150\n",
      "7/7 [==============================] - 0s 1ms/step - loss: 0.9771 - accuracy: 0.5775\n",
      "Epoch 131/150\n",
      "7/7 [==============================] - 0s 2ms/step - loss: 0.9788 - accuracy: 0.5748\n",
      "Epoch 132/150\n",
      "7/7 [==============================] - 0s 1ms/step - loss: 0.9771 - accuracy: 0.5788\n",
      "Epoch 133/150\n",
      "7/7 [==============================] - 0s 2ms/step - loss: 0.9771 - accuracy: 0.5764\n",
      "Epoch 134/150\n",
      "7/7 [==============================] - 0s 2ms/step - loss: 0.9781 - accuracy: 0.5748\n",
      "Epoch 135/150\n",
      "7/7 [==============================] - 0s 2ms/step - loss: 0.9753 - accuracy: 0.5775\n",
      "Epoch 136/150\n",
      "7/7 [==============================] - 0s 2ms/step - loss: 0.9757 - accuracy: 0.5780\n",
      "Epoch 137/150\n",
      "7/7 [==============================] - 0s 1ms/step - loss: 0.9749 - accuracy: 0.5772\n",
      "Epoch 138/150\n",
      "7/7 [==============================] - 0s 2ms/step - loss: 0.9736 - accuracy: 0.5803\n",
      "Epoch 139/150\n",
      "7/7 [==============================] - 0s 2ms/step - loss: 0.9736 - accuracy: 0.5777\n",
      "Epoch 140/150\n",
      "7/7 [==============================] - 0s 2ms/step - loss: 0.9728 - accuracy: 0.5800\n",
      "Epoch 141/150\n",
      "7/7 [==============================] - 0s 2ms/step - loss: 0.9723 - accuracy: 0.5791\n",
      "Epoch 142/150\n",
      "7/7 [==============================] - 0s 2ms/step - loss: 0.9727 - accuracy: 0.5780\n",
      "Epoch 143/150\n",
      "7/7 [==============================] - 0s 2ms/step - loss: 0.9722 - accuracy: 0.5780\n",
      "Epoch 144/150\n",
      "7/7 [==============================] - 0s 2ms/step - loss: 0.9721 - accuracy: 0.5825\n",
      "Epoch 145/150\n",
      "7/7 [==============================] - 0s 2ms/step - loss: 0.9710 - accuracy: 0.5845\n",
      "Epoch 146/150\n",
      "7/7 [==============================] - 0s 2ms/step - loss: 0.9713 - accuracy: 0.5800\n",
      "Epoch 147/150\n",
      "7/7 [==============================] - 0s 3ms/step - loss: 0.9704 - accuracy: 0.5817\n",
      "Epoch 148/150\n",
      "7/7 [==============================] - 0s 2ms/step - loss: 0.9705 - accuracy: 0.5808\n",
      "Epoch 149/150\n",
      "7/7 [==============================] - 0s 3ms/step - loss: 0.9696 - accuracy: 0.5803\n",
      "Epoch 150/150\n",
      "7/7 [==============================] - 0s 2ms/step - loss: 0.9689 - accuracy: 0.5809\n",
      "50/50 [==============================] - 0s 1ms/step - loss: 1.0467 - accuracy: 0.5422\n",
      "\n",
      "loss: 1.047\n",
      "\n",
      "accuracy: 0.542\n"
     ]
    }
   ],
   "source": [
    "model = Sequential()\n",
    "model.add(Dense(90, input_dim = (X_train.shape[1]), activation = 'relu'))\n",
    "model.add(Dense(10, input_dim = (X_train.shape[1]), activation = 'relu'))\n",
    "model.add(Dense(4, activation = 'softmax'))\n",
    "\n",
    "model.compile(loss = 'categorical_crossentropy', optimizer = 'adam', metrics = ['accuracy'])\n",
    "model.fit(X_nn_train, y_nn_train, epochs = 150, batch_size = 1000)\n",
    "scores = model.evaluate(X_nn_test, y_nn_test)\n",
    "\n",
    "for i, m in enumerate(model.metrics_names):\n",
    "    print(\"\\n%s: %.3f\"% (m, scores[i]))"
   ]
  },
  {
   "cell_type": "code",
   "execution_count": 281,
   "id": "a8f0dcc4",
   "metadata": {},
   "outputs": [
    {
     "name": "stdout",
     "output_type": "stream",
     "text": [
      "50/50 [==============================] - 0s 905us/step\n"
     ]
    }
   ],
   "source": [
    "from keras.utils import to_categorical\n",
    "\n",
    "pred = model.predict(X_nn_test)\n",
    "class_pred = np.zeros((pred.shape[0],))\n",
    "class_true = np.zeros((y_nn_test.shape[0],))\n",
    "for i in range(len(pred)):\n",
    "    class_pred[i] = np.argmax(pred[i])\n",
    "    \n",
    "for i in range(len(y_nn_test)):\n",
    "    class_true[i] = np.argmax(y_nn_test[i])\n"
   ]
  },
  {
   "cell_type": "code",
   "execution_count": 282,
   "id": "c2478ec6",
   "metadata": {},
   "outputs": [
    {
     "data": {
      "text/html": [
       "<div>\n",
       "<style scoped>\n",
       "    .dataframe tbody tr th:only-of-type {\n",
       "        vertical-align: middle;\n",
       "    }\n",
       "\n",
       "    .dataframe tbody tr th {\n",
       "        vertical-align: top;\n",
       "    }\n",
       "\n",
       "    .dataframe thead th {\n",
       "        text-align: right;\n",
       "    }\n",
       "</style>\n",
       "<table border=\"1\" class=\"dataframe\">\n",
       "  <thead>\n",
       "    <tr style=\"text-align: right;\">\n",
       "      <th></th>\n",
       "      <th>Accuracy_mean</th>\n",
       "      <th>Precision</th>\n",
       "      <th>Recall</th>\n",
       "      <th>F1_score</th>\n",
       "    </tr>\n",
       "  </thead>\n",
       "  <tbody>\n",
       "    <tr>\n",
       "      <th>Logistic Regression</th>\n",
       "      <td>0.515322</td>\n",
       "      <td>0.504781</td>\n",
       "      <td>0.515322</td>\n",
       "      <td>0.507123</td>\n",
       "    </tr>\n",
       "    <tr>\n",
       "      <th>SVM</th>\n",
       "      <td>0.51157</td>\n",
       "      <td>0.499169</td>\n",
       "      <td>0.51157</td>\n",
       "      <td>0.503065</td>\n",
       "    </tr>\n",
       "    <tr>\n",
       "      <th>Decision Tree</th>\n",
       "      <td>NaN</td>\n",
       "      <td>NaN</td>\n",
       "      <td>NaN</td>\n",
       "      <td>NaN</td>\n",
       "    </tr>\n",
       "    <tr>\n",
       "      <th>Xgboost</th>\n",
       "      <td>NaN</td>\n",
       "      <td>NaN</td>\n",
       "      <td>NaN</td>\n",
       "      <td>NaN</td>\n",
       "    </tr>\n",
       "    <tr>\n",
       "      <th>Gradient Boosting Classifier</th>\n",
       "      <td>NaN</td>\n",
       "      <td>NaN</td>\n",
       "      <td>NaN</td>\n",
       "      <td>NaN</td>\n",
       "    </tr>\n",
       "    <tr>\n",
       "      <th>Neural Network</th>\n",
       "      <td>0.541588</td>\n",
       "      <td>0.535813</td>\n",
       "      <td>0.541588</td>\n",
       "      <td>0.53652</td>\n",
       "    </tr>\n",
       "  </tbody>\n",
       "</table>\n",
       "</div>"
      ],
      "text/plain": [
       "                             Accuracy_mean Precision    Recall  F1_score\n",
       "Logistic Regression               0.515322  0.504781  0.515322  0.507123\n",
       "SVM                                0.51157  0.499169   0.51157  0.503065\n",
       "Decision Tree                          NaN       NaN       NaN       NaN\n",
       "Xgboost                                NaN       NaN       NaN       NaN\n",
       "Gradient Boosting Classifier           NaN       NaN       NaN       NaN\n",
       "Neural Network                    0.541588  0.535813  0.541588   0.53652"
      ]
     },
     "execution_count": 282,
     "metadata": {},
     "output_type": "execute_result"
    }
   ],
   "source": [
    "fill_metrics('Neural Network', class_pred)"
   ]
  },
  {
   "cell_type": "code",
   "execution_count": 268,
   "id": "f579ee35",
   "metadata": {},
   "outputs": [
    {
     "data": {
      "text/plain": [
       "GradientBoostingClassifier(learning_rate=0.31613038970599905, max_depth=4,\n",
       "                           n_estimators=657, random_state=0,\n",
       "                           subsample=0.8062766936135211)"
      ]
     },
     "execution_count": 268,
     "metadata": {},
     "output_type": "execute_result"
    }
   ],
   "source": [
    "from sklearn.ensemble import GradientBoostingClassifier\n",
    "from scipy.stats import uniform as sp_randFloat\n",
    "from scipy.stats import randint as sp_randInt\n",
    "clf = GradientBoostingClassifier()\n",
    "parameters = {\"learning_rate\": sp_randFloat(),\n",
    "                  \"subsample\"    : sp_randFloat(),\n",
    "                  \"n_estimators\" : sp_randInt(100, 1000),\n",
    "                  \"max_depth\"    : sp_randInt(4, 10)\n",
    "                 }\n",
    "randm_gbclf = RandomizedSearchCV(estimator=clf, param_distributions = parameters,\n",
    "                               cv = 10, n_iter = 10, n_jobs=-1)\n",
    "randm_gbclf.fit(X_train, y_t)\n",
    "randm_gbclf.best_estimator_\n",
    "model_gb = GradientBoostingClassifier(learning_rate=0.31613038970599905, max_depth=4,\n",
    "                           n_estimators=657, subsample=0.8062766936135211, random_state = 0)\n",
    "model_gb.fit(X_train, y_t)\n"
   ]
  },
  {
   "cell_type": "code",
   "execution_count": 283,
   "id": "7cc9483f",
   "metadata": {},
   "outputs": [
    {
     "data": {
      "text/html": [
       "<div>\n",
       "<style scoped>\n",
       "    .dataframe tbody tr th:only-of-type {\n",
       "        vertical-align: middle;\n",
       "    }\n",
       "\n",
       "    .dataframe tbody tr th {\n",
       "        vertical-align: top;\n",
       "    }\n",
       "\n",
       "    .dataframe thead th {\n",
       "        text-align: right;\n",
       "    }\n",
       "</style>\n",
       "<table border=\"1\" class=\"dataframe\">\n",
       "  <thead>\n",
       "    <tr style=\"text-align: right;\">\n",
       "      <th></th>\n",
       "      <th>Accuracy_mean</th>\n",
       "      <th>Precision</th>\n",
       "      <th>Recall</th>\n",
       "      <th>F1_score</th>\n",
       "    </tr>\n",
       "  </thead>\n",
       "  <tbody>\n",
       "    <tr>\n",
       "      <th>Logistic Regression</th>\n",
       "      <td>0.515322</td>\n",
       "      <td>0.504781</td>\n",
       "      <td>0.515322</td>\n",
       "      <td>0.507123</td>\n",
       "    </tr>\n",
       "    <tr>\n",
       "      <th>SVM</th>\n",
       "      <td>0.51157</td>\n",
       "      <td>0.499169</td>\n",
       "      <td>0.51157</td>\n",
       "      <td>0.503065</td>\n",
       "    </tr>\n",
       "    <tr>\n",
       "      <th>Decision Tree</th>\n",
       "      <td>NaN</td>\n",
       "      <td>NaN</td>\n",
       "      <td>NaN</td>\n",
       "      <td>NaN</td>\n",
       "    </tr>\n",
       "    <tr>\n",
       "      <th>Xgboost</th>\n",
       "      <td>NaN</td>\n",
       "      <td>NaN</td>\n",
       "      <td>NaN</td>\n",
       "      <td>NaN</td>\n",
       "    </tr>\n",
       "    <tr>\n",
       "      <th>Gradient Boosting Classifier</th>\n",
       "      <td>0.521576</td>\n",
       "      <td>0.517476</td>\n",
       "      <td>0.521576</td>\n",
       "      <td>0.518893</td>\n",
       "    </tr>\n",
       "    <tr>\n",
       "      <th>Neural Network</th>\n",
       "      <td>0.541588</td>\n",
       "      <td>0.535813</td>\n",
       "      <td>0.541588</td>\n",
       "      <td>0.53652</td>\n",
       "    </tr>\n",
       "  </tbody>\n",
       "</table>\n",
       "</div>"
      ],
      "text/plain": [
       "                             Accuracy_mean Precision    Recall  F1_score\n",
       "Logistic Regression               0.515322  0.504781  0.515322  0.507123\n",
       "SVM                                0.51157  0.499169   0.51157  0.503065\n",
       "Decision Tree                          NaN       NaN       NaN       NaN\n",
       "Xgboost                                NaN       NaN       NaN       NaN\n",
       "Gradient Boosting Classifier      0.521576  0.517476  0.521576  0.518893\n",
       "Neural Network                    0.541588  0.535813  0.541588   0.53652"
      ]
     },
     "execution_count": 283,
     "metadata": {},
     "output_type": "execute_result"
    }
   ],
   "source": [
    "pred_gb = model_gb.predict(X_test)\n",
    "fill_metrics('Gradient Boosting Classifier', pred_gb)"
   ]
  },
  {
   "cell_type": "code",
   "execution_count": 82,
   "id": "0bc556ab",
   "metadata": {},
   "outputs": [],
   "source": [
    "Y_pred_lm = lm.predict(X_test)"
   ]
  },
  {
   "cell_type": "code",
   "execution_count": 83,
   "id": "81437cf1",
   "metadata": {},
   "outputs": [
    {
     "data": {
      "text/plain": [
       "51.5322076297686"
      ]
     },
     "execution_count": 83,
     "metadata": {},
     "output_type": "execute_result"
    }
   ],
   "source": [
    "np.mean(Y_pred_lm == y_val)*100"
   ]
  },
  {
   "cell_type": "code",
   "execution_count": 84,
   "id": "12b497b9",
   "metadata": {},
   "outputs": [
    {
     "name": "stdout",
     "output_type": "stream",
     "text": [
      "              precision    recall  f1-score   support\n",
      "\n",
      "           A       0.44      0.40      0.42       403\n",
      "           B       0.37      0.33      0.35       354\n",
      "           C       0.63      0.58      0.60       416\n",
      "           D       0.61      0.76      0.68       426\n",
      "\n",
      "    accuracy                           0.53      1599\n",
      "   macro avg       0.51      0.52      0.51      1599\n",
      "weighted avg       0.52      0.53      0.52      1599\n",
      "\n"
     ]
    }
   ],
   "source": [
    "from sklearn.metrics import classification_report\n",
    "label_names = ['A', 'B', 'C', 'D']\n",
    "print(classification_report(class_true, class_pred, target_names = label_names))"
   ]
  },
  {
   "cell_type": "code",
   "execution_count": 85,
   "id": "28100872",
   "metadata": {},
   "outputs": [
    {
     "data": {
      "text/plain": [
       "array([[163,  91,  48, 101],\n",
       "       [ 98, 116,  89,  51],\n",
       "       [ 39,  83, 241,  53],\n",
       "       [ 73,  23,   7, 323]], dtype=int64)"
      ]
     },
     "execution_count": 85,
     "metadata": {},
     "output_type": "execute_result"
    }
   ],
   "source": [
    "from sklearn import metrics\n",
    "\n",
    "confusion_matrix = metrics.confusion_matrix(class_true, class_pred)\n",
    "\n",
    "confusion_matrix"
   ]
  },
  {
   "cell_type": "code",
   "execution_count": 86,
   "id": "06bec609",
   "metadata": {},
   "outputs": [],
   "source": [
    "cm_display = metrics.ConfusionMatrixDisplay(confusion_matrix = confusion_matrix, display_labels = ['A', 'B', 'C', 'D'])"
   ]
  },
  {
   "cell_type": "code",
   "execution_count": 87,
   "id": "470d713d",
   "metadata": {},
   "outputs": [
    {
     "data": {
      "text/plain": [
       "array([1, 3, 1, ..., 0, 2, 3])"
      ]
     },
     "execution_count": 87,
     "metadata": {},
     "output_type": "execute_result"
    }
   ],
   "source": [
    "y_val"
   ]
  },
  {
   "cell_type": "code",
   "execution_count": 88,
   "id": "88e7661c",
   "metadata": {},
   "outputs": [
    {
     "name": "stdout",
     "output_type": "stream",
     "text": [
      "[[  0 403]\n",
      " [  1 354]\n",
      " [  2 416]\n",
      " [  3 426]]\n"
     ]
    }
   ],
   "source": [
    "unique, counts = np.unique(y_val, return_counts=True)\n",
    "print(np.asarray((unique, counts)).T)"
   ]
  },
  {
   "cell_type": "code",
   "execution_count": 89,
   "id": "8e38e453",
   "metadata": {
    "scrolled": true
   },
   "outputs": [
    {
     "data": {
      "image/png": "[encoded data removed]",
      "text/plain": [
       "<Figure size 1440x576 with 2 Axes>"
      ]
     },
     "metadata": {
      "needs_background": "light"
     },
     "output_type": "display_data"
    }
   ],
   "source": [
    "cm_display.plot()\n",
    "plt.show()"
   ]
  },
  {
   "cell_type": "code",
   "execution_count": 90,
   "id": "9596421b",
   "metadata": {},
   "outputs": [],
   "source": [
    "import xgboost as xgb\n"
   ]
  },
  {
   "cell_type": "code",
   "execution_count": 91,
   "id": "e67af659",
   "metadata": {},
   "outputs": [],
   "source": [
    "from sklearn.tree import DecisionTreeClassifier\n",
    "from scipy.stats import randint"
   ]
  },
  {
   "cell_type": "code",
   "execution_count": 92,
   "id": "c82df24f",
   "metadata": {},
   "outputs": [
    {
     "data": {
      "text/plain": [
       "0.490931832395247"
      ]
     },
     "execution_count": 92,
     "metadata": {},
     "output_type": "execute_result"
    }
   ],
   "source": [
    "from sklearn.tree import DecisionTreeClassifier\n",
    "from scipy.stats import randint\n",
    "dTree_clf = DecisionTreeClassifier()\n",
    "param_dist = {\"max_depth\": range(3,10,2),\n",
    "              \"max_features\": randint(1, 9),\n",
    "              \"min_samples_leaf\": randint(1, 9),\n",
    "              \"criterion\": [\"gini\", \"entropy\"]}\n",
    "tree_cv = RandomizedSearchCV(dTree_clf, param_dist, cv=5)\n",
    "tree_cv.fit(X_train,y_t)\n",
    "pred_tree_cv = tree_cv.predict(X_test)"
   ]
  },
  {
   "cell_type": "code",
   "execution_count": 93,
   "id": "ba93b59d",
   "metadata": {},
   "outputs": [],
   "source": [
    "tree_cv = RandomizedSearchCV(dTree_clf, param_dist, cv=5)"
   ]
  },
  {
   "cell_type": "code",
   "execution_count": 94,
   "id": "1f37fc13",
   "metadata": {},
   "outputs": [
    {
     "data": {
      "text/plain": [
       "RandomizedSearchCV(cv=5, estimator=DecisionTreeClassifier(),\n",
       "                   param_distributions={'criterion': ['gini', 'entropy'],\n",
       "                                        'max_depth': range(3, 10, 2),\n",
       "                                        'max_features': <scipy.stats._distn_infrastructure.rv_frozen object at 0x000001923414F370>,\n",
       "                                        'min_samples_leaf': <scipy.stats._distn_infrastructure.rv_frozen object at 0x000001923414F490>})"
      ]
     },
     "execution_count": 94,
     "metadata": {},
     "output_type": "execute_result"
    }
   ],
   "source": [
    "tree_cv.fit(X_train,y_t)"
   ]
  },
  {
   "cell_type": "code",
   "execution_count": 95,
   "id": "5d8089a9",
   "metadata": {},
   "outputs": [
    {
     "data": {
      "text/plain": [
       "{'criterion': 'gini', 'max_depth': 7, 'max_features': 8, 'min_samples_leaf': 8}"
      ]
     },
     "execution_count": 95,
     "metadata": {},
     "output_type": "execute_result"
    }
   ],
   "source": [
    "tree_cv.best_params_"
   ]
  },
  {
   "cell_type": "code",
   "execution_count": 196,
   "id": "a7a4cbd7",
   "metadata": {},
   "outputs": [],
   "source": [
    "y_pred_tree_cv = tree_cv.predict(X_test)\n"
   ]
  },
  {
   "cell_type": "code",
   "execution_count": 284,
   "id": "0cd44855",
   "metadata": {},
   "outputs": [
    {
     "data": {
      "text/html": [
       "<div>\n",
       "<style scoped>\n",
       "    .dataframe tbody tr th:only-of-type {\n",
       "        vertical-align: middle;\n",
       "    }\n",
       "\n",
       "    .dataframe tbody tr th {\n",
       "        vertical-align: top;\n",
       "    }\n",
       "\n",
       "    .dataframe thead th {\n",
       "        text-align: right;\n",
       "    }\n",
       "</style>\n",
       "<table border=\"1\" class=\"dataframe\">\n",
       "  <thead>\n",
       "    <tr style=\"text-align: right;\">\n",
       "      <th></th>\n",
       "      <th>Accuracy_mean</th>\n",
       "      <th>Precision</th>\n",
       "      <th>Recall</th>\n",
       "      <th>F1_score</th>\n",
       "    </tr>\n",
       "  </thead>\n",
       "  <tbody>\n",
       "    <tr>\n",
       "      <th>Logistic Regression</th>\n",
       "      <td>0.515322</td>\n",
       "      <td>0.504781</td>\n",
       "      <td>0.515322</td>\n",
       "      <td>0.507123</td>\n",
       "    </tr>\n",
       "    <tr>\n",
       "      <th>SVM</th>\n",
       "      <td>0.51157</td>\n",
       "      <td>0.499169</td>\n",
       "      <td>0.51157</td>\n",
       "      <td>0.503065</td>\n",
       "    </tr>\n",
       "    <tr>\n",
       "      <th>Decision Tree</th>\n",
       "      <td>0.524078</td>\n",
       "      <td>0.535061</td>\n",
       "      <td>0.524078</td>\n",
       "      <td>0.526976</td>\n",
       "    </tr>\n",
       "    <tr>\n",
       "      <th>Xgboost</th>\n",
       "      <td>NaN</td>\n",
       "      <td>NaN</td>\n",
       "      <td>NaN</td>\n",
       "      <td>NaN</td>\n",
       "    </tr>\n",
       "    <tr>\n",
       "      <th>Gradient Boosting Classifier</th>\n",
       "      <td>0.521576</td>\n",
       "      <td>0.517476</td>\n",
       "      <td>0.521576</td>\n",
       "      <td>0.518893</td>\n",
       "    </tr>\n",
       "    <tr>\n",
       "      <th>Neural Network</th>\n",
       "      <td>0.541588</td>\n",
       "      <td>0.535813</td>\n",
       "      <td>0.541588</td>\n",
       "      <td>0.53652</td>\n",
       "    </tr>\n",
       "  </tbody>\n",
       "</table>\n",
       "</div>"
      ],
      "text/plain": [
       "                             Accuracy_mean Precision    Recall  F1_score\n",
       "Logistic Regression               0.515322  0.504781  0.515322  0.507123\n",
       "SVM                                0.51157  0.499169   0.51157  0.503065\n",
       "Decision Tree                     0.524078  0.535061  0.524078  0.526976\n",
       "Xgboost                                NaN       NaN       NaN       NaN\n",
       "Gradient Boosting Classifier      0.521576  0.517476  0.521576  0.518893\n",
       "Neural Network                    0.541588  0.535813  0.541588   0.53652"
      ]
     },
     "execution_count": 284,
     "metadata": {},
     "output_type": "execute_result"
    }
   ],
   "source": [
    "fill_metrics('Decision Tree', y_pred_tree_cv)"
   ]
  },
  {
   "cell_type": "code",
   "execution_count": 99,
   "id": "cd5ed44d",
   "metadata": {},
   "outputs": [],
   "source": [
    "from sklearn.metrics import accuracy_score"
   ]
  },
  {
   "cell_type": "code",
   "execution_count": 101,
   "id": "8afc89bd",
   "metadata": {},
   "outputs": [
    {
     "name": "stdout",
     "output_type": "stream",
     "text": [
      "Fitting 5 folds for each of 5 candidates, totalling 25 fits\n"
     ]
    },
    {
     "data": {
      "text/plain": [
       "RandomizedSearchCV(cv=5,\n",
       "                   estimator=XGBClassifier(base_score=None, booster=None,\n",
       "                                           callbacks=None,\n",
       "                                           colsample_bylevel=None,\n",
       "                                           colsample_bynode=None,\n",
       "                                           colsample_bytree=None,\n",
       "                                           early_stopping_rounds=None,\n",
       "                                           enable_categorical=False,\n",
       "                                           eval_metric=None, feature_types=None,\n",
       "                                           gamma=None, gpu_id=None,\n",
       "                                           grow_policy=None,\n",
       "                                           importance_type=None,\n",
       "                                           interaction_constraints=None,\n",
       "                                           learning_rate...\n",
       "                                           monotone_constraints=None,\n",
       "                                           n_estimators=100, n_jobs=None,\n",
       "                                           num_parallel_tree=None,\n",
       "                                           predictor=None, random_state=None, ...),\n",
       "                   n_iter=5, n_jobs=-1,\n",
       "                   param_distributions={'colsample_bytree': [0.3, 0.4, 0.5,\n",
       "                                                             0.7],\n",
       "                                        'gamma': [0.0, 0.1, 0.2, 0.3, 0.4],\n",
       "                                        'learning_rate': [0.05, 0.1, 0.15, 0.2,\n",
       "                                                          0.25, 0.3],\n",
       "                                        'max_depth': [3, 4, 5, 6, 8, 10, 12,\n",
       "                                                      15],\n",
       "                                        'min_child_weight': [1, 3, 5, 7]},\n",
       "                   scoring='accuracy', verbose=3)"
      ]
     },
     "execution_count": 101,
     "metadata": {},
     "output_type": "execute_result"
    }
   ],
   "source": [
    "import xgboost as xgb\n",
    "\n",
    "xgb_classifier = xgb.XGBClassifier()\n",
    "params = {\n",
    " 'learning_rate' : [0.05,0.10,0.15,0.20,0.25,0.30],\n",
    " 'max_depth': [ 3, 4, 5, 6, 8, 10, 12, 15],\n",
    " 'min_child_weight' : [ 1, 3, 5, 7 ],\n",
    " 'gamma': [ 0.0, 0.1, 0.2 , 0.3, 0.4 ],\n",
    " 'colsample_bytree': [ 0.3, 0.4, 0.5 , 0.7 ]\n",
    "}\n",
    "rs_model=RandomizedSearchCV(xgb_classifier,\n",
    "                            param_distributions=params,\n",
    "                            n_iter=5,scoring='accuracy',\n",
    "                            n_jobs=-1,cv=5,verbose=3)\n",
    "rs_model.fit(X_train,y_t)\n"
   ]
  },
  {
   "cell_type": "code",
   "execution_count": 198,
   "id": "e54c5a3f",
   "metadata": {},
   "outputs": [
    {
     "data": {
      "text/plain": [
       "0.5816135084427767"
      ]
     },
     "execution_count": 198,
     "metadata": {},
     "output_type": "execute_result"
    }
   ],
   "source": [
    "predictions_xg = rs_model.predict(X_test)\n",
    "rs_model.score(X_test, y_val)"
   ]
  },
  {
   "cell_type": "code",
   "execution_count": 285,
   "id": "84d0433c",
   "metadata": {},
   "outputs": [
    {
     "data": {
      "text/html": [
       "<div>\n",
       "<style scoped>\n",
       "    .dataframe tbody tr th:only-of-type {\n",
       "        vertical-align: middle;\n",
       "    }\n",
       "\n",
       "    .dataframe tbody tr th {\n",
       "        vertical-align: top;\n",
       "    }\n",
       "\n",
       "    .dataframe thead th {\n",
       "        text-align: right;\n",
       "    }\n",
       "</style>\n",
       "<table border=\"1\" class=\"dataframe\">\n",
       "  <thead>\n",
       "    <tr style=\"text-align: right;\">\n",
       "      <th></th>\n",
       "      <th>Accuracy_mean</th>\n",
       "      <th>Precision</th>\n",
       "      <th>Recall</th>\n",
       "      <th>F1_score</th>\n",
       "    </tr>\n",
       "  </thead>\n",
       "  <tbody>\n",
       "    <tr>\n",
       "      <th>Logistic Regression</th>\n",
       "      <td>0.515322</td>\n",
       "      <td>0.504781</td>\n",
       "      <td>0.515322</td>\n",
       "      <td>0.507123</td>\n",
       "    </tr>\n",
       "    <tr>\n",
       "      <th>SVM</th>\n",
       "      <td>0.51157</td>\n",
       "      <td>0.499169</td>\n",
       "      <td>0.51157</td>\n",
       "      <td>0.503065</td>\n",
       "    </tr>\n",
       "    <tr>\n",
       "      <th>Decision Tree</th>\n",
       "      <td>0.524078</td>\n",
       "      <td>0.535061</td>\n",
       "      <td>0.524078</td>\n",
       "      <td>0.526976</td>\n",
       "    </tr>\n",
       "    <tr>\n",
       "      <th>Xgboost</th>\n",
       "      <td>0.581614</td>\n",
       "      <td>0.575091</td>\n",
       "      <td>0.581614</td>\n",
       "      <td>0.576703</td>\n",
       "    </tr>\n",
       "    <tr>\n",
       "      <th>Gradient Boosting Classifier</th>\n",
       "      <td>0.521576</td>\n",
       "      <td>0.517476</td>\n",
       "      <td>0.521576</td>\n",
       "      <td>0.518893</td>\n",
       "    </tr>\n",
       "    <tr>\n",
       "      <th>Neural Network</th>\n",
       "      <td>0.541588</td>\n",
       "      <td>0.535813</td>\n",
       "      <td>0.541588</td>\n",
       "      <td>0.53652</td>\n",
       "    </tr>\n",
       "  </tbody>\n",
       "</table>\n",
       "</div>"
      ],
      "text/plain": [
       "                             Accuracy_mean Precision    Recall  F1_score\n",
       "Logistic Regression               0.515322  0.504781  0.515322  0.507123\n",
       "SVM                                0.51157  0.499169   0.51157  0.503065\n",
       "Decision Tree                     0.524078  0.535061  0.524078  0.526976\n",
       "Xgboost                           0.581614  0.575091  0.581614  0.576703\n",
       "Gradient Boosting Classifier      0.521576  0.517476  0.521576  0.518893\n",
       "Neural Network                    0.541588  0.535813  0.541588   0.53652"
      ]
     },
     "execution_count": 285,
     "metadata": {},
     "output_type": "execute_result"
    }
   ],
   "source": [
    "fill_metrics('Xgboost', predictions_xg)"
   ]
  },
  {
   "cell_type": "markdown",
   "id": "b9cacab7",
   "metadata": {},
   "source": [
    "# Model Evaluation"
   ]
  },
  {
   "cell_type": "code",
   "execution_count": 109,
   "id": "8991d61a",
   "metadata": {},
   "outputs": [
    {
     "data": {
      "text/plain": [
       "array([[201,  68,  52,  82],\n",
       "       [ 76, 146,  87,  45],\n",
       "       [ 30,  78, 260,  48],\n",
       "       [ 73,  20,  10, 323]], dtype=int64)"
      ]
     },
     "execution_count": 109,
     "metadata": {},
     "output_type": "execute_result"
    }
   ],
   "source": [
    "from sklearn import metrics\n",
    "\n",
    "confusion_matrix = metrics.confusion_matrix(y_val, predictions)\n",
    "cm_display = metrics.ConfusionMatrixDisplay(confusion_matrix = confusion_matrix, \n",
    "                                            display_labels = ['A', 'B', 'C', 'D'])\n",
    "\n",
    "cm_display.plot()\n",
    "plt.show()"
   ]
  },
  {
   "cell_type": "code",
   "execution_count": 110,
   "id": "fbd883d0",
   "metadata": {},
   "outputs": [],
   "source": [
    "cm_display = metrics.ConfusionMatrixDisplay(confusion_matrix = confusion_matrix, display_labels = ['A', 'B', 'C', 'D'])"
   ]
  },
  {
   "cell_type": "code",
   "execution_count": 111,
   "id": "00fe1d16",
   "metadata": {},
   "outputs": [
    {
     "data": {
      "text/plain": [
       "array([1, 3, 1, ..., 0, 2, 3])"
      ]
     },
     "execution_count": 111,
     "metadata": {},
     "output_type": "execute_result"
    }
   ],
   "source": [
    "y_val"
   ]
  },
  {
   "cell_type": "code",
   "execution_count": 112,
   "id": "b3f4591f",
   "metadata": {},
   "outputs": [
    {
     "name": "stdout",
     "output_type": "stream",
     "text": [
      "[[  0 403]\n",
      " [  1 354]\n",
      " [  2 416]\n",
      " [  3 426]]\n"
     ]
    }
   ],
   "source": [
    "unique, counts = np.unique(y_val, return_counts=True)\n",
    "print(np.asarray((unique, counts)).T)"
   ]
  },
  {
   "cell_type": "code",
   "execution_count": 115,
   "id": "17fe8003",
   "metadata": {
    "scrolled": true
   },
   "outputs": [
    {
     "data": {
      "image/png": "[encoded data removed]",
      "text/plain": [
       "<Figure size 1440x576 with 2 Axes>"
      ]
     },
     "metadata": {
      "needs_background": "light"
     },
     "output_type": "display_data"
    }
   ],
   "source": [
    "cm_display.plot()\n",
    "plt.show()"
   ]
  },
  {
   "cell_type": "code",
   "execution_count": 114,
   "id": "a8ae02be",
   "metadata": {},
   "outputs": [
    {
     "name": "stdout",
     "output_type": "stream",
     "text": [
      "              precision    recall  f1-score   support\n",
      "\n",
      "           A       0.53      0.50      0.51       403\n",
      "           B       0.47      0.41      0.44       354\n",
      "           C       0.64      0.62      0.63       416\n",
      "           D       0.65      0.76      0.70       426\n",
      "\n",
      "    accuracy                           0.58      1599\n",
      "   macro avg       0.57      0.57      0.57      1599\n",
      "weighted avg       0.58      0.58      0.58      1599\n",
      "\n"
     ]
    }
   ],
   "source": [
    "from sklearn.metrics import classification_report\n",
    "label_names = ['A', 'B', 'C', 'D']\n",
    "print(classification_report(y_val, predictions, target_names = label_names))"
   ]
  }
 ],
 "metadata": {
  "kernelspec": {
   "display_name": "Python 3",
   "language": "python",
   "name": "python3"
  },
  "language_info": {
   "codemirror_mode": {
    "name": "ipython",
    "version": 3
   },
   "file_extension": ".py",
   "mimetype": "text/x-python",
   "name": "python",
   "nbconvert_exporter": "python",
   "pygments_lexer": "ipython3",
   "version": "3.8.8"
  }
 },
 "nbformat": 4,
 "nbformat_minor": 5
}
