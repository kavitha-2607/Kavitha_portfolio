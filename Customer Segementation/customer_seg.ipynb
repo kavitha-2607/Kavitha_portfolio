{
 "cells": [
  {
   "cell_type": "markdown",
   "id": "6b6d6353",
   "metadata": {},
   "source": [
    "# Importing packages"
   ]
  },
  {
   "cell_type": "code",
   "execution_count": 1,
   "id": "ee38cc3f",
   "metadata": {},
   "outputs": [],
   "source": [
    "import pandas as pd\n",
    "import numpy as np\n",
    "import seaborn as sns\n",
    "import matplotlib.pyplot as plt\n",
    "from sklearn.preprocessing import LabelEncoder\n",
    "from keras.utils import np_utils\n",
    "from sklearn.model_selection import train_test_split\n",
    "from sklearn.preprocessing import OneHotEncoder\n",
    "from sklearn.preprocessing import StandardScaler\n",
    "from sklearn.datasets import load_iris\n",
    "from scipy.special import softmax\n",
    "from sklearn.model_selection import train_test_split\n",
    "from sklearn import linear_model\n",
    "from sklearn.pipeline import Pipeline\n",
    "from sklearn import linear_model, decomposition, datasets\n",
    "from keras.utils import to_categorical\n",
    "from sklearn.metrics import classification_report\n",
    "import warnings\n",
    "warnings.filterwarnings(\"ignore\")\n"
   ]
  },
  {
   "cell_type": "markdown",
   "id": "b94cc6f5",
   "metadata": {},
   "source": [
    "# Getting the data"
   ]
  },
  {
   "cell_type": "code",
   "execution_count": 50,
   "id": "b666bd0a",
   "metadata": {},
   "outputs": [],
   "source": [
    "df = pd.read_csv(r\"E:\\Machine Learning Project\\archive (10)\\train.csv\")"
   ]
  },
  {
   "cell_type": "code",
   "execution_count": 51,
   "id": "8e82925a",
   "metadata": {
    "scrolled": true
   },
   "outputs": [
    {
     "data": {
      "text/plain": [
       "ID                   0\n",
       "Gender               0\n",
       "Ever_Married       140\n",
       "Age                  0\n",
       "Graduated           78\n",
       "Profession         124\n",
       "Work_Experience    829\n",
       "Spending_Score       0\n",
       "Family_Size        335\n",
       "Var_1               76\n",
       "Segmentation         0\n",
       "dtype: int64"
      ]
     },
     "execution_count": 51,
     "metadata": {},
     "output_type": "execute_result"
    }
   ],
   "source": [
    "df.isnull().sum()"
   ]
  },
  {
   "cell_type": "code",
   "execution_count": 52,
   "id": "73a0acb3",
   "metadata": {},
   "outputs": [
    {
     "name": "stdout",
     "output_type": "stream",
     "text": [
      "<class 'pandas.core.frame.DataFrame'>\n",
      "RangeIndex: 8068 entries, 0 to 8067\n",
      "Data columns (total 11 columns):\n",
      " #   Column           Non-Null Count  Dtype  \n",
      "---  ------           --------------  -----  \n",
      " 0   ID               8068 non-null   int64  \n",
      " 1   Gender           8068 non-null   object \n",
      " 2   Ever_Married     7928 non-null   object \n",
      " 3   Age              8068 non-null   int64  \n",
      " 4   Graduated        7990 non-null   object \n",
      " 5   Profession       7944 non-null   object \n",
      " 6   Work_Experience  7239 non-null   float64\n",
      " 7   Spending_Score   8068 non-null   object \n",
      " 8   Family_Size      7733 non-null   float64\n",
      " 9   Var_1            7992 non-null   object \n",
      " 10  Segmentation     8068 non-null   object \n",
      "dtypes: float64(2), int64(2), object(7)\n",
      "memory usage: 693.5+ KB\n"
     ]
    }
   ],
   "source": [
    "df.info()"
   ]
  },
  {
   "cell_type": "code",
   "execution_count": 53,
   "id": "4f0e3eac",
   "metadata": {},
   "outputs": [
    {
     "data": {
      "text/html": [
       "<div>\n",
       "<style scoped>\n",
       "    .dataframe tbody tr th:only-of-type {\n",
       "        vertical-align: middle;\n",
       "    }\n",
       "\n",
       "    .dataframe tbody tr th {\n",
       "        vertical-align: top;\n",
       "    }\n",
       "\n",
       "    .dataframe thead th {\n",
       "        text-align: right;\n",
       "    }\n",
       "</style>\n",
       "<table border=\"1\" class=\"dataframe\">\n",
       "  <thead>\n",
       "    <tr style=\"text-align: right;\">\n",
       "      <th></th>\n",
       "      <th>count</th>\n",
       "      <th>mean</th>\n",
       "      <th>std</th>\n",
       "      <th>min</th>\n",
       "      <th>25%</th>\n",
       "      <th>50%</th>\n",
       "      <th>75%</th>\n",
       "      <th>max</th>\n",
       "    </tr>\n",
       "  </thead>\n",
       "  <tbody>\n",
       "    <tr>\n",
       "      <th>ID</th>\n",
       "      <td>8068.0</td>\n",
       "      <td>463479.214551</td>\n",
       "      <td>2595.381232</td>\n",
       "      <td>458982.0</td>\n",
       "      <td>461240.75</td>\n",
       "      <td>463472.5</td>\n",
       "      <td>465744.25</td>\n",
       "      <td>467974.0</td>\n",
       "    </tr>\n",
       "    <tr>\n",
       "      <th>Age</th>\n",
       "      <td>8068.0</td>\n",
       "      <td>43.466906</td>\n",
       "      <td>16.711696</td>\n",
       "      <td>18.0</td>\n",
       "      <td>30.00</td>\n",
       "      <td>40.0</td>\n",
       "      <td>53.00</td>\n",
       "      <td>89.0</td>\n",
       "    </tr>\n",
       "    <tr>\n",
       "      <th>Work_Experience</th>\n",
       "      <td>7239.0</td>\n",
       "      <td>2.641663</td>\n",
       "      <td>3.406763</td>\n",
       "      <td>0.0</td>\n",
       "      <td>0.00</td>\n",
       "      <td>1.0</td>\n",
       "      <td>4.00</td>\n",
       "      <td>14.0</td>\n",
       "    </tr>\n",
       "    <tr>\n",
       "      <th>Family_Size</th>\n",
       "      <td>7733.0</td>\n",
       "      <td>2.850123</td>\n",
       "      <td>1.531413</td>\n",
       "      <td>1.0</td>\n",
       "      <td>2.00</td>\n",
       "      <td>3.0</td>\n",
       "      <td>4.00</td>\n",
       "      <td>9.0</td>\n",
       "    </tr>\n",
       "  </tbody>\n",
       "</table>\n",
       "</div>"
      ],
      "text/plain": [
       "                  count           mean          std       min        25%  \\\n",
       "ID               8068.0  463479.214551  2595.381232  458982.0  461240.75   \n",
       "Age              8068.0      43.466906    16.711696      18.0      30.00   \n",
       "Work_Experience  7239.0       2.641663     3.406763       0.0       0.00   \n",
       "Family_Size      7733.0       2.850123     1.531413       1.0       2.00   \n",
       "\n",
       "                      50%        75%       max  \n",
       "ID               463472.5  465744.25  467974.0  \n",
       "Age                  40.0      53.00      89.0  \n",
       "Work_Experience       1.0       4.00      14.0  \n",
       "Family_Size           3.0       4.00       9.0  "
      ]
     },
     "execution_count": 53,
     "metadata": {},
     "output_type": "execute_result"
    }
   ],
   "source": [
    "df.describe().T"
   ]
  },
  {
   "cell_type": "code",
   "execution_count": 54,
   "id": "0f6ebd12",
   "metadata": {},
   "outputs": [],
   "source": [
    "df_copy = df.copy()"
   ]
  },
  {
   "cell_type": "code",
   "execution_count": 55,
   "id": "b87e87dc",
   "metadata": {},
   "outputs": [
    {
     "data": {
      "text/html": [
       "<div>\n",
       "<style scoped>\n",
       "    .dataframe tbody tr th:only-of-type {\n",
       "        vertical-align: middle;\n",
       "    }\n",
       "\n",
       "    .dataframe tbody tr th {\n",
       "        vertical-align: top;\n",
       "    }\n",
       "\n",
       "    .dataframe thead th {\n",
       "        text-align: right;\n",
       "    }\n",
       "</style>\n",
       "<table border=\"1\" class=\"dataframe\">\n",
       "  <thead>\n",
       "    <tr style=\"text-align: right;\">\n",
       "      <th></th>\n",
       "      <th>ID</th>\n",
       "      <th>Gender</th>\n",
       "      <th>Ever_Married</th>\n",
       "      <th>Age</th>\n",
       "      <th>Graduated</th>\n",
       "      <th>Profession</th>\n",
       "      <th>Work_Experience</th>\n",
       "      <th>Spending_Score</th>\n",
       "      <th>Family_Size</th>\n",
       "      <th>Var_1</th>\n",
       "      <th>Segmentation</th>\n",
       "    </tr>\n",
       "  </thead>\n",
       "  <tbody>\n",
       "    <tr>\n",
       "      <th>0</th>\n",
       "      <td>462809</td>\n",
       "      <td>Male</td>\n",
       "      <td>No</td>\n",
       "      <td>22</td>\n",
       "      <td>No</td>\n",
       "      <td>Healthcare</td>\n",
       "      <td>1.0</td>\n",
       "      <td>Low</td>\n",
       "      <td>4.0</td>\n",
       "      <td>Cat_4</td>\n",
       "      <td>D</td>\n",
       "    </tr>\n",
       "    <tr>\n",
       "      <th>1</th>\n",
       "      <td>462643</td>\n",
       "      <td>Female</td>\n",
       "      <td>Yes</td>\n",
       "      <td>38</td>\n",
       "      <td>Yes</td>\n",
       "      <td>Engineer</td>\n",
       "      <td>NaN</td>\n",
       "      <td>Average</td>\n",
       "      <td>3.0</td>\n",
       "      <td>Cat_4</td>\n",
       "      <td>A</td>\n",
       "    </tr>\n",
       "    <tr>\n",
       "      <th>2</th>\n",
       "      <td>466315</td>\n",
       "      <td>Female</td>\n",
       "      <td>Yes</td>\n",
       "      <td>67</td>\n",
       "      <td>Yes</td>\n",
       "      <td>Engineer</td>\n",
       "      <td>1.0</td>\n",
       "      <td>Low</td>\n",
       "      <td>1.0</td>\n",
       "      <td>Cat_6</td>\n",
       "      <td>B</td>\n",
       "    </tr>\n",
       "    <tr>\n",
       "      <th>3</th>\n",
       "      <td>461735</td>\n",
       "      <td>Male</td>\n",
       "      <td>Yes</td>\n",
       "      <td>67</td>\n",
       "      <td>Yes</td>\n",
       "      <td>Lawyer</td>\n",
       "      <td>0.0</td>\n",
       "      <td>High</td>\n",
       "      <td>2.0</td>\n",
       "      <td>Cat_6</td>\n",
       "      <td>B</td>\n",
       "    </tr>\n",
       "    <tr>\n",
       "      <th>4</th>\n",
       "      <td>462669</td>\n",
       "      <td>Female</td>\n",
       "      <td>Yes</td>\n",
       "      <td>40</td>\n",
       "      <td>Yes</td>\n",
       "      <td>Entertainment</td>\n",
       "      <td>NaN</td>\n",
       "      <td>High</td>\n",
       "      <td>6.0</td>\n",
       "      <td>Cat_6</td>\n",
       "      <td>A</td>\n",
       "    </tr>\n",
       "  </tbody>\n",
       "</table>\n",
       "</div>"
      ],
      "text/plain": [
       "       ID  Gender Ever_Married  Age Graduated     Profession  Work_Experience  \\\n",
       "0  462809    Male           No   22        No     Healthcare              1.0   \n",
       "1  462643  Female          Yes   38       Yes       Engineer              NaN   \n",
       "2  466315  Female          Yes   67       Yes       Engineer              1.0   \n",
       "3  461735    Male          Yes   67       Yes         Lawyer              0.0   \n",
       "4  462669  Female          Yes   40       Yes  Entertainment              NaN   \n",
       "\n",
       "  Spending_Score  Family_Size  Var_1 Segmentation  \n",
       "0            Low          4.0  Cat_4            D  \n",
       "1        Average          3.0  Cat_4            A  \n",
       "2            Low          1.0  Cat_6            B  \n",
       "3           High          2.0  Cat_6            B  \n",
       "4           High          6.0  Cat_6            A  "
      ]
     },
     "execution_count": 55,
     "metadata": {},
     "output_type": "execute_result"
    }
   ],
   "source": [
    "df_copy.head()"
   ]
  },
  {
   "cell_type": "code",
   "execution_count": 7,
   "id": "b454aa28",
   "metadata": {},
   "outputs": [
    {
     "data": {
      "text/plain": [
       "ID                   0\n",
       "Gender               0\n",
       "Ever_Married       140\n",
       "Age                  0\n",
       "Graduated           78\n",
       "Profession         124\n",
       "Work_Experience    829\n",
       "Spending_Score       0\n",
       "Family_Size        335\n",
       "Var_1               76\n",
       "Segmentation         0\n",
       "dtype: int64"
      ]
     },
     "execution_count": 7,
     "metadata": {},
     "output_type": "execute_result"
    }
   ],
   "source": [
    "df_copy.isnull().sum()"
   ]
  },
  {
   "cell_type": "code",
   "execution_count": 8,
   "id": "9dd4cb7d",
   "metadata": {},
   "outputs": [
    {
     "data": {
      "text/plain": [
       "ID                   0\n",
       "Gender               0\n",
       "Ever_Married       140\n",
       "Age                  0\n",
       "Graduated           78\n",
       "Profession         124\n",
       "Work_Experience    829\n",
       "Spending_Score       0\n",
       "Family_Size        335\n",
       "Var_1               76\n",
       "Segmentation         0\n",
       "dtype: int64"
      ]
     },
     "execution_count": 8,
     "metadata": {},
     "output_type": "execute_result"
    }
   ],
   "source": [
    "df_copy.isnull().sum()"
   ]
  },
  {
   "cell_type": "code",
   "execution_count": 9,
   "id": "e8bfecb1",
   "metadata": {},
   "outputs": [
    {
     "data": {
      "text/plain": [
       "Artist           2516\n",
       "Healthcare       1332\n",
       "Entertainment     949\n",
       "Engineer          699\n",
       "Doctor            688\n",
       "Lawyer            623\n",
       "Executive         599\n",
       "Marketing         292\n",
       "Homemaker         246\n",
       "Name: Profession, dtype: int64"
      ]
     },
     "execution_count": 9,
     "metadata": {},
     "output_type": "execute_result"
    }
   ],
   "source": [
    "df_copy['Profession'].value_counts()"
   ]
  },
  {
   "cell_type": "code",
   "execution_count": 10,
   "id": "dc34584d",
   "metadata": {},
   "outputs": [],
   "source": [
    "bins = [15, 24, 38, 50, 65, 90]\n",
    "age_bins = pd.cut(df['Age'], bins)\n",
    "df_copy['Age_bins'] = age_bins\n"
   ]
  },
  {
   "cell_type": "code",
   "execution_count": 11,
   "id": "310d8f56",
   "metadata": {},
   "outputs": [
    {
     "data": {
      "text/plain": [
       "ID                    int64\n",
       "Gender               object\n",
       "Ever_Married         object\n",
       "Age                   int64\n",
       "Graduated            object\n",
       "Profession           object\n",
       "Work_Experience     float64\n",
       "Spending_Score       object\n",
       "Family_Size         float64\n",
       "Var_1                object\n",
       "Segmentation         object\n",
       "Age_bins           category\n",
       "dtype: object"
      ]
     },
     "execution_count": 11,
     "metadata": {},
     "output_type": "execute_result"
    }
   ],
   "source": [
    "df_copy.dtypes"
   ]
  },
  {
   "cell_type": "code",
   "execution_count": 12,
   "id": "ba0efccc",
   "metadata": {},
   "outputs": [
    {
     "data": {
      "text/plain": [
       "<AxesSubplot:ylabel='Density'>"
      ]
     },
     "execution_count": 12,
     "metadata": {},
     "output_type": "execute_result"
    },
    {
     "data": {
      "image/png": "[encoded data removed]",
      "text/plain": [
       "<Figure size 432x288 with 1 Axes>"
      ]
     },
     "metadata": {
      "needs_background": "light"
     },
     "output_type": "display_data"
    }
   ],
   "source": [
    "df_copy['Work_Experience'].plot.density()"
   ]
  },
  {
   "cell_type": "code",
   "execution_count": 13,
   "id": "d510ba19",
   "metadata": {},
   "outputs": [
    {
     "data": {
      "text/plain": [
       "<AxesSubplot:ylabel='Density'>"
      ]
     },
     "execution_count": 13,
     "metadata": {},
     "output_type": "execute_result"
    },
    {
     "data": {
      "image/png": "[encoded data removed]",
      "text/plain": [
       "<Figure size 432x288 with 1 Axes>"
      ]
     },
     "metadata": {
      "needs_background": "light"
     },
     "output_type": "display_data"
    }
   ],
   "source": [
    "df_copy['Family_Size'].plot.density()"
   ]
  },
  {
   "cell_type": "code",
   "execution_count": 14,
   "id": "3722f8c5",
   "metadata": {},
   "outputs": [
    {
     "data": {
      "text/plain": [
       "<seaborn.axisgrid.FacetGrid at 0x242902e5640>"
      ]
     },
     "execution_count": 14,
     "metadata": {},
     "output_type": "execute_result"
    },
    {
     "data": {
      "image/png": "[encoded data removed]",
      "text/plain": [
       "<Figure size 360x360 with 1 Axes>"
      ]
     },
     "metadata": {
      "needs_background": "light"
     },
     "output_type": "display_data"
    }
   ],
   "source": [
    "sns.displot(df_copy['Family_Size'])\n"
   ]
  },
  {
   "cell_type": "code",
   "execution_count": 15,
   "id": "64bb0506",
   "metadata": {},
   "outputs": [
    {
     "data": {
      "image/png": "[encoded data removed]",
      "text/plain": [
       "<Figure size 1080x504 with 1 Axes>"
      ]
     },
     "metadata": {
      "needs_background": "light"
     },
     "output_type": "display_data"
    }
   ],
   "source": [
    "plt.rcParams['figure.figsize'] = [15,7]\n",
    "plt.rcParams.update({'font.size': 20})\n",
    "\n",
    "sns.violinplot(df_copy['Family_Size'])\n",
    "plt.ylabel('Family_Size')\n",
    "plt.show()"
   ]
  },
  {
   "cell_type": "code",
   "execution_count": 16,
   "id": "fdd27e63",
   "metadata": {},
   "outputs": [
    {
     "data": {
      "image/png": "[encoded data removed]",
      "text/plain": [
       "<Figure size 1080x504 with 1 Axes>"
      ]
     },
     "metadata": {
      "needs_background": "light"
     },
     "output_type": "display_data"
    }
   ],
   "source": [
    "plt.rcParams['figure.figsize'] = [15,7]\n",
    "plt.rcParams.update({'font.size': 20})\n",
    "\n",
    "sns.violinplot(df_copy['Work_Experience'])\n",
    "plt.ylabel('Work_Experience')\n",
    "plt.show()"
   ]
  },
  {
   "cell_type": "code",
   "execution_count": 17,
   "id": "0df37420",
   "metadata": {},
   "outputs": [
    {
     "data": {
      "image/png": "[encoded data removed]",
      "text/plain": [
       "<Figure size 1080x504 with 1 Axes>"
      ]
     },
     "metadata": {
      "needs_background": "light"
     },
     "output_type": "display_data"
    }
   ],
   "source": [
    "plt.rcParams['figure.figsize'] = [15,7]\n",
    "plt.rcParams.update({'font.size': 20})\n",
    "\n",
    "sns.violinplot(df_copy['Age'])\n",
    "plt.ylabel('Age')\n",
    "plt.show()"
   ]
  },
  {
   "cell_type": "code",
   "execution_count": 18,
   "id": "bde75684",
   "metadata": {},
   "outputs": [],
   "source": [
    "size = int(0.8 * len(df_copy))\n",
    "df_copy_tr, df_copy_test = df_copy[: size], df_copy[size :]"
   ]
  },
  {
   "cell_type": "code",
   "execution_count": 19,
   "id": "354d89fa",
   "metadata": {},
   "outputs": [
    {
     "data": {
      "text/plain": [
       "Segmentation        \n",
       "A             Gender    0.539047\n",
       "B             Gender    0.536598\n",
       "C             Gender    0.531980\n",
       "D             Gender    0.577160\n",
       "Name: Male, dtype: float64"
      ]
     },
     "execution_count": 19,
     "metadata": {},
     "output_type": "execute_result"
    }
   ],
   "source": [
    "df_gender = pd.DataFrame(df_copy.groupby('Segmentation')['Gender'].value_counts(normalize = True))\n",
    "df_gender.stack().unstack(level = 1)['Male']"
   ]
  },
  {
   "cell_type": "markdown",
   "id": "9904c468",
   "metadata": {},
   "source": [
    "# Exploratory Data Analysis"
   ]
  },
  {
   "cell_type": "code",
   "execution_count": 20,
   "id": "55a2aa12",
   "metadata": {
    "scrolled": false
   },
   "outputs": [
    {
     "data": {
      "image/png": "[encoded data removed]",
      "text/plain": [
       "<Figure size 1440x720 with 1 Axes>"
      ]
     },
     "metadata": {
      "needs_background": "light"
     },
     "output_type": "display_data"
    }
   ],
   "source": [
    "plt.rcParams['figure.figsize'] = [20,10]\n",
    "plt.rcParams.update({'font.size': 20})\n",
    "df_gender = pd.DataFrame(df_copy.groupby('Segmentation')['Gender'].value_counts(normalize = True))\n",
    "n = 4\n",
    "r = np.arange(n)\n",
    "width = 0.2\n",
    "plt.bar(r, df_gender.stack().unstack(level = 1)['Female']\n",
    ", color = 'b',\n",
    "        width = width, edgecolor = 'black',\n",
    "        label='Women')\n",
    "plt.bar(r + width, df_gender.stack().unstack(level = 1)['Male'], color = 'g',\n",
    "        width = width, edgecolor = 'black',\n",
    "        label='Men')\n",
    "  \n",
    "plt.xlabel(\"Segmentation\")\n",
    "plt.ylabel(\"Gender count\")\n",
    "plt.title(\"Gender representation in each Segmentation\")\n",
    "  \n",
    "# plt.grid(linestyle='--')\n",
    "plt.xticks(r + width/2,['A','B','C','D'])\n",
    "plt.legend(loc = 'upper left')\n",
    "  \n",
    "plt.show()"
   ]
  },
  {
   "cell_type": "code",
   "execution_count": 21,
   "id": "ac8020c4",
   "metadata": {},
   "outputs": [
    {
     "data": {
      "text/html": [
       "<div>\n",
       "<style scoped>\n",
       "    .dataframe tbody tr th:only-of-type {\n",
       "        vertical-align: middle;\n",
       "    }\n",
       "\n",
       "    .dataframe tbody tr th {\n",
       "        vertical-align: top;\n",
       "    }\n",
       "\n",
       "    .dataframe thead th {\n",
       "        text-align: right;\n",
       "    }\n",
       "</style>\n",
       "<table border=\"1\" class=\"dataframe\">\n",
       "  <thead>\n",
       "    <tr style=\"text-align: right;\">\n",
       "      <th></th>\n",
       "      <th>ID</th>\n",
       "      <th>Gender</th>\n",
       "      <th>Ever_Married</th>\n",
       "      <th>Age</th>\n",
       "      <th>Graduated</th>\n",
       "      <th>Profession</th>\n",
       "      <th>Work_Experience</th>\n",
       "      <th>Spending_Score</th>\n",
       "      <th>Family_Size</th>\n",
       "      <th>Var_1</th>\n",
       "      <th>Segmentation</th>\n",
       "      <th>Age_bins</th>\n",
       "    </tr>\n",
       "  </thead>\n",
       "  <tbody>\n",
       "    <tr>\n",
       "      <th>0</th>\n",
       "      <td>462809</td>\n",
       "      <td>Male</td>\n",
       "      <td>No</td>\n",
       "      <td>22</td>\n",
       "      <td>No</td>\n",
       "      <td>Healthcare</td>\n",
       "      <td>1.0</td>\n",
       "      <td>Low</td>\n",
       "      <td>4.0</td>\n",
       "      <td>Cat_4</td>\n",
       "      <td>D</td>\n",
       "      <td>(15, 24]</td>\n",
       "    </tr>\n",
       "    <tr>\n",
       "      <th>1</th>\n",
       "      <td>462643</td>\n",
       "      <td>Female</td>\n",
       "      <td>Yes</td>\n",
       "      <td>38</td>\n",
       "      <td>Yes</td>\n",
       "      <td>Engineer</td>\n",
       "      <td>NaN</td>\n",
       "      <td>Average</td>\n",
       "      <td>3.0</td>\n",
       "      <td>Cat_4</td>\n",
       "      <td>A</td>\n",
       "      <td>(24, 38]</td>\n",
       "    </tr>\n",
       "    <tr>\n",
       "      <th>2</th>\n",
       "      <td>466315</td>\n",
       "      <td>Female</td>\n",
       "      <td>Yes</td>\n",
       "      <td>67</td>\n",
       "      <td>Yes</td>\n",
       "      <td>Engineer</td>\n",
       "      <td>1.0</td>\n",
       "      <td>Low</td>\n",
       "      <td>1.0</td>\n",
       "      <td>Cat_6</td>\n",
       "      <td>B</td>\n",
       "      <td>(65, 90]</td>\n",
       "    </tr>\n",
       "    <tr>\n",
       "      <th>3</th>\n",
       "      <td>461735</td>\n",
       "      <td>Male</td>\n",
       "      <td>Yes</td>\n",
       "      <td>67</td>\n",
       "      <td>Yes</td>\n",
       "      <td>Lawyer</td>\n",
       "      <td>0.0</td>\n",
       "      <td>High</td>\n",
       "      <td>2.0</td>\n",
       "      <td>Cat_6</td>\n",
       "      <td>B</td>\n",
       "      <td>(65, 90]</td>\n",
       "    </tr>\n",
       "    <tr>\n",
       "      <th>4</th>\n",
       "      <td>462669</td>\n",
       "      <td>Female</td>\n",
       "      <td>Yes</td>\n",
       "      <td>40</td>\n",
       "      <td>Yes</td>\n",
       "      <td>Entertainment</td>\n",
       "      <td>NaN</td>\n",
       "      <td>High</td>\n",
       "      <td>6.0</td>\n",
       "      <td>Cat_6</td>\n",
       "      <td>A</td>\n",
       "      <td>(38, 50]</td>\n",
       "    </tr>\n",
       "    <tr>\n",
       "      <th>...</th>\n",
       "      <td>...</td>\n",
       "      <td>...</td>\n",
       "      <td>...</td>\n",
       "      <td>...</td>\n",
       "      <td>...</td>\n",
       "      <td>...</td>\n",
       "      <td>...</td>\n",
       "      <td>...</td>\n",
       "      <td>...</td>\n",
       "      <td>...</td>\n",
       "      <td>...</td>\n",
       "      <td>...</td>\n",
       "    </tr>\n",
       "    <tr>\n",
       "      <th>8063</th>\n",
       "      <td>464018</td>\n",
       "      <td>Male</td>\n",
       "      <td>No</td>\n",
       "      <td>22</td>\n",
       "      <td>No</td>\n",
       "      <td>NaN</td>\n",
       "      <td>0.0</td>\n",
       "      <td>Low</td>\n",
       "      <td>7.0</td>\n",
       "      <td>Cat_1</td>\n",
       "      <td>D</td>\n",
       "      <td>(15, 24]</td>\n",
       "    </tr>\n",
       "    <tr>\n",
       "      <th>8064</th>\n",
       "      <td>464685</td>\n",
       "      <td>Male</td>\n",
       "      <td>No</td>\n",
       "      <td>35</td>\n",
       "      <td>No</td>\n",
       "      <td>Executive</td>\n",
       "      <td>3.0</td>\n",
       "      <td>Low</td>\n",
       "      <td>4.0</td>\n",
       "      <td>Cat_4</td>\n",
       "      <td>D</td>\n",
       "      <td>(24, 38]</td>\n",
       "    </tr>\n",
       "    <tr>\n",
       "      <th>8065</th>\n",
       "      <td>465406</td>\n",
       "      <td>Female</td>\n",
       "      <td>No</td>\n",
       "      <td>33</td>\n",
       "      <td>Yes</td>\n",
       "      <td>Healthcare</td>\n",
       "      <td>1.0</td>\n",
       "      <td>Low</td>\n",
       "      <td>1.0</td>\n",
       "      <td>Cat_6</td>\n",
       "      <td>D</td>\n",
       "      <td>(24, 38]</td>\n",
       "    </tr>\n",
       "    <tr>\n",
       "      <th>8066</th>\n",
       "      <td>467299</td>\n",
       "      <td>Female</td>\n",
       "      <td>No</td>\n",
       "      <td>27</td>\n",
       "      <td>Yes</td>\n",
       "      <td>Healthcare</td>\n",
       "      <td>1.0</td>\n",
       "      <td>Low</td>\n",
       "      <td>4.0</td>\n",
       "      <td>Cat_6</td>\n",
       "      <td>B</td>\n",
       "      <td>(24, 38]</td>\n",
       "    </tr>\n",
       "    <tr>\n",
       "      <th>8067</th>\n",
       "      <td>461879</td>\n",
       "      <td>Male</td>\n",
       "      <td>Yes</td>\n",
       "      <td>37</td>\n",
       "      <td>Yes</td>\n",
       "      <td>Executive</td>\n",
       "      <td>0.0</td>\n",
       "      <td>Average</td>\n",
       "      <td>3.0</td>\n",
       "      <td>Cat_4</td>\n",
       "      <td>B</td>\n",
       "      <td>(24, 38]</td>\n",
       "    </tr>\n",
       "  </tbody>\n",
       "</table>\n",
       "<p>8068 rows × 12 columns</p>\n",
       "</div>"
      ],
      "text/plain": [
       "          ID  Gender Ever_Married  Age Graduated     Profession  \\\n",
       "0     462809    Male           No   22        No     Healthcare   \n",
       "1     462643  Female          Yes   38       Yes       Engineer   \n",
       "2     466315  Female          Yes   67       Yes       Engineer   \n",
       "3     461735    Male          Yes   67       Yes         Lawyer   \n",
       "4     462669  Female          Yes   40       Yes  Entertainment   \n",
       "...      ...     ...          ...  ...       ...            ...   \n",
       "8063  464018    Male           No   22        No            NaN   \n",
       "8064  464685    Male           No   35        No      Executive   \n",
       "8065  465406  Female           No   33       Yes     Healthcare   \n",
       "8066  467299  Female           No   27       Yes     Healthcare   \n",
       "8067  461879    Male          Yes   37       Yes      Executive   \n",
       "\n",
       "      Work_Experience Spending_Score  Family_Size  Var_1 Segmentation  \\\n",
       "0                 1.0            Low          4.0  Cat_4            D   \n",
       "1                 NaN        Average          3.0  Cat_4            A   \n",
       "2                 1.0            Low          1.0  Cat_6            B   \n",
       "3                 0.0           High          2.0  Cat_6            B   \n",
       "4                 NaN           High          6.0  Cat_6            A   \n",
       "...               ...            ...          ...    ...          ...   \n",
       "8063              0.0            Low          7.0  Cat_1            D   \n",
       "8064              3.0            Low          4.0  Cat_4            D   \n",
       "8065              1.0            Low          1.0  Cat_6            D   \n",
       "8066              1.0            Low          4.0  Cat_6            B   \n",
       "8067              0.0        Average          3.0  Cat_4            B   \n",
       "\n",
       "      Age_bins  \n",
       "0     (15, 24]  \n",
       "1     (24, 38]  \n",
       "2     (65, 90]  \n",
       "3     (65, 90]  \n",
       "4     (38, 50]  \n",
       "...        ...  \n",
       "8063  (15, 24]  \n",
       "8064  (24, 38]  \n",
       "8065  (24, 38]  \n",
       "8066  (24, 38]  \n",
       "8067  (24, 38]  \n",
       "\n",
       "[8068 rows x 12 columns]"
      ]
     },
     "execution_count": 21,
     "metadata": {},
     "output_type": "execute_result"
    }
   ],
   "source": [
    "df_copy"
   ]
  },
  {
   "cell_type": "code",
   "execution_count": 22,
   "id": "90248d9f",
   "metadata": {},
   "outputs": [
    {
     "data": {
      "text/plain": [
       "ID                   0\n",
       "Gender               0\n",
       "Ever_Married       140\n",
       "Age                  0\n",
       "Graduated           78\n",
       "Profession         124\n",
       "Work_Experience    829\n",
       "Spending_Score       0\n",
       "Family_Size        335\n",
       "Var_1               76\n",
       "Segmentation         0\n",
       "Age_bins             0\n",
       "dtype: int64"
      ]
     },
     "execution_count": 22,
     "metadata": {},
     "output_type": "execute_result"
    }
   ],
   "source": [
    "df_copy.isnull().sum()"
   ]
  },
  {
   "cell_type": "code",
   "execution_count": 23,
   "id": "26827952",
   "metadata": {},
   "outputs": [
    {
     "data": {
      "text/html": [
       "<div>\n",
       "<style scoped>\n",
       "    .dataframe tbody tr th:only-of-type {\n",
       "        vertical-align: middle;\n",
       "    }\n",
       "\n",
       "    .dataframe tbody tr th {\n",
       "        vertical-align: top;\n",
       "    }\n",
       "\n",
       "    .dataframe thead th {\n",
       "        text-align: right;\n",
       "    }\n",
       "</style>\n",
       "<table border=\"1\" class=\"dataframe\">\n",
       "  <thead>\n",
       "    <tr style=\"text-align: right;\">\n",
       "      <th></th>\n",
       "      <th>ID</th>\n",
       "      <th>Gender</th>\n",
       "      <th>Ever_Married</th>\n",
       "      <th>Age</th>\n",
       "      <th>Graduated</th>\n",
       "      <th>Profession</th>\n",
       "      <th>Work_Experience</th>\n",
       "      <th>Spending_Score</th>\n",
       "      <th>Family_Size</th>\n",
       "      <th>Var_1</th>\n",
       "      <th>Segmentation</th>\n",
       "      <th>Age_bins</th>\n",
       "    </tr>\n",
       "  </thead>\n",
       "  <tbody>\n",
       "    <tr>\n",
       "      <th>0</th>\n",
       "      <td>462809</td>\n",
       "      <td>Male</td>\n",
       "      <td>No</td>\n",
       "      <td>22</td>\n",
       "      <td>No</td>\n",
       "      <td>Healthcare</td>\n",
       "      <td>1.0</td>\n",
       "      <td>Low</td>\n",
       "      <td>4.0</td>\n",
       "      <td>Cat_4</td>\n",
       "      <td>D</td>\n",
       "      <td>(15, 24]</td>\n",
       "    </tr>\n",
       "    <tr>\n",
       "      <th>1</th>\n",
       "      <td>462643</td>\n",
       "      <td>Female</td>\n",
       "      <td>Yes</td>\n",
       "      <td>38</td>\n",
       "      <td>Yes</td>\n",
       "      <td>Engineer</td>\n",
       "      <td>NaN</td>\n",
       "      <td>Average</td>\n",
       "      <td>3.0</td>\n",
       "      <td>Cat_4</td>\n",
       "      <td>A</td>\n",
       "      <td>(24, 38]</td>\n",
       "    </tr>\n",
       "    <tr>\n",
       "      <th>2</th>\n",
       "      <td>466315</td>\n",
       "      <td>Female</td>\n",
       "      <td>Yes</td>\n",
       "      <td>67</td>\n",
       "      <td>Yes</td>\n",
       "      <td>Engineer</td>\n",
       "      <td>1.0</td>\n",
       "      <td>Low</td>\n",
       "      <td>1.0</td>\n",
       "      <td>Cat_6</td>\n",
       "      <td>B</td>\n",
       "      <td>(65, 90]</td>\n",
       "    </tr>\n",
       "    <tr>\n",
       "      <th>3</th>\n",
       "      <td>461735</td>\n",
       "      <td>Male</td>\n",
       "      <td>Yes</td>\n",
       "      <td>67</td>\n",
       "      <td>Yes</td>\n",
       "      <td>Lawyer</td>\n",
       "      <td>0.0</td>\n",
       "      <td>High</td>\n",
       "      <td>2.0</td>\n",
       "      <td>Cat_6</td>\n",
       "      <td>B</td>\n",
       "      <td>(65, 90]</td>\n",
       "    </tr>\n",
       "    <tr>\n",
       "      <th>4</th>\n",
       "      <td>462669</td>\n",
       "      <td>Female</td>\n",
       "      <td>Yes</td>\n",
       "      <td>40</td>\n",
       "      <td>Yes</td>\n",
       "      <td>Entertainment</td>\n",
       "      <td>NaN</td>\n",
       "      <td>High</td>\n",
       "      <td>6.0</td>\n",
       "      <td>Cat_6</td>\n",
       "      <td>A</td>\n",
       "      <td>(38, 50]</td>\n",
       "    </tr>\n",
       "  </tbody>\n",
       "</table>\n",
       "</div>"
      ],
      "text/plain": [
       "       ID  Gender Ever_Married  Age Graduated     Profession  Work_Experience  \\\n",
       "0  462809    Male           No   22        No     Healthcare              1.0   \n",
       "1  462643  Female          Yes   38       Yes       Engineer              NaN   \n",
       "2  466315  Female          Yes   67       Yes       Engineer              1.0   \n",
       "3  461735    Male          Yes   67       Yes         Lawyer              0.0   \n",
       "4  462669  Female          Yes   40       Yes  Entertainment              NaN   \n",
       "\n",
       "  Spending_Score  Family_Size  Var_1 Segmentation  Age_bins  \n",
       "0            Low          4.0  Cat_4            D  (15, 24]  \n",
       "1        Average          3.0  Cat_4            A  (24, 38]  \n",
       "2            Low          1.0  Cat_6            B  (65, 90]  \n",
       "3           High          2.0  Cat_6            B  (65, 90]  \n",
       "4           High          6.0  Cat_6            A  (38, 50]  "
      ]
     },
     "execution_count": 23,
     "metadata": {},
     "output_type": "execute_result"
    }
   ],
   "source": [
    "df_copy.head()"
   ]
  },
  {
   "cell_type": "code",
   "execution_count": 24,
   "id": "94bf0f82",
   "metadata": {},
   "outputs": [
    {
     "data": {
      "text/plain": [
       "ID                   0\n",
       "Gender               0\n",
       "Ever_Married       107\n",
       "Age                  0\n",
       "Graduated           60\n",
       "Profession          96\n",
       "Work_Experience    654\n",
       "Spending_Score       0\n",
       "Family_Size        264\n",
       "Var_1               57\n",
       "Segmentation         0\n",
       "Age_bins             0\n",
       "dtype: int64"
      ]
     },
     "execution_count": 24,
     "metadata": {},
     "output_type": "execute_result"
    }
   ],
   "source": [
    "df_copy_tr.isnull().sum()"
   ]
  },
  {
   "cell_type": "code",
   "execution_count": 25,
   "id": "26c5bc95",
   "metadata": {},
   "outputs": [
    {
     "data": {
      "text/plain": [
       "ID                   0\n",
       "Gender               0\n",
       "Ever_Married        33\n",
       "Age                  0\n",
       "Graduated           18\n",
       "Profession          28\n",
       "Work_Experience    175\n",
       "Spending_Score       0\n",
       "Family_Size         71\n",
       "Var_1               19\n",
       "Segmentation         0\n",
       "Age_bins             0\n",
       "dtype: int64"
      ]
     },
     "execution_count": 25,
     "metadata": {},
     "output_type": "execute_result"
    }
   ],
   "source": [
    "df_copy_test.isnull().sum()"
   ]
  },
  {
   "cell_type": "code",
   "execution_count": 26,
   "id": "204dcb03",
   "metadata": {},
   "outputs": [
    {
     "data": {
      "image/png": "[encoded data removed]",
      "text/plain": [
       "<Figure size 720x360 with 1 Axes>"
      ]
     },
     "metadata": {
      "needs_background": "light"
     },
     "output_type": "display_data"
    }
   ],
   "source": [
    "plt.rcParams['figure.figsize'] = [10, 5]\n",
    "plt.rcParams.update({'font.size': 11})\n",
    "df_evm = pd.DataFrame(df_copy.groupby('Segmentation')['Ever_Married'].value_counts(normalize = True))\n",
    "df_evm.stack().unstack(level= 1)\n",
    "\n",
    "n = 4\n",
    "r = np.arange(n)\n",
    "width = 0.2\n",
    "plt.bar(r, df_evm.stack().unstack(level= 1).loc[:,'No'], color = 'y',\n",
    "        width = width, edgecolor = 'black',\n",
    "        label='Not Married')\n",
    "plt.bar(r + width, df_evm.stack().unstack(level= 1).loc[:,'Yes'], color = 'm',\n",
    "        width = width, edgecolor = 'black',\n",
    "        label='Married')\n",
    "  \n",
    "plt.xlabel(\"Segmentation\")\n",
    "plt.ylabel(\"Count\")\n",
    "plt.title(\"Married vs Non Married in each Segmentation\")\n",
    "  \n",
    "# plt.grid(linestyle='--')\n",
    "plt.xticks(r + width/2,['A','B','C','D'])\n",
    "plt.legend()\n",
    "  \n",
    "plt.show()"
   ]
  },
  {
   "cell_type": "code",
   "execution_count": 27,
   "id": "a533435a",
   "metadata": {
    "scrolled": true
   },
   "outputs": [
    {
     "data": {
      "text/plain": [
       "Text(0.5, 1.0, 'Mean Age of each Segmentation group')"
      ]
     },
     "execution_count": 27,
     "metadata": {},
     "output_type": "execute_result"
    },
    {
     "data": {
      "image/png": "[encoded data removed]",
      "text/plain": [
       "<Figure size 720x360 with 1 Axes>"
      ]
     },
     "metadata": {
      "needs_background": "light"
     },
     "output_type": "display_data"
    }
   ],
   "source": [
    "plt.rcParams['figure.figsize'] = [10, 5]\n",
    "plt.rcParams.update({'font.size': 11})\n",
    "df_copy.groupby('Segmentation')['Age'].mean().plot(kind = 'bar', width = width)\n",
    "plt.ylabel('Average Age')\n",
    "plt.xlabel('Segmentation')\n",
    "plt.title(\"Mean Age of each Segmentation group\")"
   ]
  },
  {
   "cell_type": "code",
   "execution_count": 28,
   "id": "5a010bfc",
   "metadata": {},
   "outputs": [],
   "source": [
    "df_ab = pd.DataFrame(df_copy.groupby('Segmentation')['Age_bins'].value_counts(normalize = True).sort_index())"
   ]
  },
  {
   "cell_type": "code",
   "execution_count": 29,
   "id": "9dd2e62e",
   "metadata": {},
   "outputs": [],
   "source": [
    "df_ab = df_ab.stack().unstack(level = 1)"
   ]
  },
  {
   "cell_type": "code",
   "execution_count": 30,
   "id": "0f43da37",
   "metadata": {},
   "outputs": [
    {
     "data": {
      "image/png": "[encoded data removed]",
      "text/plain": [
       "<Figure size 1584x864 with 1 Axes>"
      ]
     },
     "metadata": {
      "needs_background": "light"
     },
     "output_type": "display_data"
    }
   ],
   "source": [
    "plt.rcParams['figure.figsize'] = [22, 12]\n",
    "plt.rcParams.update({'font.size': 20})\n",
    "df_ab.plot.bar()\n",
    "plt.title('Distribution of ages within each customer segment')\n",
    "plt.xlabel('Segmentation')\n",
    "plt.legend(loc = 'upper right')\n",
    "plt.show()"
   ]
  },
  {
   "cell_type": "code",
   "execution_count": 31,
   "id": "b122f156",
   "metadata": {},
   "outputs": [
    {
     "data": {
      "text/plain": [
       "Segmentation  Graduated\n",
       "A             Yes          1219\n",
       "              No            729\n",
       "B             Yes          1332\n",
       "              No            508\n",
       "C             Yes          1607\n",
       "              No            348\n",
       "D             No           1437\n",
       "              Yes           810\n",
       "Name: Graduated, dtype: int64"
      ]
     },
     "execution_count": 31,
     "metadata": {},
     "output_type": "execute_result"
    }
   ],
   "source": [
    "df_copy.groupby('Segmentation')['Graduated'].value_counts()\n"
   ]
  },
  {
   "cell_type": "code",
   "execution_count": 32,
   "id": "9e7249cb",
   "metadata": {},
   "outputs": [
    {
     "data": {
      "image/png": "[encoded data removed]",
      "text/plain": [
       "<Figure size 720x360 with 1 Axes>"
      ]
     },
     "metadata": {
      "needs_background": "light"
     },
     "output_type": "display_data"
    }
   ],
   "source": [
    "plt.rcParams['figure.figsize'] = [10, 5]\n",
    "plt.rcParams.update({'font.size': 11})\n",
    "\n",
    "n = 4\n",
    "r = np.arange(n)\n",
    "width = 0.2\n",
    "plt.bar(r, df_copy.groupby('Segmentation')['Graduated'].value_counts(normalize = True)[:,'No']\n",
    ", color = 'b',\n",
    "        width = width, edgecolor = 'black',\n",
    "        label='Not graduated')\n",
    "plt.bar(r + width, df_copy.groupby('Segmentation')['Graduated'].value_counts(normalize = True)[:,'Yes'], color = 'g',\n",
    "        width = width, edgecolor = 'black',\n",
    "        label='Graduated')\n",
    "  \n",
    "plt.xlabel(\"Segmentation\")\n",
    "plt.ylabel(\"Count\")\n",
    "plt.title(\"Graduated vs Non-graduated in each Segmentation group\")\n",
    "  \n",
    "# plt.grid(linestyle='--')\n",
    "plt.xticks(r + width/2,['A','B','C','D'])\n",
    "plt.legend()\n",
    "  \n",
    "plt.show()"
   ]
  },
  {
   "cell_type": "code",
   "execution_count": 33,
   "id": "437c462a",
   "metadata": {},
   "outputs": [
    {
     "data": {
      "text/plain": [
       "Artist           1996\n",
       "Healthcare       1076\n",
       "Entertainment     767\n",
       "Doctor            564\n",
       "Engineer          562\n",
       "Lawyer            506\n",
       "Executive         465\n",
       "Marketing         225\n",
       "Homemaker         197\n",
       "Name: Profession, dtype: int64"
      ]
     },
     "execution_count": 33,
     "metadata": {},
     "output_type": "execute_result"
    }
   ],
   "source": [
    "df_copy_tr['Profession'].value_counts()"
   ]
  },
  {
   "cell_type": "code",
   "execution_count": 34,
   "id": "7cbf7972",
   "metadata": {},
   "outputs": [
    {
     "data": {
      "text/plain": [
       "ID                   0\n",
       "Gender               0\n",
       "Ever_Married       107\n",
       "Age                  0\n",
       "Graduated           60\n",
       "Profession          96\n",
       "Work_Experience    654\n",
       "Spending_Score       0\n",
       "Family_Size        264\n",
       "Var_1               57\n",
       "Segmentation         0\n",
       "Age_bins             0\n",
       "dtype: int64"
      ]
     },
     "execution_count": 34,
     "metadata": {},
     "output_type": "execute_result"
    }
   ],
   "source": [
    "df_copy_tr.isnull().sum()"
   ]
  },
  {
   "cell_type": "code",
   "execution_count": 35,
   "id": "0f8e4bbb",
   "metadata": {},
   "outputs": [
    {
     "data": {
      "text/plain": [
       "Yes    3959\n",
       "No     2435\n",
       "Name: Graduated, dtype: int64"
      ]
     },
     "execution_count": 35,
     "metadata": {},
     "output_type": "execute_result"
    }
   ],
   "source": [
    "df_copy_tr['Graduated'].value_counts()"
   ]
  },
  {
   "cell_type": "code",
   "execution_count": 36,
   "id": "21bc5a11",
   "metadata": {},
   "outputs": [
    {
     "data": {
      "text/plain": [
       "Text(0.5, 1.0, 'Average Work Experience for each Segmentation group')"
      ]
     },
     "execution_count": 36,
     "metadata": {},
     "output_type": "execute_result"
    },
    {
     "data": {
      "image/png": "[encoded data removed]",
      "text/plain": [
       "<Figure size 720x360 with 1 Axes>"
      ]
     },
     "metadata": {
      "needs_background": "light"
     },
     "output_type": "display_data"
    }
   ],
   "source": [
    "plt.rcParams['figure.figsize'] = [10, 5]\n",
    "plt.rcParams.update({'font.size': 11})\n",
    "\n",
    "df_copy.groupby('Segmentation')['Work_Experience'].mean().plot(kind = 'bar', width = width)\n",
    "plt.xlabel('Segmentation')\n",
    "plt.ylabel('Average Work Experience')\n",
    "plt.title(\"Average Work Experience for each Segmentation group\")"
   ]
  },
  {
   "cell_type": "code",
   "execution_count": 37,
   "id": "1bf361b4",
   "metadata": {},
   "outputs": [],
   "source": [
    "def fill_missing(col):\n",
    "    df_copy = df.copy\n",
    "    segments = ['A', 'B', 'C', 'D'] \n",
    "    if df_copy[col].dtype == 'O':\n",
    "        mode = df_copy.groupby('Segmentation')[col].agg(pd.Series.mode)\n",
    "        if col == 'Graduated':\n",
    "            df_copy.loc[((df_copy['Age']>=18) &(df_copy['Age']<24) & (df_copy['Graduated'].isnull())), \n",
    "                        'Graduated'] = 'No'\n",
    "            for seg in segments:\n",
    "                df_copy.loc[(df_copy[col].isnull()) & \n",
    "                (df_copy['Segmentation'] == seg), col] = mode[seg]\n",
    "        else:\n",
    "            for seg in segments:\n",
    "                df_copy.loc[(df_copy[col].isnull()) & \n",
    "                (df_copy['Segmentation'] == seg), col] = mode[seg]\n",
    "    else:\n",
    "        mean = df_copy.groupby('Segmentation')[col].mean()\n",
    "        for seg in segments:\n",
    "            df_copy.loc[(df_copy[col].isnull()) & \n",
    "                (df_copy['Segmentation'] == seg), col] = mean[seg]\n",
    "\n",
    "missing = ['Ever_Married', 'Graduated', 'Profession', \n",
    "           'Work_Experience', 'Family_Size']\n"
   ]
  },
  {
   "cell_type": "code",
   "execution_count": 38,
   "id": "ed72a68d",
   "metadata": {},
   "outputs": [
    {
     "data": {
      "image/png": "[encoded data removed]",
      "text/plain": [
       "<Figure size 720x360 with 1 Axes>"
      ]
     },
     "metadata": {
      "needs_background": "light"
     },
     "output_type": "display_data"
    }
   ],
   "source": [
    "df_copy.groupby('Segmentation')['Family_Size'].mean().plot(kind = 'bar', width = width)\n",
    "plt.xlabel('Segmentation')\n",
    "plt.ylabel('Average Family Size')\n",
    "plt.title(\"Average Family Size for each Segmentation group\")\n",
    "plt.show()"
   ]
  },
  {
   "cell_type": "code",
   "execution_count": 39,
   "id": "10940520",
   "metadata": {},
   "outputs": [],
   "source": [
    "df_seg = pd.DataFrame(df_copy.groupby('Segmentation')['Spending_Score'].value_counts(normalize = True))"
   ]
  },
  {
   "cell_type": "code",
   "execution_count": 40,
   "id": "89d1c4c8",
   "metadata": {},
   "outputs": [],
   "source": [
    "df_seg.sort_index(inplace = True)"
   ]
  },
  {
   "cell_type": "code",
   "execution_count": 41,
   "id": "2cb6f900",
   "metadata": {
    "scrolled": false
   },
   "outputs": [
    {
     "data": {
      "image/png": "[encoded data removed]",
      "text/plain": [
       "<Figure size 720x360 with 1 Axes>"
      ]
     },
     "metadata": {
      "needs_background": "light"
     },
     "output_type": "display_data"
    }
   ],
   "source": [
    "df_seg.stack().unstack(level = 1).plot.bar()\n",
    "x = [0,1,2,3]\n",
    "segments = ['A', 'B', 'C', 'D']\n",
    "plt.xticks(x, segments, rotation = 'vertical')\n",
    "plt.title('Spending_Score distribution in each customer segmentation group')\n",
    "plt.legend(loc = 'upper left')\n",
    "plt.xlabel('Segmentation')\n",
    "plt.show()"
   ]
  },
  {
   "cell_type": "code",
   "execution_count": 42,
   "id": "66887738",
   "metadata": {},
   "outputs": [],
   "source": [
    "df_var = pd.DataFrame(df_copy.groupby('Segmentation')['Var_1'].value_counts(normalize = True))"
   ]
  },
  {
   "cell_type": "code",
   "execution_count": 43,
   "id": "ec9f86cd",
   "metadata": {},
   "outputs": [],
   "source": [
    "df_var = df_var.stack().unstack(level = 1)"
   ]
  },
  {
   "cell_type": "code",
   "execution_count": 48,
   "id": "45619d0f",
   "metadata": {},
   "outputs": [
    {
     "data": {
      "image/png": "[encoded data removed]",
      "text/plain": [
       "<Figure size 720x360 with 1 Axes>"
      ]
     },
     "metadata": {
      "needs_background": "light"
     },
     "output_type": "display_data"
    }
   ],
   "source": [
    "plt.rcParams.update({'font.size': 11})\n",
    "\n",
    "df_var.plot.bar()\n",
    "plt.title('Category distribution in each customer segmentation group')\n",
    "plt.xlabel('Segmentation')\n",
    "plt.show()"
   ]
  },
  {
   "cell_type": "code",
   "execution_count": 45,
   "id": "60bf04c5",
   "metadata": {},
   "outputs": [
    {
     "data": {
      "text/html": [
       "<div>\n",
       "<style scoped>\n",
       "    .dataframe tbody tr th:only-of-type {\n",
       "        vertical-align: middle;\n",
       "    }\n",
       "\n",
       "    .dataframe tbody tr th {\n",
       "        vertical-align: top;\n",
       "    }\n",
       "\n",
       "    .dataframe thead th {\n",
       "        text-align: right;\n",
       "    }\n",
       "</style>\n",
       "<table border=\"1\" class=\"dataframe\">\n",
       "  <thead>\n",
       "    <tr style=\"text-align: right;\">\n",
       "      <th></th>\n",
       "      <th>Var_1</th>\n",
       "      <th>Cat_1</th>\n",
       "      <th>Cat_2</th>\n",
       "      <th>Cat_3</th>\n",
       "      <th>Cat_4</th>\n",
       "      <th>Cat_5</th>\n",
       "      <th>Cat_6</th>\n",
       "      <th>Cat_7</th>\n",
       "    </tr>\n",
       "    <tr>\n",
       "      <th>Segmentation</th>\n",
       "      <th></th>\n",
       "      <th></th>\n",
       "      <th></th>\n",
       "      <th></th>\n",
       "      <th></th>\n",
       "      <th></th>\n",
       "      <th></th>\n",
       "      <th></th>\n",
       "    </tr>\n",
       "  </thead>\n",
       "  <tbody>\n",
       "    <tr>\n",
       "      <th>A</th>\n",
       "      <th>Var_1</th>\n",
       "      <td>0.015873</td>\n",
       "      <td>0.042499</td>\n",
       "      <td>0.114183</td>\n",
       "      <td>0.170507</td>\n",
       "      <td>0.009729</td>\n",
       "      <td>0.621096</td>\n",
       "      <td>0.026114</td>\n",
       "    </tr>\n",
       "    <tr>\n",
       "      <th>B</th>\n",
       "      <th>Var_1</th>\n",
       "      <td>0.014092</td>\n",
       "      <td>0.057453</td>\n",
       "      <td>0.100813</td>\n",
       "      <td>0.125745</td>\n",
       "      <td>0.010840</td>\n",
       "      <td>0.667751</td>\n",
       "      <td>0.023306</td>\n",
       "    </tr>\n",
       "    <tr>\n",
       "      <th>C</th>\n",
       "      <th>Var_1</th>\n",
       "      <td>0.013340</td>\n",
       "      <td>0.050795</td>\n",
       "      <td>0.079015</td>\n",
       "      <td>0.055926</td>\n",
       "      <td>0.009236</td>\n",
       "      <td>0.767573</td>\n",
       "      <td>0.024115</td>\n",
       "    </tr>\n",
       "    <tr>\n",
       "      <th>D</th>\n",
       "      <th>Var_1</th>\n",
       "      <td>0.022272</td>\n",
       "      <td>0.059688</td>\n",
       "      <td>0.115367</td>\n",
       "      <td>0.184855</td>\n",
       "      <td>0.012472</td>\n",
       "      <td>0.577728</td>\n",
       "      <td>0.027617</td>\n",
       "    </tr>\n",
       "  </tbody>\n",
       "</table>\n",
       "</div>"
      ],
      "text/plain": [
       "Var_1                  Cat_1     Cat_2     Cat_3     Cat_4     Cat_5  \\\n",
       "Segmentation                                                           \n",
       "A            Var_1  0.015873  0.042499  0.114183  0.170507  0.009729   \n",
       "B            Var_1  0.014092  0.057453  0.100813  0.125745  0.010840   \n",
       "C            Var_1  0.013340  0.050795  0.079015  0.055926  0.009236   \n",
       "D            Var_1  0.022272  0.059688  0.115367  0.184855  0.012472   \n",
       "\n",
       "Var_1                  Cat_6     Cat_7  \n",
       "Segmentation                            \n",
       "A            Var_1  0.621096  0.026114  \n",
       "B            Var_1  0.667751  0.023306  \n",
       "C            Var_1  0.767573  0.024115  \n",
       "D            Var_1  0.577728  0.027617  "
      ]
     },
     "execution_count": 45,
     "metadata": {},
     "output_type": "execute_result"
    }
   ],
   "source": [
    "df_var"
   ]
  },
  {
   "cell_type": "code",
   "execution_count": 46,
   "id": "2b3c97f9",
   "metadata": {
    "scrolled": true
   },
   "outputs": [],
   "source": [
    "df_pro = pd.DataFrame(df_copy.groupby('Segmentation')['Profession'].value_counts(normalize = True))\n",
    "df_pro = df_pro.sort_index()\n"
   ]
  },
  {
   "cell_type": "code",
   "execution_count": 47,
   "id": "e7985630",
   "metadata": {
    "scrolled": true
   },
   "outputs": [
    {
     "data": {
      "image/png": "[encoded data removed]",
      "text/plain": [
       "<Figure size 720x360 with 1 Axes>"
      ]
     },
     "metadata": {
      "needs_background": "light"
     },
     "output_type": "display_data"
    }
   ],
   "source": [
    "\n",
    "segments = ['A', 'B', 'C', 'D']\n",
    "x = [0,1,2,3]\n",
    "\n",
    "df_pro.stack().unstack(level = 1).plot.bar()\n",
    "plt.xticks(x, segments, rotation = 'vertical')\n",
    "plt.xlabel('Segmentation')\n",
    "plt.legend(loc = 'upper left')\n",
    "plt.xlabel('Segmentation')\n",
    "plt.title('Distribution of Professions in each Customer segment')\n",
    "plt.show()"
   ]
  },
  {
   "cell_type": "markdown",
   "id": "cc96c6ef",
   "metadata": {},
   "source": [
    "## Data Preprocessing"
   ]
  },
  {
   "cell_type": "code",
   "execution_count": null,
   "id": "751a9700",
   "metadata": {},
   "outputs": [],
   "source": [
    "age_cat = df_copy['Age_bins'].unique()\n",
    "df_copy['Gender'].replace({'Male': 1, \"Female\": 0}, inplace = True)\n",
    "df_copy['Spending_Score'].replace({'Low': 1, \"Average\": 2, \"High\": 3}, inplace = True)\n",
    "df_copy['Age_bins'].replace({age_cat[0]: 1, age_cat[1]: 2, age_cat[2]: 3, age_cat[3]: 4, age_cat[4]: 5}, \n",
    "                               inplace = True)\n"
   ]
  },
  {
   "cell_type": "code",
   "execution_count": null,
   "id": "0c983d75",
   "metadata": {},
   "outputs": [],
   "source": [
    "size = int(0.8 * len(df_copy))\n",
    "df_copy_tr, df_copy_test = df_copy[: size], df_copy[size :]"
   ]
  },
  {
   "cell_type": "code",
   "execution_count": null,
   "id": "b3daddf2",
   "metadata": {},
   "outputs": [],
   "source": [
    "def find_optimal_k(X_train, y_train, X_test, y_test):\n",
    "    from sklearn.neighbors import KNeighborsClassifier\n",
    "    accuracy_rate = []\n",
    "    for k in range(1,50):\n",
    "        neigh = KNeighborsClassifier(n_neighbors=k)\n",
    "        neigh.fit(X_train, y_train)\n",
    "        pred = neigh.predict(X_test)\n",
    "        accuracy_rate.append(np.mean(pred == y_test))\n",
    "    accuracy_arr = np.array(accuracy_rate)\n",
    "    max_acc = np.argmax(accuracy_arr)\n",
    "    return max_acc + 1\n",
    "\n",
    "def impute_nan(cols, dataframe):\n",
    "    df_exp = dataframe.copy()\n",
    "    if df_exp.Work_Experience.isnull().sum()>0:\n",
    "        df_exp.Work_Experience = df_exp.Work_Experience.fillna(df_exp.Work_Experience.median())\n",
    "    if df_exp.Family_Size.isnull().sum()>0:\n",
    "        df_exp.Family_Size = df_exp.Family_Size.fillna(df_exp.Family_Size.median())\n",
    "    col_names = df_exp.drop(columns = [col, 'Segmentation','ID','Family_Size',\n",
    "                                       'Work_Experience', 'Age', 'Age_bins', \n",
    "                                       'Spending_Score', 'Gender'], axis = 1).columns\n",
    "    df_with_dummies = pd.get_dummies(data=df_exp, columns= col_names)\n",
    "    df1 = df_with_dummies.dropna()\n",
    "    X_miss =  df1.drop(col, axis =1).select_dtypes([np.number])\n",
    "    y_miss = df1[col].to_numpy()\n",
    "    if df_with_dummies[col].dtypes == 'O':\n",
    "        le = LabelEncoder()\n",
    "        y_miss = le.fit_transform(y_miss)\n",
    "    scale = StandardScaler()\n",
    "    X_train, X_test, y_train, y_test = train_test_split(X_miss, y_miss, test_size = 0.2, random_state = 42)\n",
    "    X_train = scale.fit_transform(X_train)\n",
    "    X_test = scale.fit_transform(X_test)\n",
    "    k = find_optimal_k(X_train, y_train, X_test, y_test)\n",
    "    from sklearn.neighbors import KNeighborsClassifier\n",
    "    knn = KNeighborsClassifier(n_neighbors= k)\n",
    "    knn.fit(X_train, y_train)\n",
    "    df_test = df_with_dummies[df_with_dummies[col].isnull()]\n",
    "    df_test = df_test.drop(col, axis = 1)\n",
    "    df_null = df_test.dropna().select_dtypes([np.number])\n",
    "    X_null = df_null.to_numpy()\n",
    "    X_null = scale.fit_transform(X_null)\n",
    "    pred_col = knn.predict(X_null) \n",
    "    index = df_null.index\n",
    "    df_results = pd.DataFrame(columns = [col], index = index)\n",
    "    df_results['predictions'] = le.inverse_transform(pred_col)\n",
    "    df_exp.loc[df_results.index, col] = df_results.predictions\n",
    "    return df_exp\n",
    "\n",
    "cat_col = ['Ever_Married', 'Graduated', 'Profession']\n",
    "for col in cat_col:\n",
    "    df_copy_tr = impute_nan(col, df_copy_tr)\n",
    "for col in cat_col:\n",
    "    df_copy_test = impute_nan(col, df_copy_test)"
   ]
  },
  {
   "cell_type": "code",
   "execution_count": null,
   "id": "88feb048",
   "metadata": {},
   "outputs": [],
   "source": [
    "df_copy_tr['Ever_Married'].replace({'Yes': 1, 'No': 0}, inplace = True)\n",
    "df_copy_test['Ever_Married'].replace({'Yes': 1, 'No': 0}, inplace = True)\n",
    "df_copy_tr['Graduated'].replace({'Yes': 1, 'No': 0}, inplace = True)\n",
    "df_copy_test['Graduated'].replace({'Yes': 1, 'No': 0}, inplace = True)\n",
    "\n"
   ]
  },
  {
   "cell_type": "markdown",
   "id": "60704b2f",
   "metadata": {},
   "source": [
    "# Splitting the data into train and test"
   ]
  },
  {
   "cell_type": "code",
   "execution_count": null,
   "id": "b9f4498d",
   "metadata": {},
   "outputs": [],
   "source": [
    "df_train = pd.get_dummies(data = df_copy_tr, \n",
    "                           columns = ['Profession', 'Var_1']).dropna()\n",
    "df_test = pd.get_dummies(data = df_copy_test, \n",
    "                           columns = ['Profession', 'Var_1']).dropna()\n",
    "X_train = df_train.drop(['Segmentation', 'Var_1_Cat_1', 'Var_1_Cat_2', \n",
    "                         'Var_1_Cat_5', 'Var_1_Cat_6', 'Var_1_Cat_7'], axis = 1).to_numpy()\n",
    "y_train = df_train['Segmentation'].to_numpy()\n",
    "X_test = df_test.drop(['Segmentation', 'Var_1_Cat_1', 'Var_1_Cat_2', \n",
    "                       'Var_1_Cat_5', 'Var_1_Cat_6', 'Var_1_Cat_7'], axis = 1).to_numpy()\n",
    "y_test = df_test['Segmentation'].to_numpy()\n"
   ]
  },
  {
   "cell_type": "code",
   "execution_count": null,
   "id": "9f6728b3",
   "metadata": {},
   "outputs": [],
   "source": [
    "scale = StandardScaler()\n",
    "X_train = scale.fit_transform(X_train)\n",
    "X_test = scale.fit_transform(X_test)"
   ]
  },
  {
   "cell_type": "code",
   "execution_count": null,
   "id": "722d0fb9",
   "metadata": {},
   "outputs": [],
   "source": [
    "from keras.models import Sequential\n",
    "from keras.layers import Dense\n",
    "import tensorflow as tf\n",
    "from keras.wrappers.scikit_learn import KerasClassifier\n",
    "from sklearn.model_selection import KFold\n",
    "from sklearn.model_selection import cross_val_score\n",
    "from keras.models import Sequential\n",
    "from keras.layers import Dense\n",
    "from sklearn.preprocessing import PolynomialFeatures\n",
    "from sklearn.multiclass import OneVsOneClassifier\n",
    "from sklearn.svm import LinearSVC\n"
   ]
  },
  {
   "cell_type": "code",
   "execution_count": null,
   "id": "0b6c50c4",
   "metadata": {},
   "outputs": [],
   "source": [
    "accuracy = pd.DataFrame(columns  = ['Accuracy_mean', 'Precision', 'Recall', 'F1_score'], index = ['Logistic Regression', \n",
    "                                                          'SVM', 'Decision Tree', 'Xgboost', \n",
    "                                                          'Gradient Boosting Classifier', \n",
    "                                                          'Neural Network'])"
   ]
  },
  {
   "cell_type": "code",
   "execution_count": null,
   "id": "6281f0a8",
   "metadata": {},
   "outputs": [],
   "source": [
    "def fill_metrics(model, predictions):\n",
    "    accuracy.loc[model, 'Accuracy_mean'] = accuracy_score(y_test, predictions)\n",
    "    accuracy.loc[model, 'Precision'] = precision_score(y_test, predictions, average = 'weighted')\n",
    "    accuracy.loc[model, 'Recall'] = recall_score(y_test, predictions, average = 'weighted')\n",
    "    accuracy.loc[model, 'F1_score'] = f1_score(y_test, predictions, average = 'weighted')\n",
    "    return accuracy"
   ]
  },
  {
   "cell_type": "markdown",
   "id": "6bbf1eb9",
   "metadata": {},
   "source": [
    "# Model Selection"
   ]
  },
  {
   "cell_type": "code",
   "execution_count": null,
   "id": "0438b22e",
   "metadata": {},
   "outputs": [],
   "source": [
    "from sklearn.multiclass import OneVsOneClassifier\n",
    "from sklearn.svm import LinearSVC\n",
    "from sklearn.metrics import precision_score, recall_score, f1_score, accuracy_score\n",
    "\n",
    "svc_model = OneVsOneClassifier(LinearSVC(random_state=0))\n",
    "svc_model.fit(X_train, y_train)\n",
    "pred_svc = svc_model.predict(X_test)\n",
    "fill_metrics('SVM', pred_svc)"
   ]
  },
  {
   "cell_type": "code",
   "execution_count": null,
   "id": "1158ae9a",
   "metadata": {},
   "outputs": [],
   "source": [
    "lm = linear_model.LogisticRegression(multi_class='multinomial')\n",
    "from sklearn.model_selection import RandomizedSearchCV\n",
    "from scipy.stats import uniform\n",
    "distributions = dict(C=uniform(loc=0, scale=4),\n",
    "                    penalty=['l2', 'l1'], \n",
    "                     solver = ['lbfgs', 'newton-cg', 'newton-cholesky', 'sag', 'saga'])\n",
    "rand_lm = RandomizedSearchCV(lm, distributions, random_state=0)\n",
    "rand_lm.fit(X_train, y_train)\n",
    "\n",
    "pred_rand_lm = rand_lm.predict(X_test)\n",
    "rand_lm.score(X_test, y_test)\n",
    "fill_metrics('Logistic Regression', pred_rand_lm)"
   ]
  },
  {
   "cell_type": "code",
   "execution_count": null,
   "id": "7013c97e",
   "metadata": {},
   "outputs": [],
   "source": [
    "X_train.shape[1]"
   ]
  },
  {
   "cell_type": "code",
   "execution_count": null,
   "id": "e6be696a",
   "metadata": {},
   "outputs": [],
   "source": [
    "y_train[:5]"
   ]
  },
  {
   "cell_type": "code",
   "execution_count": null,
   "id": "60f3f541",
   "metadata": {},
   "outputs": [],
   "source": [
    "y_test[:5]"
   ]
  },
  {
   "cell_type": "code",
   "execution_count": null,
   "id": "9fefba21",
   "metadata": {},
   "outputs": [],
   "source": [
    "from keras.utils import to_categorical\n",
    "l_en = LabelEncoder()\n",
    "y_train = l_en.fit_transform(y_train)\n",
    "y_test = l_en.fit_transform(y_test)\n",
    "\n",
    "dummy_y_train = to_categorical(y_train)\n",
    "dummy_y_train\n",
    "dummy_y_test = to_categorical(y_test)"
   ]
  },
  {
   "cell_type": "code",
   "execution_count": null,
   "id": "c1fa1ade",
   "metadata": {},
   "outputs": [],
   "source": [
    "model = Sequential()\n",
    "model.add(Dense(100, input_dim = (X_train.shape[1]), activation = 'relu'))\n",
    "model.add(Dense(25, input_dim = (X_train.shape[1]), activation = 'relu'))\n",
    "model.add(Dense(4, activation = 'softmax'))\n",
    "\n",
    "model.compile(loss = 'categorical_crossentropy', optimizer = 'adam', metrics = ['accuracy'])\n",
    "model.fit(X_train, dummy_y_train , epochs = 150, batch_size = 1000)\n",
    "scores = model.evaluate(X_test, dummy_y_test)\n",
    "\n",
    "for i, m in enumerate(model.metrics_names):\n",
    "    print(\"\\n%s: %.3f\"% (m, scores[i]))"
   ]
  },
  {
   "cell_type": "code",
   "execution_count": null,
   "id": "b8e64177",
   "metadata": {},
   "outputs": [],
   "source": [
    "scores"
   ]
  },
  {
   "cell_type": "code",
   "execution_count": null,
   "id": "a8f0dcc4",
   "metadata": {},
   "outputs": [],
   "source": [
    "pred = model.predict(X_test)\n",
    "class_pred = np.zeros((pred.shape[0],))\n",
    "class_true = np.zeros((y_test.shape[0],))\n",
    "for i in range(len(pred)):\n",
    "    class_pred[i] = np.argmax(pred[i])\n",
    "    \n",
    "for i in range(len(y_test)):\n",
    "    class_true[i] = np.argmax(y_test[i])"
   ]
  },
  {
   "cell_type": "code",
   "execution_count": null,
   "id": "c2478ec6",
   "metadata": {},
   "outputs": [],
   "source": [
    "fill_metrics('Neural Network', class_pred)"
   ]
  },
  {
   "cell_type": "code",
   "execution_count": null,
   "id": "f579ee35",
   "metadata": {},
   "outputs": [],
   "source": [
    "from sklearn.ensemble import GradientBoostingClassifier\n",
    "from scipy.stats import uniform as sp_randFloat\n",
    "from scipy.stats import randint as sp_randInt\n",
    "clf = GradientBoostingClassifier()\n",
    "parameters = {\"learning_rate\": sp_randFloat(),\n",
    "                  \"subsample\"    : sp_randFloat(),\n",
    "                  \"n_estimators\" : sp_randInt(100, 1000),\n",
    "                  \"max_depth\"    : sp_randInt(4, 10)\n",
    "                 }\n",
    "randm_gbclf = RandomizedSearchCV(estimator=clf, param_distributions = parameters,\n",
    "                               cv = 10, n_iter = 10, n_jobs=-1)\n",
    "randm_gbclf.fit(X_train, y_train)\n",
    "randm_gbclf.best_estimator_\n",
    "model_gb = GradientBoostingClassifier(learning_rate=0.31613038970599905, max_depth=4,\n",
    "                           n_estimators=657, subsample=0.8062766936135211, random_state = 0)\n",
    "model_gb.fit(X_train, y_train)\n"
   ]
  },
  {
   "cell_type": "code",
   "execution_count": null,
   "id": "7cc9483f",
   "metadata": {},
   "outputs": [],
   "source": [
    "pred_gb = model_gb.predict(X_test)\n",
    "fill_metrics('Gradient Boosting Classifier', pred_gb)"
   ]
  },
  {
   "cell_type": "code",
   "execution_count": null,
   "id": "12b497b9",
   "metadata": {},
   "outputs": [],
   "source": [
    "from sklearn.metrics import classification_report\n",
    "label_names = ['A', 'B', 'C', 'D']\n",
    "print(classification_report(y_test, class_pred, target_names = label_names))"
   ]
  },
  {
   "cell_type": "code",
   "execution_count": null,
   "id": "28100872",
   "metadata": {},
   "outputs": [],
   "source": [
    "from sklearn import metrics\n",
    "\n",
    "confusion_matrix = metrics.confusion_matrix(y_test, class_pred)\n",
    "\n",
    "confusion_matrix"
   ]
  },
  {
   "cell_type": "code",
   "execution_count": null,
   "id": "6e8b617f",
   "metadata": {},
   "outputs": [],
   "source": [
    "class_pred"
   ]
  },
  {
   "cell_type": "code",
   "execution_count": null,
   "id": "06bec609",
   "metadata": {},
   "outputs": [],
   "source": [
    "cm_display = metrics.ConfusionMatrixDisplay(confusion_matrix = confusion_matrix, display_labels = ['A', 'B', 'C', 'D'])"
   ]
  },
  {
   "cell_type": "code",
   "execution_count": null,
   "id": "88e7661c",
   "metadata": {},
   "outputs": [],
   "source": [
    "unique, counts = np.unique(y_test, return_counts=True)\n",
    "print(np.asarray((unique, counts)).T)"
   ]
  },
  {
   "cell_type": "code",
   "execution_count": null,
   "id": "8e38e453",
   "metadata": {
    "scrolled": true
   },
   "outputs": [],
   "source": [
    "cm_display.plot()\n",
    "plt.show()"
   ]
  },
  {
   "cell_type": "code",
   "execution_count": null,
   "id": "c82df24f",
   "metadata": {},
   "outputs": [],
   "source": [
    "from sklearn.tree import DecisionTreeClassifier\n",
    "from scipy.stats import randint\n",
    "dTree_clf = DecisionTreeClassifier()\n",
    "param_dist = {\"max_depth\": range(3,10,2),\n",
    "              \"max_features\": randint(1, 9),\n",
    "              \"min_samples_leaf\": randint(1, 9),\n",
    "              \"criterion\": [\"gini\", \"entropy\"]}\n",
    "tree_cv = RandomizedSearchCV(dTree_clf, param_dist, cv=5)\n",
    "tree_cv.fit(X_train,y_train)\n",
    "pred_tree_cv = tree_cv.predict(X_test)"
   ]
  },
  {
   "cell_type": "code",
   "execution_count": null,
   "id": "ba93b59d",
   "metadata": {},
   "outputs": [],
   "source": [
    "tree_cv = RandomizedSearchCV(dTree_clf, param_dist, cv=5)"
   ]
  },
  {
   "cell_type": "code",
   "execution_count": null,
   "id": "1f37fc13",
   "metadata": {},
   "outputs": [],
   "source": [
    "tree_cv.fit(X_train,y_train)"
   ]
  },
  {
   "cell_type": "code",
   "execution_count": null,
   "id": "5d8089a9",
   "metadata": {},
   "outputs": [],
   "source": [
    "tree_cv.best_params_"
   ]
  },
  {
   "cell_type": "code",
   "execution_count": null,
   "id": "a7a4cbd7",
   "metadata": {},
   "outputs": [],
   "source": [
    "y_pred_tree_cv = tree_cv.predict(X_test)\n"
   ]
  },
  {
   "cell_type": "code",
   "execution_count": null,
   "id": "0cd44855",
   "metadata": {},
   "outputs": [],
   "source": [
    "fill_metrics('Decision Tree', y_pred_tree_cv)"
   ]
  },
  {
   "cell_type": "code",
   "execution_count": null,
   "id": "cd5ed44d",
   "metadata": {},
   "outputs": [],
   "source": [
    "from sklearn.metrics import accuracy_score"
   ]
  },
  {
   "cell_type": "code",
   "execution_count": null,
   "id": "8afc89bd",
   "metadata": {},
   "outputs": [],
   "source": [
    "import xgboost as xgb\n",
    "\n",
    "xgb_classifier = xgb.XGBClassifier()\n",
    "params = {\n",
    " 'learning_rate' : [0.05,0.10,0.15,0.20,0.25,0.30],\n",
    " 'max_depth': [ 3, 4, 5, 6, 8, 10, 12, 15],\n",
    " 'min_child_weight' : [ 1, 3, 5, 7 ],\n",
    " 'gamma': [ 0.0, 0.1, 0.2 , 0.3, 0.4 ],\n",
    " 'colsample_bytree': [ 0.3, 0.4, 0.5 , 0.7 ]\n",
    "}\n",
    "rs_model=RandomizedSearchCV(xgb_classifier,\n",
    "                            param_distributions=params,\n",
    "                            n_iter=5,scoring='accuracy',\n",
    "                            n_jobs=-1,cv=5,verbose=3)\n",
    "rs_model.fit(X_train,y_train)\n"
   ]
  },
  {
   "cell_type": "code",
   "execution_count": null,
   "id": "e54c5a3f",
   "metadata": {},
   "outputs": [],
   "source": [
    "predictions_xg = rs_model.predict(X_test)\n",
    "rs_model.score(X_test, y_test)"
   ]
  },
  {
   "cell_type": "code",
   "execution_count": null,
   "id": "84d0433c",
   "metadata": {},
   "outputs": [],
   "source": [
    "fill_metrics('Xgboost', predictions_xg)"
   ]
  },
  {
   "cell_type": "markdown",
   "id": "b9cacab7",
   "metadata": {},
   "source": [
    "# Model Evaluation"
   ]
  },
  {
   "cell_type": "code",
   "execution_count": null,
   "id": "8991d61a",
   "metadata": {},
   "outputs": [],
   "source": [
    "from sklearn import metrics\n",
    "plt.rcParams['figure.figsize'] = [15, 7]\n",
    "plt.rcParams.update({'font.size': 14})\n",
    "\n",
    "\n",
    "confusion_matrix = metrics.confusion_matrix(y_test, predictions_xg)\n",
    "cm_display = metrics.ConfusionMatrixDisplay(confusion_matrix = confusion_matrix, \n",
    "                                            display_labels = ['A', 'B', 'C', 'D'])\n",
    "\n",
    "cm_display.plot()\n",
    "plt.show()"
   ]
  },
  {
   "cell_type": "code",
   "execution_count": null,
   "id": "fbd883d0",
   "metadata": {},
   "outputs": [],
   "source": [
    "cm_display = metrics.ConfusionMatrixDisplay(confusion_matrix = confusion_matrix, display_labels = ['A', 'B', 'C', 'D'])"
   ]
  },
  {
   "cell_type": "code",
   "execution_count": null,
   "id": "b3f4591f",
   "metadata": {},
   "outputs": [],
   "source": [
    "unique, counts = np.unique(y_test, return_counts=True)\n",
    "print(np.asarray((unique, counts)).T)"
   ]
  },
  {
   "cell_type": "code",
   "execution_count": null,
   "id": "17fe8003",
   "metadata": {
    "scrolled": true
   },
   "outputs": [],
   "source": [
    "\n",
    "cm_display.plot()\n",
    "plt.show()"
   ]
  },
  {
   "cell_type": "code",
   "execution_count": null,
   "id": "a8ae02be",
   "metadata": {},
   "outputs": [],
   "source": [
    "from sklearn.metrics import classification_report\n",
    "label_names = ['A', 'B', 'C', 'D']\n",
    "print(classification_report(y_test, predictions_xg, target_names = label_names))"
   ]
  },
  {
   "cell_type": "code",
   "execution_count": null,
   "id": "8d6024c1",
   "metadata": {},
   "outputs": [],
   "source": []
  },
  {
   "cell_type": "code",
   "execution_count": null,
   "id": "5080f51b",
   "metadata": {},
   "outputs": [],
   "source": []
  }
 ],
 "metadata": {
  "kernelspec": {
   "display_name": "Python 3 (ipykernel)",
   "language": "python",
   "name": "python3"
  },
  "language_info": {
   "codemirror_mode": {
    "name": "ipython",
    "version": 3
   },
   "file_extension": ".py",
   "mimetype": "text/x-python",
   "name": "python",
   "nbconvert_exporter": "python",
   "pygments_lexer": "ipython3",
   "version": "3.10.9"
  }
 },
 "nbformat": 4,
 "nbformat_minor": 5
}
